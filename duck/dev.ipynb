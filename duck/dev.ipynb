{
 "cells": [
  {
   "cell_type": "code",
   "execution_count": 1,
   "id": "42591bef",
   "metadata": {},
   "outputs": [],
   "source": [
    "import sys\n",
    "sys.path.append('/fsx/matzeni/duck')"
   ]
  },
  {
   "cell_type": "code",
   "execution_count": 2,
   "id": "e7733e50",
   "metadata": {},
   "outputs": [],
   "source": [
    "import torch\n",
    "import h5py\n",
    "import json\n",
    "from pathlib import Path\n",
    "import pickle\n",
    "from tqdm import tqdm\n",
    "import logging\n",
    "from transformers import AutoTokenizer\n",
    "import numpy as np\n",
    "import faiss\n",
    "\n",
    "from mblink.utils.utils import EntityCatalogue\n",
    "from duck.datamodule import RelationCatalogue\n",
    "from duck.common.utils import load_json\n",
    "from duck.preprocessing.duck_index import DuckIndex\n",
    "from duck.common.utils import load_json\n",
    "\n",
    "logger = logging.getLogger()"
   ]
  },
  {
   "cell_type": "code",
   "execution_count": 3,
   "id": "fc7e52d8",
   "metadata": {},
   "outputs": [],
   "source": [
    "D = torch.randint(4, (6000000, 1250), dtype=torch.uint8).cuda()"
   ]
  },
  {
   "cell_type": "code",
   "execution_count": 4,
   "id": "dcea22ce",
   "metadata": {},
   "outputs": [],
   "source": [
    "q = torch.randint(4, (1, 1250), dtype=torch.uint8).cuda()"
   ]
  },
  {
   "cell_type": "code",
   "execution_count": 55,
   "id": "a505aa6e",
   "metadata": {},
   "outputs": [
    {
     "name": "stdout",
     "output_type": "stream",
     "text": [
      "CPU times: user 820 µs, sys: 84 µs, total: 904 µs\n",
      "Wall time: 910 µs\n"
     ]
    }
   ],
   "source": [
    "%%time\n",
    "batch_size = 1000000\n",
    "results = []\n",
    "for i in range(0, 6000000, batch_size):\n",
    "    Q = q.expand((batch_size, 1250))\n",
    "    R = D[i:i+batch_size].bitwise_xor(Q).count_nonzero(dim=-1)\n",
    "    topk = torch.topk(R, k=100, largest=False)\n",
    "    results.append(topk)"
   ]
  },
  {
   "cell_type": "code",
   "execution_count": 59,
   "id": "95e0a4f4",
   "metadata": {},
   "outputs": [
    {
     "data": {
      "text/plain": [
       "6"
      ]
     },
     "execution_count": 59,
     "metadata": {},
     "output_type": "execute_result"
    }
   ],
   "source": [
    "import math\n",
    "math.ceil(5.5)"
   ]
  },
  {
   "cell_type": "code",
   "execution_count": 60,
   "id": "e3865991",
   "metadata": {},
   "outputs": [],
   "source": [
    "res = faiss.StandardGpuResources()\n",
    "index = faiss.IndexBinaryFlat(128)\n",
    "index1 = faiss.GpuIndexBinaryFlat(res, index)\n",
    "index2 = faiss.GpuIndexBinaryFlat(res, index)"
   ]
  },
  {
   "cell_type": "code",
   "execution_count": 63,
   "id": "b3b0737c",
   "metadata": {},
   "outputs": [
    {
     "data": {
      "text/plain": [
       "array([[1., 0., 0., 0., 0., 0., 0., 0., 0., 0.],\n",
       "       [0., 1., 0., 0., 0., 0., 0., 0., 0., 0.],\n",
       "       [0., 0., 1., 0., 0., 0., 0., 0., 0., 0.],\n",
       "       [0., 0., 0., 1., 0., 0., 0., 0., 0., 0.],\n",
       "       [0., 0., 0., 0., 1., 0., 0., 0., 0., 0.],\n",
       "       [0., 0., 0., 0., 0., 1., 0., 0., 0., 0.],\n",
       "       [0., 0., 0., 0., 0., 0., 1., 0., 0., 0.],\n",
       "       [0., 0., 0., 0., 0., 0., 0., 1., 0., 0.],\n",
       "       [0., 0., 0., 0., 0., 0., 0., 0., 1., 0.],\n",
       "       [0., 0., 0., 0., 0., 0., 0., 0., 0., 1.]])"
      ]
     },
     "execution_count": 63,
     "metadata": {},
     "output_type": "execute_result"
    }
   ],
   "source": [
    "x = np.eye(10)\n",
    "x"
   ]
  },
  {
   "cell_type": "code",
   "execution_count": 73,
   "id": "32525a7a",
   "metadata": {},
   "outputs": [],
   "source": [
    "sort_permutation = np.argsort(x, axis=-1)"
   ]
  },
  {
   "cell_type": "code",
   "execution_count": 74,
   "id": "f5010fe0",
   "metadata": {},
   "outputs": [
    {
     "name": "stdout",
     "output_type": "stream",
     "text": [
      "[0. 0. 0. 0. 0. 0. 0. 0. 0. 1.]\n",
      "[0. 0. 0. 0. 0. 0. 0. 0. 0. 1.]\n",
      "[0. 0. 0. 0. 0. 0. 0. 0. 0. 1.]\n",
      "[0. 0. 0. 0. 0. 0. 0. 0. 0. 1.]\n",
      "[0. 0. 0. 0. 0. 0. 0. 0. 0. 1.]\n",
      "[0. 0. 0. 0. 0. 0. 0. 0. 0. 1.]\n",
      "[0. 0. 0. 0. 0. 0. 0. 0. 0. 1.]\n",
      "[0. 0. 0. 0. 0. 0. 0. 0. 0. 1.]\n",
      "[0. 0. 0. 0. 0. 0. 0. 0. 0. 1.]\n",
      "[0. 0. 0. 0. 0. 0. 0. 0. 0. 1.]\n"
     ]
    }
   ],
   "source": [
    "for i in range(10):\n",
    "    print(x[i][sort_permutation[i]])"
   ]
  },
  {
   "cell_type": "code",
   "execution_count": 75,
   "id": "f168220e",
   "metadata": {},
   "outputs": [
    {
     "data": {
      "text/plain": [
       "'shard03'"
      ]
     },
     "execution_count": 75,
     "metadata": {},
     "output_type": "execute_result"
    }
   ],
   "source": [
    "i = 3\n",
    "f\"shard{i:02d}.faiss\""
   ]
  },
  {
   "cell_type": "code",
   "execution_count": 76,
   "id": "4e7b8875",
   "metadata": {},
   "outputs": [
    {
     "data": {
      "text/plain": [
       "faiss.swigfaiss.Index"
      ]
     },
     "execution_count": 76,
     "metadata": {},
     "output_type": "execute_result"
    }
   ],
   "source": [
    "faiss.Index"
   ]
  },
  {
   "cell_type": "code",
   "execution_count": 86,
   "id": "89864604",
   "metadata": {},
   "outputs": [
    {
     "data": {
      "text/plain": [
       "[PosixPath('/fsx/matzeni/data/duck/properties.json')]"
      ]
     },
     "execution_count": 86,
     "metadata": {},
     "output_type": "execute_result"
    }
   ],
   "source": [
    "list(Path(\"/fsx/matzeni/data/duck\").glob(\"p*.json\"))"
   ]
  },
  {
   "cell_type": "code",
   "execution_count": null,
   "id": "7c28e0f4",
   "metadata": {},
   "outputs": [],
   "source": []
  }
 ],
 "metadata": {
  "kernelspec": {
   "display_name": "Python [conda env:duck]",
   "language": "python",
   "name": "conda-env-duck-py"
  },
  "language_info": {
   "codemirror_mode": {
    "name": "ipython",
    "version": 3
   },
   "file_extension": ".py",
   "mimetype": "text/x-python",
   "name": "python",
   "nbconvert_exporter": "python",
   "pygments_lexer": "ipython3",
   "version": "3.9.7"
  }
 },
 "nbformat": 4,
 "nbformat_minor": 5
}
