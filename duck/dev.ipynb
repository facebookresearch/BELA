{
 "cells": [
  {
   "cell_type": "code",
   "execution_count": 1,
   "id": "42591bef",
   "metadata": {},
   "outputs": [],
   "source": [
    "import sys\n",
    "sys.path.append('/fsx/matzeni/duck')"
   ]
  },
  {
   "cell_type": "code",
   "execution_count": 2,
   "id": "e7733e50",
   "metadata": {},
   "outputs": [],
   "source": [
    "import torch\n",
    "import h5py\n",
    "import json\n",
    "from pathlib import Path\n",
    "import pickle\n",
    "from tqdm import tqdm\n",
    "import logging\n",
    "from transformers import AutoTokenizer\n",
    "import numpy as np\n",
    "import faiss\n",
    "\n",
    "from mblink.utils.utils import EntityCatalogue\n",
    "from duck.datamodule import RelationCatalogue\n",
    "from duck.common.utils import load_json\n",
    "from duck.preprocessing.duck_index import DuckIndex\n",
    "from duck.common.utils import load_json\n",
    "\n",
    "logger = logging.getLogger()"
   ]
  },
  {
   "cell_type": "code",
   "execution_count": null,
   "id": "ae45da5c",
   "metadata": {},
   "outputs": [],
   "source": [
    "D = torch.randint(4, (6000000, 1250), dtype=torch.uint8).cuda()"
   ]
  },
  {
   "cell_type": "code",
   "execution_count": null,
   "id": "a97688f6",
   "metadata": {},
   "outputs": [],
   "source": [
    "q = torch.randint(4, (1, 1250), dtype=torch.uint8).cuda()"
   ]
  },
  {
   "cell_type": "code",
   "execution_count": null,
   "id": "559228c1",
   "metadata": {},
   "outputs": [],
   "source": [
    "%%time\n",
    "batch_size = 1000000\n",
    "results = []\n",
    "for i in range(0, 6000000, batch_size):\n",
    "    Q = q.expand((batch_size, 1250))\n",
    "    R = D[i:i+batch_size].bitwise_xor(Q).count_nonzero(dim=-1)\n",
    "    topk = torch.topk(R, k=100, largest=False)\n",
    "    results.append(topk)"
   ]
  },
  {
   "cell_type": "code",
   "execution_count": null,
   "id": "f7a1a201",
   "metadata": {},
   "outputs": [],
   "source": [
    "import math\n",
    "math.ceil(5.5)"
   ]
  },
  {
   "cell_type": "code",
   "execution_count": null,
   "id": "1ad1006a",
   "metadata": {},
   "outputs": [],
   "source": [
    "res = faiss.StandardGpuResources()\n",
    "index = faiss.IndexBinaryFlat(128)\n",
    "index1 = faiss.GpuIndexBinaryFlat(res, index)\n",
    "index2 = faiss.GpuIndexBinaryFlat(res, index)"
   ]
  },
  {
   "cell_type": "code",
   "execution_count": null,
   "id": "bd36b6cd",
   "metadata": {},
   "outputs": [],
   "source": [
    "x = np.eye(10)\n",
    "x"
   ]
  },
  {
   "cell_type": "code",
   "execution_count": null,
   "id": "acaa5ae2",
   "metadata": {},
   "outputs": [],
   "source": [
    "sort_permutation = np.argsort(x, axis=-1)"
   ]
  },
  {
   "cell_type": "code",
   "execution_count": null,
   "id": "62a6bd1f",
   "metadata": {},
   "outputs": [],
   "source": [
    "for i in range(10):\n",
    "    print(x[i][sort_permutation[i]])"
   ]
  },
  {
   "cell_type": "code",
   "execution_count": null,
   "id": "7e49fbad",
   "metadata": {},
   "outputs": [],
   "source": [
    "i = 3\n",
    "f\"shard{i:02d}.faiss\""
   ]
  },
  {
   "cell_type": "code",
   "execution_count": null,
   "id": "de6c3ce2",
   "metadata": {},
   "outputs": [],
   "source": [
    "faiss.Index"
   ]
  },
  {
   "cell_type": "code",
   "execution_count": null,
   "id": "ac9d1bdb",
   "metadata": {},
   "outputs": [],
   "source": [
    "list(Path(\"/fsx/matzeni/data/duck\").glob(\"p*.json\"))"
   ]
  },
  {
   "cell_type": "code",
   "execution_count": null,
   "id": "3db120e4",
   "metadata": {},
   "outputs": [],
   "source": []
  },
  {
   "cell_type": "code",
   "execution_count": null,
   "id": "14c79727",
   "metadata": {},
   "outputs": [],
   "source": [
    "pool_repr = np.eye(5)\n",
    "ent_repr = np.array([[0., 1., 0., 0., 0.]])\n",
    "not any(np.equal(pool_repr, ent_repr[0]).all(1))"
   ]
  },
  {
   "cell_type": "code",
   "execution_count": null,
   "id": "d9695d36",
   "metadata": {},
   "outputs": [],
   "source": [
    "x = {1: 'a',\n",
    "2: 'b'}"
   ]
  },
  {
   "cell_type": "code",
   "execution_count": null,
   "id": "c9364455",
   "metadata": {},
   "outputs": [],
   "source": [
    "y = dict()"
   ]
  },
  {
   "cell_type": "code",
   "execution_count": null,
   "id": "284dc428",
   "metadata": {},
   "outputs": [],
   "source": [
    "y.update(x)"
   ]
  },
  {
   "cell_type": "code",
   "execution_count": null,
   "id": "d89f0201",
   "metadata": {},
   "outputs": [],
   "source": [
    "y"
   ]
  },
  {
   "cell_type": "code",
   "execution_count": 17,
   "id": "1f023e1f",
   "metadata": {},
   "outputs": [],
   "source": [
    "empty = np.empty((0, 3), dtype=np.uint8)"
   ]
  },
  {
   "cell_type": "code",
   "execution_count": 22,
   "id": "75aafe40",
   "metadata": {},
   "outputs": [],
   "source": [
    "empty = np.concatenate([empty, np.array([[1, 2, 3]])], axis=0)"
   ]
  },
  {
   "cell_type": "code",
   "execution_count": 23,
   "id": "6feb6e4c",
   "metadata": {},
   "outputs": [
    {
     "data": {
      "text/plain": [
       "array([[1, 2, 3],\n",
       "       [1, 2, 3],\n",
       "       [1, 2, 3]])"
      ]
     },
     "execution_count": 23,
     "metadata": {},
     "output_type": "execute_result"
    }
   ],
   "source": [
    "empty"
   ]
  },
  {
   "cell_type": "code",
   "execution_count": 29,
   "id": "e26742b3",
   "metadata": {},
   "outputs": [],
   "source": [
    "et = torch.from_numpy(empty)"
   ]
  },
  {
   "cell_type": "code",
   "execution_count": 36,
   "id": "56ded224",
   "metadata": {},
   "outputs": [
    {
     "data": {
      "text/plain": [
       "device(type='cuda', index=0)"
      ]
     },
     "execution_count": 36,
     "metadata": {},
     "output_type": "execute_result"
    }
   ],
   "source": [
    "et.device"
   ]
  },
  {
   "cell_type": "code",
   "execution_count": 35,
   "id": "15554cce",
   "metadata": {},
   "outputs": [],
   "source": [
    "et = et.cuda()"
   ]
  },
  {
   "cell_type": "code",
   "execution_count": 38,
   "id": "6b608381",
   "metadata": {},
   "outputs": [
    {
     "data": {
      "text/plain": [
       "tensor([[2, 2, 2],\n",
       "        [1, 1, 1],\n",
       "        [0, 0, 0]], device='cuda:0')"
      ]
     },
     "execution_count": 38,
     "metadata": {},
     "output_type": "execute_result"
    }
   ],
   "source": [
    "torch.argsort(et, dim=0)"
   ]
  },
  {
   "cell_type": "code",
   "execution_count": 40,
   "id": "00ec72c2",
   "metadata": {},
   "outputs": [
    {
     "data": {
      "text/plain": [
       "tensor([], size=(0, 10), dtype=torch.uint8)"
      ]
     },
     "execution_count": 40,
     "metadata": {},
     "output_type": "execute_result"
    }
   ],
   "source": [
    "torch.empty((0, 10), dtype=torch.uint8)"
   ]
  },
  {
   "cell_type": "code",
   "execution_count": 41,
   "id": "05771153",
   "metadata": {},
   "outputs": [
    {
     "data": {
      "text/plain": [
       "<function _VariableFunctionsClass.equal>"
      ]
     },
     "execution_count": 41,
     "metadata": {},
     "output_type": "execute_result"
    }
   ],
   "source": [
    "torch.equal"
   ]
  },
  {
   "cell_type": "code",
   "execution_count": 51,
   "id": "5d5057e6",
   "metadata": {},
   "outputs": [],
   "source": [
    "a = torch.tensor([[1, 2, 3], [2, 3, 4]])"
   ]
  },
  {
   "cell_type": "code",
   "execution_count": 56,
   "id": "bc62278b",
   "metadata": {},
   "outputs": [
    {
     "data": {
      "text/plain": [
       "True"
      ]
     },
     "execution_count": 56,
     "metadata": {},
     "output_type": "execute_result"
    }
   ],
   "source": [
    "any((a == torch.tensor([1, 2, 3])).all(dim=-1))"
   ]
  },
  {
   "cell_type": "code",
   "execution_count": 48,
   "id": "fb05e15d",
   "metadata": {},
   "outputs": [
    {
     "data": {
      "text/plain": [
       "array([[1, 2, 3],\n",
       "       [1, 2, 3],\n",
       "       [1, 2, 3]])"
      ]
     },
     "execution_count": 48,
     "metadata": {},
     "output_type": "execute_result"
    }
   ],
   "source": [
    "empty"
   ]
  },
  {
   "cell_type": "code",
   "execution_count": 57,
   "id": "fdcdc1a9",
   "metadata": {},
   "outputs": [
    {
     "ename": "TypeError",
     "evalue": "'module' object is not callable",
     "output_type": "error",
     "traceback": [
      "\u001b[0;31m---------------------------------------------------------------------------\u001b[0m",
      "\u001b[0;31mTypeError\u001b[0m                                 Traceback (most recent call last)",
      "\u001b[0;32m/tmp/ipykernel_3830376/1928197546.py\u001b[0m in \u001b[0;36m<module>\u001b[0;34m\u001b[0m\n\u001b[0;32m----> 1\u001b[0;31m \u001b[0mtorch\u001b[0m\u001b[0;34m.\u001b[0m\u001b[0mcuda\u001b[0m\u001b[0;34m(\u001b[0m\u001b[0;34m)\u001b[0m\u001b[0;34m\u001b[0m\u001b[0;34m\u001b[0m\u001b[0m\n\u001b[0m",
      "\u001b[0;31mTypeError\u001b[0m: 'module' object is not callable"
     ]
    }
   ],
   "source": [
    "torch"
   ]
  },
  {
   "cell_type": "code",
   "execution_count": 60,
   "id": "9af5eaff",
   "metadata": {},
   "outputs": [
    {
     "data": {
      "text/plain": [
       "tensor([0., 0., 0.], device='cuda:0', dtype=torch.float64)"
      ]
     },
     "execution_count": 60,
     "metadata": {},
     "output_type": "execute_result"
    }
   ],
   "source": [
    "torch.from_numpy(np.zeros(3)).to(torch.device(\"cuda\"))"
   ]
  },
  {
   "cell_type": "code",
   "execution_count": 61,
   "id": "5ac29083",
   "metadata": {},
   "outputs": [
    {
     "data": {
      "text/plain": [
       "tensor([], device='cuda:0', size=(0, 10))"
      ]
     },
     "execution_count": 61,
     "metadata": {},
     "output_type": "execute_result"
    }
   ],
   "source": [
    "torch.empty((0, 10), device=torch.device(\"cuda\"))"
   ]
  },
  {
   "cell_type": "code",
   "execution_count": 62,
   "id": "81923252",
   "metadata": {},
   "outputs": [
    {
     "data": {
      "text/plain": [
       "frozenset()"
      ]
     },
     "execution_count": 62,
     "metadata": {},
     "output_type": "execute_result"
    }
   ],
   "source": [
    "frozenset()"
   ]
  },
  {
   "cell_type": "code",
   "execution_count": 88,
   "id": "cf0df712",
   "metadata": {},
   "outputs": [],
   "source": [
    "index = faiss.IndexBinaryFlat(128)\n",
    "res = faiss.StandardGpuResources()\n",
    "index = faiss.GpuIndexBinaryFlat(res, index)"
   ]
  },
  {
   "cell_type": "code",
   "execution_count": 69,
   "id": "d6a75ac2",
   "metadata": {},
   "outputs": [],
   "source": [
    "index.add(np.eye(16, dtype=np.uint8))"
   ]
  },
  {
   "cell_type": "code",
   "execution_count": 95,
   "id": "2674dbcf",
   "metadata": {},
   "outputs": [
    {
     "data": {
      "text/plain": [
       "['__class__',\n",
       " '__delattr__',\n",
       " '__dict__',\n",
       " '__dir__',\n",
       " '__doc__',\n",
       " '__eq__',\n",
       " '__format__',\n",
       " '__ge__',\n",
       " '__getattribute__',\n",
       " '__gt__',\n",
       " '__hash__',\n",
       " '__init__',\n",
       " '__init_subclass__',\n",
       " '__le__',\n",
       " '__lt__',\n",
       " '__module__',\n",
       " '__ne__',\n",
       " '__new__',\n",
       " '__reduce__',\n",
       " '__reduce_ex__',\n",
       " '__repr__',\n",
       " '__setattr__',\n",
       " '__sizeof__',\n",
       " '__str__',\n",
       " '__subclasshook__',\n",
       " '__swig_destroy__',\n",
       " '__weakref__',\n",
       " 'add',\n",
       " 'add_c',\n",
       " 'add_with_ids',\n",
       " 'add_with_ids_c',\n",
       " 'assign',\n",
       " 'code_size',\n",
       " 'copyFrom',\n",
       " 'copyTo',\n",
       " 'd',\n",
       " 'display',\n",
       " 'getDevice',\n",
       " 'getResources',\n",
       " 'is_trained',\n",
       " 'metric_type',\n",
       " 'ntotal',\n",
       " 'range_search',\n",
       " 'range_search_c',\n",
       " 'reconstruct',\n",
       " 'reconstruct_c',\n",
       " 'reconstruct_n',\n",
       " 'remove_ids',\n",
       " 'remove_ids_c',\n",
       " 'reset',\n",
       " 'search',\n",
       " 'search_and_reconstruct',\n",
       " 'search_c',\n",
       " 'this',\n",
       " 'thisown',\n",
       " 'train',\n",
       " 'train_c',\n",
       " 'verbose']"
      ]
     },
     "execution_count": 95,
     "metadata": {},
     "output_type": "execute_result"
    }
   ],
   "source": [
    "dir(index)"
   ]
  },
  {
   "cell_type": "code",
   "execution_count": 96,
   "id": "ebdd4d1d",
   "metadata": {},
   "outputs": [],
   "source": [
    "a = set([frozenset([1, 2, 3]), frozenset([3, 4, 5])])"
   ]
  },
  {
   "cell_type": "code",
   "execution_count": 98,
   "id": "8d2170cf",
   "metadata": {},
   "outputs": [
    {
     "data": {
      "text/plain": [
       "False"
      ]
     },
     "execution_count": 98,
     "metadata": {},
     "output_type": "execute_result"
    }
   ],
   "source": [
    "frozenset([2, 2, 1]) in a"
   ]
  },
  {
   "cell_type": "code",
   "execution_count": null,
   "id": "85568b3f",
   "metadata": {},
   "outputs": [],
   "source": []
  }
 ],
 "metadata": {
  "kernelspec": {
   "display_name": "Python [conda env:duck]",
   "language": "python",
   "name": "conda-env-duck-py"
  },
  "language_info": {
   "codemirror_mode": {
    "name": "ipython",
    "version": 3
   },
   "file_extension": ".py",
   "mimetype": "text/x-python",
   "name": "python",
   "nbconvert_exporter": "python",
   "pygments_lexer": "ipython3",
   "version": "3.9.7"
  }
 },
 "nbformat": 4,
 "nbformat_minor": 5
}
