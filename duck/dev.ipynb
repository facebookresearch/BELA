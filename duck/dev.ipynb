{
 "cells": [
  {
   "cell_type": "code",
   "execution_count": null,
   "id": "dcfd541c",
   "metadata": {},
   "outputs": [],
   "source": [
    "import torch\n",
    "import h5py\n",
    "import json\n",
    "from pathlib import Path\n",
    "import pickle\n",
    "from tqdm import tqdm\n",
    "import logging\n",
    "from transformers import AutoTokenizer\n",
    "\n",
    "logger = logging.getLogger()"
   ]
  },
  {
   "cell_type": "code",
   "execution_count": null,
   "id": "209f2e02",
   "metadata": {},
   "outputs": [],
   "source": [
    "kilt_kb_path = '/fsx/matzeni/data/kilt_knowledgesource.json'\n",
    "with open(kilt_kb_path, 'r') as f:\n",
    "    kilt_kb = [json.loads(line.strip()) for line in tqdm(f.readlines())]"
   ]
  },
  {
   "cell_type": "code",
   "execution_count": null,
   "id": "1d0da52c",
   "metadata": {},
   "outputs": [],
   "source": [
    "tokenizer = AutoTokenizer.from_pretrained('bert-large-uncased')"
   ]
  },
  {
   "cell_type": "code",
   "execution_count": null,
   "id": "93ad5d80",
   "metadata": {},
   "outputs": [],
   "source": [
    "kilt_kb[0]['text'][:10]"
   ]
  },
  {
   "cell_type": "code",
   "execution_count": null,
   "id": "0eddf4ec",
   "metadata": {},
   "outputs": [],
   "source": []
  }
 ],
 "metadata": {
  "kernelspec": {
   "display_name": "Python [conda env:duck]",
   "language": "python",
   "name": "conda-env-duck-py"
  },
  "language_info": {
   "codemirror_mode": {
    "name": "ipython",
    "version": 3
   },
   "file_extension": ".py",
   "mimetype": "text/x-python",
   "name": "python",
   "nbconvert_exporter": "python",
   "pygments_lexer": "ipython3",
   "version": "3.9.7"
  }
 },
 "nbformat": 4,
 "nbformat_minor": 5
}
