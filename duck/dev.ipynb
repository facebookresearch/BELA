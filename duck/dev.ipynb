{
 "cells": [
  {
   "cell_type": "code",
   "execution_count": 1,
   "id": "42591bef",
   "metadata": {},
   "outputs": [],
   "source": [
    "import sys\n",
    "sys.path.append('/fsx/matzeni/duck')"
   ]
  },
  {
   "cell_type": "code",
   "execution_count": 2,
   "id": "e7733e50",
   "metadata": {},
   "outputs": [],
   "source": [
    "import torch\n",
    "import h5py\n",
    "import json\n",
    "from pathlib import Path\n",
    "import pickle\n",
    "from tqdm import tqdm\n",
    "import logging\n",
    "from transformers import AutoTokenizer\n",
    "import numpy as np\n",
    "import faiss\n",
    "\n",
    "from mblink.utils.utils import EntityCatalogue\n",
    "from duck.datamodule import RelationCatalogue\n",
    "from duck.common.utils import load_json\n",
    "from duck.preprocessing.duck_index import DuckIndex\n",
    "\n",
    "logger = logging.getLogger()"
   ]
  },
  {
   "cell_type": "code",
   "execution_count": 32,
   "id": "ecaefb02",
   "metadata": {},
   "outputs": [],
   "source": [
    "ent_catalogue = EntityCatalogue(\n",
    "    '/fsx/matzeni/data/duck/bert_ent_256.h5',\n",
    "    '/fsx/matzeni/data/duck/bert_ent_256_idx.txt'\n",
    ")\n",
    "rel_catalogue = RelationCatalogue(\n",
    "    '/fsx/matzeni/data/duck/bert_rel_256.h5',\n",
    "    '/fsx/matzeni/data/duck/bert_rel_256_idx.txt'\n",
    ")\n",
    "ent_to_rel = load_json(\n",
    "    '/fsx/matzeni/data/duck/ent_to_rel.json'\n",
    ")"
   ]
  },
  {
   "cell_type": "code",
   "execution_count": 35,
   "id": "091b7f72",
   "metadata": {},
   "outputs": [],
   "source": [
    "entities = list(ent_catalogue.idx.keys())\n",
    "relations = list(rel_catalogue.idx.keys())\n",
    "duck_index = DuckIndex(entities, relations, ent_to_rel, gpu=False)"
   ]
  },
  {
   "cell_type": "code",
   "execution_count": 36,
   "id": "05a28941",
   "metadata": {},
   "outputs": [],
   "source": [
    "duck_index.load(\"/fsx/matzeni/data/duck/duck_index_flat.faiss\")"
   ]
  },
  {
   "cell_type": "code",
   "execution_count": 43,
   "id": "1706f69e",
   "metadata": {},
   "outputs": [
    {
     "name": "stderr",
     "output_type": "stream",
     "text": [
      "100%|███████████████████████████████████████████████████████████████████████████████████████████████████████████████████████████████████████| 1/1 [00:17<00:00, 17.46s/it]\n"
     ]
    },
    {
     "data": {
      "text/plain": [
       "{'Italy': ['Portugal', 'Norway', 'Poland', 'Spain'],\n",
       " 'Donald Trump': ['Trump Donald',\n",
       "  \"Donald J. Trump's\",\n",
       "  'Joe Biden',\n",
       "  'Clinton hillary'],\n",
       " 'Cristiano Ronaldo': ['Lionel Messi', 'Gerard Piqué', 'Neymar', 'Ronaldinho'],\n",
       " 'Justin Bieber': ['Bieber Justin',\n",
       "  'Harry Styles',\n",
       "  'Chris Brown',\n",
       "  'Ed Sheeran'],\n",
       " 'London': ['Istanbul', 'Madrid', 'Stockholm', 'Istanbul Province'],\n",
       " 'Lion': ['Tiger', 'Leopard', 'Cheetah', 'Jaguar']}"
      ]
     },
     "execution_count": 43,
     "metadata": {},
     "output_type": "execute_result"
    }
   ],
   "source": [
    "duck_index.search([\n",
    "    \"Italy\",\n",
    "    \"Donald Trump\",\n",
    "    \"Cristiano Ronaldo\",\n",
    "    \"Justin Bieber\",\n",
    "    \"London\",\n",
    "    \"Lion\"\n",
    "], k=4)"
   ]
  },
  {
   "cell_type": "code",
   "execution_count": 9,
   "id": "5670bbf5",
   "metadata": {},
   "outputs": [],
   "source": [
    "res = faiss.StandardGpuResources()"
   ]
  },
  {
   "cell_type": "code",
   "execution_count": 54,
   "id": "92d24eea",
   "metadata": {},
   "outputs": [
    {
     "ename": "TypeError",
     "evalue": "Wrong number or type of arguments for overloaded function 'index_cpu_to_gpu'.\n  Possible C/C++ prototypes are:\n    faiss::gpu::index_cpu_to_gpu(faiss::gpu::GpuResourcesProvider *,int,faiss::Index const *,faiss::gpu::GpuClonerOptions const *)\n    faiss::gpu::index_cpu_to_gpu(faiss::gpu::GpuResourcesProvider *,int,faiss::Index const *)\n",
     "output_type": "error",
     "traceback": [
      "\u001b[0;31m---------------------------------------------------------------------------\u001b[0m",
      "\u001b[0;31mTypeError\u001b[0m                                 Traceback (most recent call last)",
      "\u001b[0;32m/tmp/ipykernel_4182873/1707873217.py\u001b[0m in \u001b[0;36m<module>\u001b[0;34m\u001b[0m\n\u001b[1;32m      1\u001b[0m \u001b[0mindex\u001b[0m \u001b[0;34m=\u001b[0m \u001b[0mfaiss\u001b[0m\u001b[0;34m.\u001b[0m\u001b[0mIndexBinaryHNSW\u001b[0m\u001b[0;34m(\u001b[0m\u001b[0;36m8888\u001b[0m\u001b[0;34m,\u001b[0m \u001b[0;36m16\u001b[0m\u001b[0;34m)\u001b[0m\u001b[0;34m\u001b[0m\u001b[0;34m\u001b[0m\u001b[0m\n\u001b[0;32m----> 2\u001b[0;31m \u001b[0mfaiss\u001b[0m\u001b[0;34m.\u001b[0m\u001b[0mindex_cpu_to_gpu\u001b[0m\u001b[0;34m(\u001b[0m\u001b[0mres\u001b[0m\u001b[0;34m,\u001b[0m \u001b[0;36m0\u001b[0m\u001b[0;34m,\u001b[0m \u001b[0mindex\u001b[0m\u001b[0;34m)\u001b[0m\u001b[0;34m\u001b[0m\u001b[0;34m\u001b[0m\u001b[0m\n\u001b[0m",
      "\u001b[0;32m/fsx/matzeni/anconda3/envs/duck/lib/python3.9/site-packages/faiss/swigfaiss.py\u001b[0m in \u001b[0;36mindex_cpu_to_gpu\u001b[0;34m(provider, device, index, options)\u001b[0m\n\u001b[1;32m  10273\u001b[0m \u001b[0;32mdef\u001b[0m \u001b[0mindex_cpu_to_gpu\u001b[0m\u001b[0;34m(\u001b[0m\u001b[0mprovider\u001b[0m\u001b[0;34m,\u001b[0m \u001b[0mdevice\u001b[0m\u001b[0;34m,\u001b[0m \u001b[0mindex\u001b[0m\u001b[0;34m,\u001b[0m \u001b[0moptions\u001b[0m\u001b[0;34m=\u001b[0m\u001b[0;32mNone\u001b[0m\u001b[0;34m)\u001b[0m\u001b[0;34m:\u001b[0m\u001b[0;34m\u001b[0m\u001b[0;34m\u001b[0m\u001b[0m\n\u001b[1;32m  10274\u001b[0m     \u001b[0;34mr\"\"\" converts any CPU index that can be converted to GPU\"\"\"\u001b[0m\u001b[0;34m\u001b[0m\u001b[0;34m\u001b[0m\u001b[0m\n\u001b[0;32m> 10275\u001b[0;31m     \u001b[0;32mreturn\u001b[0m \u001b[0m_swigfaiss\u001b[0m\u001b[0;34m.\u001b[0m\u001b[0mindex_cpu_to_gpu\u001b[0m\u001b[0;34m(\u001b[0m\u001b[0mprovider\u001b[0m\u001b[0;34m,\u001b[0m \u001b[0mdevice\u001b[0m\u001b[0;34m,\u001b[0m \u001b[0mindex\u001b[0m\u001b[0;34m,\u001b[0m \u001b[0moptions\u001b[0m\u001b[0;34m)\u001b[0m\u001b[0;34m\u001b[0m\u001b[0;34m\u001b[0m\u001b[0m\n\u001b[0m\u001b[1;32m  10276\u001b[0m \u001b[0;34m\u001b[0m\u001b[0m\n\u001b[1;32m  10277\u001b[0m \u001b[0;32mdef\u001b[0m \u001b[0mindex_cpu_to_gpu_multiple\u001b[0m\u001b[0;34m(\u001b[0m\u001b[0mprovider\u001b[0m\u001b[0;34m,\u001b[0m \u001b[0mdevices\u001b[0m\u001b[0;34m,\u001b[0m \u001b[0mindex\u001b[0m\u001b[0;34m,\u001b[0m \u001b[0moptions\u001b[0m\u001b[0;34m=\u001b[0m\u001b[0;32mNone\u001b[0m\u001b[0;34m)\u001b[0m\u001b[0;34m:\u001b[0m\u001b[0;34m\u001b[0m\u001b[0;34m\u001b[0m\u001b[0m\n",
      "\u001b[0;31mTypeError\u001b[0m: Wrong number or type of arguments for overloaded function 'index_cpu_to_gpu'.\n  Possible C/C++ prototypes are:\n    faiss::gpu::index_cpu_to_gpu(faiss::gpu::GpuResourcesProvider *,int,faiss::Index const *,faiss::gpu::GpuClonerOptions const *)\n    faiss::gpu::index_cpu_to_gpu(faiss::gpu::GpuResourcesProvider *,int,faiss::Index const *)\n"
     ]
    }
   ],
   "source": [
    "index = faiss.IndexBinaryHNSW(8888, 16)\n",
    "faiss.index_cpu_to_gpu(res, 0, index)"
   ]
  },
  {
   "cell_type": "code",
   "execution_count": 63,
   "id": "e08235da",
   "metadata": {},
   "outputs": [],
   "source": [
    "index_hnsw_float = faiss.IndexHNSWFlat(d, 16)\n",
    "index_hnsw_ref = faiss.IndexBinaryFromFloat(index_hnsw_float)"
   ]
  },
  {
   "cell_type": "code",
   "execution_count": 31,
   "id": "ed291f99",
   "metadata": {},
   "outputs": [],
   "source": [
    "d = 888\n",
    "index = faiss.index_binary_factory(d, \"BHash4x32\")"
   ]
  },
  {
   "cell_type": "code",
   "execution_count": null,
   "id": "1064c622",
   "metadata": {},
   "outputs": [],
   "source": []
  },
  {
   "cell_type": "code",
   "execution_count": null,
   "id": "b11375a1",
   "metadata": {},
   "outputs": [],
   "source": [
    "list(ent_catalogue.idx.values()) == list(range(len(ent_catalogue)))"
   ]
  },
  {
   "cell_type": "code",
   "execution_count": null,
   "id": "3a85d2b7",
   "metadata": {},
   "outputs": [],
   "source": [
    "nrels = len(rel_catalogue)\n",
    "dim = nrels\n",
    "if nrels % 8 != 0:\n",
    "    dim = nrels + 8 - (nrels % 8)\n",
    "base_index = faiss.IndexBinaryFlat(dim)\n",
    "index = faiss.GpuIndexBinaryFlat(res, base_index)\n",
    "\n",
    "eye = np.eye(dim).astype(np.uint8)\n",
    "one_hots = []\n",
    "repr_to_ent = {}\n",
    "\n",
    "for i, e in tqdm(enumerate(ent_to_rel), total=30000):\n",
    "    rels = ent_to_rel[e]\n",
    "    indexes = [rel_catalogue[r][0] for r in rels]\n",
    "    one_hot = np.sum(eye[indexes], axis=0)\n",
    "    one_hots.append(one_hot)\n",
    "    repr_to_ent[one_hot.tobytes()] = e # this is a bug\n",
    "    if (i + 1) % 5000 == 0:\n",
    "        data = np.stack(one_hots)\n",
    "        data = np.packbits(data, axis=-1)\n",
    "        index.add(data)\n",
    "        one_hots = []\n",
    "    if (i + 1) % 30000 == 0:\n",
    "        break"
   ]
  },
  {
   "cell_type": "code",
   "execution_count": null,
   "id": "a33ec4c8",
   "metadata": {},
   "outputs": [],
   "source": [
    "faiss.write_index(base_index, \"index.faiss\")"
   ]
  },
  {
   "cell_type": "code",
   "execution_count": null,
   "id": "d67a1d81",
   "metadata": {},
   "outputs": [],
   "source": [
    "index.copyTo(base_index)"
   ]
  },
  {
   "cell_type": "code",
   "execution_count": null,
   "id": "95829229",
   "metadata": {},
   "outputs": [],
   "source": [
    "base_index.ntotal"
   ]
  },
  {
   "cell_type": "code",
   "execution_count": null,
   "id": "e10e934f",
   "metadata": {},
   "outputs": [],
   "source": [
    "all_ents = list(ent_to_rel.keys())"
   ]
  },
  {
   "cell_type": "code",
   "execution_count": null,
   "id": "d93d4b9a",
   "metadata": {},
   "outputs": [],
   "source": [
    "ent = all_ents[3]\n",
    "print(ent)\n",
    "rels = ent_to_rel[ent]\n",
    "indexes = [rel_catalogue[r][0] for r in rels]\n",
    "one_hot = np.sum(eye[indexes], axis=0)\n",
    "key = np.packbits(one_hot)\n",
    "key = np.expand_dims(key, axis=0)\n",
    "\n",
    "D, I = index.search(key, k=4)\n",
    "I"
   ]
  },
  {
   "cell_type": "code",
   "execution_count": null,
   "id": "e4b1ccc0",
   "metadata": {},
   "outputs": [],
   "source": [
    "d = 1000                           # dimension\n",
    "nb = 500000                      # database size\n",
    "nq = 10000                       # nb of queries\n",
    "np.random.seed(1234)             # make reproducible\n",
    "xb = np.random.randint(2, size=(nb, d)).astype(np.uint8)\n",
    "xq = np.random.randint(2, size=(nq, d)).astype(np.uint8)"
   ]
  },
  {
   "cell_type": "code",
   "execution_count": null,
   "id": "737e35e1",
   "metadata": {},
   "outputs": [],
   "source": [
    "xb = np.packbits(xb, axis=-1)\n",
    "xq = np.packbits(xq, axis=-1)"
   ]
  },
  {
   "cell_type": "code",
   "execution_count": null,
   "id": "357e7acb",
   "metadata": {},
   "outputs": [],
   "source": [
    "gpu_index_flat.d"
   ]
  },
  {
   "cell_type": "code",
   "execution_count": null,
   "id": "f5753c3c",
   "metadata": {},
   "outputs": [],
   "source": [
    "xb.shape"
   ]
  },
  {
   "cell_type": "code",
   "execution_count": null,
   "id": "70e4e02b",
   "metadata": {},
   "outputs": [],
   "source": [
    "torch.cuda.is_available()"
   ]
  },
  {
   "cell_type": "code",
   "execution_count": null,
   "id": "d01254b0",
   "metadata": {},
   "outputs": [],
   "source": [
    "!nvidia-smi"
   ]
  },
  {
   "cell_type": "code",
   "execution_count": null,
   "id": "d83e66a0",
   "metadata": {},
   "outputs": [],
   "source": [
    "gpu_index_flat.add(xb)         # add vectors to the index\n",
    "print(gpu_index_flat.ntotal)\n",
    "\n",
    "k = 4                          # we want to see 4 nearest neighbors\n",
    "D, I = gpu_index_flat.search(xq, k)  # actual search\n",
    "print(I[:5])                   # neighbors of the 5 first queries\n",
    "print(I[-5:]) "
   ]
  },
  {
   "cell_type": "code",
   "execution_count": null,
   "id": "79c2b38a",
   "metadata": {},
   "outputs": [],
   "source": [
    "a = (np.eye(10)[[1, 3, 8]]).tolist()\n",
    "a = np.stack([np.array(row) for row in a])\n",
    "for r in a:\n",
    "    print(r.shape)"
   ]
  },
  {
   "cell_type": "code",
   "execution_count": null,
   "id": "3a328252",
   "metadata": {},
   "outputs": [],
   "source": [
    "onehot_to_ent = {}\n",
    "onehot_to_ent[a] = 'ciao'"
   ]
  },
  {
   "cell_type": "code",
   "execution_count": null,
   "id": "da7f4475",
   "metadata": {},
   "outputs": [],
   "source": [
    "b = np.eye(5)[0].tobytes()"
   ]
  },
  {
   "cell_type": "code",
   "execution_count": null,
   "id": "407a5962",
   "metadata": {},
   "outputs": [],
   "source": [
    "b"
   ]
  },
  {
   "cell_type": "code",
   "execution_count": null,
   "id": "aaaa236b",
   "metadata": {},
   "outputs": [],
   "source": []
  }
 ],
 "metadata": {
  "kernelspec": {
   "display_name": "Python [conda env:duck]",
   "language": "python",
   "name": "conda-env-duck-py"
  },
  "language_info": {
   "codemirror_mode": {
    "name": "ipython",
    "version": 3
   },
   "file_extension": ".py",
   "mimetype": "text/x-python",
   "name": "python",
   "nbconvert_exporter": "python",
   "pygments_lexer": "ipython3",
   "version": "3.9.7"
  }
 },
 "nbformat": 4,
 "nbformat_minor": 5
}
