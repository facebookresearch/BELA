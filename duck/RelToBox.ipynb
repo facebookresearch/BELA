{
 "cells": [
  {
   "cell_type": "code",
   "execution_count": 1,
   "id": "ce3900a0",
   "metadata": {},
   "outputs": [],
   "source": [
    "import sys\n",
    "sys.path.append('/fsx/matzeni/duck')"
   ]
  },
  {
   "cell_type": "code",
   "execution_count": 2,
   "id": "a9dd6d31",
   "metadata": {},
   "outputs": [],
   "source": [
    "import torch\n",
    "import h5py\n",
    "import json\n",
    "from pathlib import Path\n",
    "import pickle\n",
    "from tqdm import tqdm\n",
    "import logging\n",
    "from transformers import AutoTokenizer\n",
    "from typing import Any, Dict, List, Optional, Tuple\n",
    "import copy\n",
    "from einops import rearrange, repeat\n",
    "import numpy as np\n",
    "from duck.box_tensors import BoxTensor\n",
    "from duck.box_tensors.volume import Volume\n",
    "from duck.box_tensors.intersection import Intersection\n",
    "from duck.task.duck_entity_disambiguation import Duck\n",
    "from duck.task import RelToBox\n",
    "from hydra import compose, initialize\n",
    "import hydra\n",
    "from duck.common.utils import make_reproducible\n",
    "import collections\n",
    "import logging\n",
    "import math\n",
    "from omegaconf import open_dict\n",
    "logger = logging.getLogger()\n",
    "from torchmetrics import PearsonCorrCoef\n",
    "import matplotlib.pyplot as plt\n",
    "import seaborn as sns\n",
    "import torchmetrics\n",
    "from matplotlib.colors import LogNorm\n",
    "from pprint import pprint\n",
    "import pandas as pd\n",
    "import duck"
   ]
  },
  {
   "cell_type": "code",
   "execution_count": 3,
   "id": "22a6086b",
   "metadata": {},
   "outputs": [],
   "source": [
    "plt.rcParams['axes.labelsize'] = 'large'\n",
    "plt.rcParams['axes.titlesize'] = 'x-large'\n",
    "plt.rcParams['xtick.labelsize'] = 'medium'\n",
    "plt.rcParams['ytick.labelsize'] = 'medium'\n",
    "plt.rcParams['axes.spines.left'] = False\n",
    "plt.rcParams['axes.spines.right'] = False\n",
    "plt.rcParams['axes.spines.top'] = False\n",
    "plt.rcParams['axes.spines.bottom'] = False\n",
    "plt.rcParams['axes.grid'] = True\n",
    "plt.rcParams['grid.color'] = \"#dbdbdb\""
   ]
  },
  {
   "cell_type": "code",
   "execution_count": 4,
   "id": "6caacc57",
   "metadata": {},
   "outputs": [
    {
     "data": {
      "text/plain": [
       "hydra.initialize()"
      ]
     },
     "execution_count": 4,
     "metadata": {},
     "output_type": "execute_result"
    }
   ],
   "source": [
    "initialize(config_path=\"conf\", version_base=None)"
   ]
  },
  {
   "cell_type": "code",
   "execution_count": 5,
   "id": "530f9b01",
   "metadata": {},
   "outputs": [],
   "source": [
    "def batch_to_cuda(batch):\n",
    "    if isinstance(batch, torch.Tensor):\n",
    "        return batch.cuda()\n",
    "    if isinstance(batch, collections.abc.Mapping):\n",
    "        return {k: batch_to_cuda(v) for k, v in batch.items()}\n",
    "    if isinstance(batch, str):\n",
    "        return batch\n",
    "    if isinstance(batch, collections.abc.Sequence):\n",
    "        return [batch_to_cuda(v) for v in batch]\n",
    "    return batch"
   ]
  },
  {
   "cell_type": "code",
   "execution_count": 6,
   "id": "0fcbed71",
   "metadata": {},
   "outputs": [],
   "source": [
    "config = compose(\n",
    "    config_name=\"rel_to_box\",\n",
    "    overrides=[\n",
    "        \"data.num_workers=1\",\n",
    "        \"data.rel_catalogue_idx_path=/fsx/matzeni/data/duck/rel_idx.txt\",\n",
    "        #\"data.target_prob_threshold=0\"\n",
    "        # \"data.rel_catalogue_idx_path=/fsx/matzeni/data/duck/sample_aida_rels.txt\"\n",
    "    ]\n",
    ")"
   ]
  },
  {
   "cell_type": "code",
   "execution_count": 7,
   "id": "cc524415",
   "metadata": {},
   "outputs": [],
   "source": [
    "make_reproducible(ngpus=config.trainer.devices)"
   ]
  },
  {
   "cell_type": "code",
   "execution_count": 8,
   "id": "7e6e61fc",
   "metadata": {},
   "outputs": [],
   "source": [
    "datamodule = hydra.utils.instantiate(config.data)"
   ]
  },
  {
   "cell_type": "code",
   "execution_count": 9,
   "id": "fcfd9746",
   "metadata": {},
   "outputs": [
    {
     "name": "stdout",
     "output_type": "stream",
     "text": [
      "Loading /checkpoints/matzeni/duck/checkpoints/r2b_wd/r2b_wd_gauss_margin_threshold_epoch=59_kldiv_train=0.0274_last.ckpt\n",
      "Loading /checkpoints/matzeni/duck/checkpoints/r2b_wd/r2b_wd_uniform_epoch=152_kldiv_train=0.0136_last.ckpt\n",
      "Loading /checkpoints/matzeni/duck/checkpoints/r2b_wd/r2b_wd_sigmoid_threshold_epoch=59_kldiv_train=0.0348_last.ckpt\n",
      "Loading /checkpoints/matzeni/duck/checkpoints/r2b_wd/r2b_wd_sigmoid_noinit_epoch=182_kldiv_train=0.0035_last.ckpt\n",
      "Loading /checkpoints/matzeni/duck/checkpoints/r2b_wd/r2b_wd_gauss_margin_epoch=193_kldiv_train=0.0009.ckpt\n",
      "\n",
      "Model names\n",
      "r2b_wd_gauss_margin_threshold\n",
      "r2b_wd_uniform\n",
      "r2b_wd_sigmoid_noinit_threshold\n",
      "r2b_wd_sigmoid_noinit\n",
      "r2b_wd_gauss_margin\n"
     ]
    }
   ],
   "source": [
    "ckpt_dir_path = \"/checkpoints/matzeni/duck/checkpoints/r2b_wd\"\n",
    "r2b_models = {}\n",
    "for ckpt_path in Path(ckpt_dir_path).glob(\"*.ckpt\"):\n",
    "    print(f\"Loading {str(ckpt_path)}\")\n",
    "    rel_to_box = RelToBox.load_from_checkpoint(ckpt_path).eval().cuda()\n",
    "    key = rel_to_box.config.run_name\n",
    "    if \"threshold\" in str(ckpt_path.stem):\n",
    "        key = key + \"_threshold\"\n",
    "    r2b_models[key] = rel_to_box\n",
    "\n",
    "print()\n",
    "print(\"Model names\")\n",
    "print(\"\\n\".join(r2b_models.keys()))"
   ]
  },
  {
   "cell_type": "code",
   "execution_count": 11,
   "id": "7398fa2a",
   "metadata": {},
   "outputs": [],
   "source": [
    "# name_map = {\n",
    "#     \"r2b_aida_sigmoid\": \"Sigmoid parametrization\",\n",
    "#     \"r2b_aida_uniform\": \"Uniform initialization\",\n",
    "#     \"r2b_aida_softplus\": \"Softplus parametrization\",\n",
    "#     \"r2b_aida_sigmoid+gaussian\": \"Sigmoid + Gaussian initialization\",\n",
    "#     \"r2b_aida_gauss_margin\": \"Gaussian margin initialization\"\n",
    "# }\n",
    "\n",
    "name_map = {\n",
    "    \"r2b_wd_sigmoid_noinit\": \"Sigmoid parametrization\",\n",
    "    \"r2b_wd_uniform\": \"Uniform initialization\",\n",
    "    \"r2b_wd_gauss_margin\": \"Gaussian margin initialization\",\n",
    "    \"r2b_wd_gauss_margin_threshold\": \"Gaussian margin + fine-tuning\",\n",
    "    \"r2b_wd_sigmoid_noinit_threshold\": \"Sigmoid + fine-tuning\"\n",
    "}\n",
    "\n",
    "\n",
    "r2b_models = {name_map[k]: v for k, v in r2b_models.items()}"
   ]
  },
  {
   "cell_type": "code",
   "execution_count": 12,
   "id": "8b5478eb",
   "metadata": {},
   "outputs": [],
   "source": [
    "def compute_predictions(model, dataloader):\n",
    "    log_predictions = []\n",
    "    targets = []\n",
    "    with torch.no_grad():\n",
    "        for batch in tqdm(dataloader):\n",
    "            batch = batch_to_cuda(batch)\n",
    "            rel_ids = batch[\"rel_ids\"]\n",
    "            log_pred = model.log_prob(rel_ids)\n",
    "            target_probability = batch[\"target_probability\"]\n",
    "            targets.append(target_probability)\n",
    "            log_predictions.append(log_pred)\n",
    "            \n",
    "        log_preds = torch.cat(log_predictions)\n",
    "        targets = torch.cat(targets)\n",
    "    return log_preds, targets"
   ]
  },
  {
   "cell_type": "code",
   "execution_count": null,
   "id": "8f0625c5",
   "metadata": {},
   "outputs": [
    {
     "name": "stdout",
     "output_type": "stream",
     "text": [
      "Calculating predictions for: Gaussian margin + fine-tuning\n"
     ]
    },
    {
     "name": "stderr",
     "output_type": "stream",
     "text": [
      "100%|███████████████████████████████████████████████████████████████████████████████████████████████████████████████████████████████████████████████████████| 888/888 [18:27<00:00,  1.25s/it]\n"
     ]
    },
    {
     "name": "stdout",
     "output_type": "stream",
     "text": [
      "Calculating predictions for: Uniform initialization\n"
     ]
    },
    {
     "name": "stderr",
     "output_type": "stream",
     "text": [
      "  3%|███▉                                                                                                                                                    | 23/888 [00:30<16:39,  1.16s/it]"
     ]
    }
   ],
   "source": [
    "probabilities = {}\n",
    "metrics = {}\n",
    "targets = {}\n",
    "for model_name, model in r2b_models.items():\n",
    "    print(f\"Calculating predictions for: {model_name}\")\n",
    "    log_pred, target = compute_predictions(model, datamodule.val_dataloader())\n",
    "    metrics[model_name] = model.metrics(log_pred, target)\n",
    "    probabilities[model_name] = log_pred.exp()\n",
    "    targets[model_name] = target"
   ]
  },
  {
   "cell_type": "code",
   "execution_count": null,
   "id": "e7088202",
   "metadata": {},
   "outputs": [],
   "source": [
    "def to_float(dictionary):\n",
    "    if not isinstance(dictionary, dict):\n",
    "        return float(dictionary)\n",
    "    return {k: to_float(v) for k, v in dictionary.items()}\n",
    "pd.DataFrame(to_float(metrics)).transpose()"
   ]
  },
  {
   "cell_type": "code",
   "execution_count": null,
   "id": "cf2f00de",
   "metadata": {},
   "outputs": [],
   "source": [
    "def jointplot(pred, target, min_threshold=0.2, max_threshold=0.9, title=None):\n",
    "    original_show_grid = plt.rcParams['axes.grid']\n",
    "    plt.rcParams['axes.grid'] = False\n",
    "    mask = (target >= 0.2) & (target <= 0.9)\n",
    "    plot = sns.jointplot(\n",
    "        x=target[mask].detach().cpu().numpy(),\n",
    "        y=pred[mask].detach().cpu().numpy(),\n",
    "        kind=\"hex\",\n",
    "        color=\"#4fbfff\",\n",
    "        # norm=LogNorm(),\n",
    "        height=8,\n",
    "        bins=200\n",
    "    )\n",
    "    plt.xlabel(\"Target probability\", fontsize=18)\n",
    "    plt.ylabel(\"Predicted probability\", fontsize=18)\n",
    "    if title is not None:\n",
    "        plot.fig.suptitle(title, fontsize=18)\n",
    "    plt.show()\n",
    "    plt.rcParams['axes.grid'] = original_show_grid"
   ]
  },
  {
   "cell_type": "code",
   "execution_count": null,
   "id": "febeb626",
   "metadata": {
    "scrolled": false
   },
   "outputs": [],
   "source": [
    "for model_name in r2b_models:\n",
    "    pred = probabilities[model_name]\n",
    "    target = targets[model_name]\n",
    "    jointplot(pred, target, title=model_name)"
   ]
  },
  {
   "cell_type": "code",
   "execution_count": null,
   "id": "dd21bfd1",
   "metadata": {},
   "outputs": [],
   "source": [
    "model = r2b_models[\"Gaussian margin initialization\"]"
   ]
  },
  {
   "cell_type": "code",
   "execution_count": null,
   "id": "a51180c0",
   "metadata": {},
   "outputs": [],
   "source": [
    "emb = rearrange(model.box_embedding.weight, \"... (box d) -> ... box d\", box=2)\n",
    "left = emb[..., 0, :]\n",
    "right = emb[..., 1, :]\n",
    "if model.box_embedding.box_constructor is not None:\n",
    "    boxes = model.box_embedding.box_constructor(left, right)\n",
    "else:\n",
    "    boxes = BoxTensor((left, right))"
   ]
  },
  {
   "cell_type": "code",
   "execution_count": null,
   "id": "63bc720b",
   "metadata": {},
   "outputs": [],
   "source": [
    "boxes.left.contiguous().view(-1)"
   ]
  },
  {
   "cell_type": "code",
   "execution_count": null,
   "id": "064d0911",
   "metadata": {},
   "outputs": [],
   "source": [
    "def plot_box_dist(left, right, xlabel=None, title=None):\n",
    "    plt.figure(figsize=(10, 6))\n",
    "    plt.hist(boxes.right.contiguous().view(-1).detach().cpu().numpy(), density=True, color=\"#4fbfff\", bins=100)\n",
    "    plt.hist(boxes.left.contiguous().view(-1).detach().cpu().numpy(), density=True, color=\"#8cff92\", bins=100)\n",
    "    plt.xlabel(xlabel)\n",
    "    plt.title(title)\n",
    "    plt.show()"
   ]
  },
  {
   "cell_type": "code",
   "execution_count": null,
   "id": "16cfbd5b",
   "metadata": {
    "scrolled": false
   },
   "outputs": [],
   "source": [
    "plot_box_dist(boxes.left, boxes.right)"
   ]
  }
 ],
 "metadata": {
  "kernelspec": {
   "display_name": "Python [conda env:duck]",
   "language": "python",
   "name": "conda-env-duck-py"
  },
  "language_info": {
   "codemirror_mode": {
    "name": "ipython",
    "version": 3
   },
   "file_extension": ".py",
   "mimetype": "text/x-python",
   "name": "python",
   "nbconvert_exporter": "python",
   "pygments_lexer": "ipython3",
   "version": "3.9.7"
  }
 },
 "nbformat": 4,
 "nbformat_minor": 5
}
