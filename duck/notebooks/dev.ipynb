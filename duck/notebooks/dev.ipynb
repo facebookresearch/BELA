{
 "cells": [
  {
   "cell_type": "code",
   "execution_count": 31,
   "id": "84fa3f41",
   "metadata": {},
   "outputs": [],
   "source": [
    "import torch\n",
    "from einops import rearrange, repeat"
   ]
  },
  {
   "cell_type": "code",
   "execution_count": 32,
   "id": "c6af4aeb",
   "metadata": {},
   "outputs": [],
   "source": [
    "num_rels = 16\n",
    "dim = 8\n",
    "bsz = 4"
   ]
  },
  {
   "cell_type": "code",
   "execution_count": 33,
   "id": "9a247bf1",
   "metadata": {},
   "outputs": [
    {
     "data": {
      "text/plain": [
       "tensor([[0.2096, 0.2082, 0.9765, 0.1305, 0.8130, 0.8121, 0.1048, 0.7411],\n",
       "        [0.2786, 0.0591, 0.8535, 0.6636, 0.6644, 0.4895, 0.3105, 0.9714],\n",
       "        [0.6668, 0.0824, 0.4094, 0.0312, 0.2201, 0.7474, 0.2218, 0.0877],\n",
       "        [0.3921, 0.1078, 0.9310, 0.1503, 0.2238, 0.9790, 0.0107, 0.9777],\n",
       "        [0.5984, 0.0066, 0.7810, 0.3772, 0.7746, 0.0101, 0.7213, 0.8615],\n",
       "        [0.0737, 0.5853, 0.0768, 0.9585, 0.2973, 0.6349, 0.4283, 0.5387],\n",
       "        [0.2569, 0.0374, 0.0574, 0.8371, 0.2713, 0.0429, 0.4482, 0.9599],\n",
       "        [0.9671, 0.8305, 0.9201, 0.8768, 0.9383, 0.7851, 0.3908, 0.6616],\n",
       "        [0.3614, 0.2115, 0.4420, 0.1880, 0.4410, 0.2590, 0.2811, 0.4672],\n",
       "        [0.6242, 0.2435, 0.1140, 0.4872, 0.8378, 0.0630, 0.5804, 0.0632],\n",
       "        [0.1710, 0.2660, 0.4202, 0.5804, 0.2787, 0.6583, 0.9821, 0.1265],\n",
       "        [0.6738, 0.6628, 0.4305, 0.5623, 0.6124, 0.5629, 0.8209, 0.5919],\n",
       "        [0.6214, 0.1314, 0.5465, 0.6808, 0.0200, 0.4428, 0.8146, 0.5101],\n",
       "        [0.6297, 0.7057, 0.6352, 0.6474, 0.1787, 0.1067, 0.0116, 0.0615],\n",
       "        [0.6952, 0.1236, 0.2343, 0.4829, 0.4259, 0.3062, 0.8668, 0.4465],\n",
       "        [0.5520, 0.7786, 0.9721, 0.1105, 0.4054, 0.2177, 0.8160, 0.7245]])"
      ]
     },
     "execution_count": 33,
     "metadata": {},
     "output_type": "execute_result"
    }
   ],
   "source": [
    "rels = torch.rand((num_rels, dim))\n",
    "rels"
   ]
  },
  {
   "cell_type": "code",
   "execution_count": 34,
   "id": "a5fbee38",
   "metadata": {},
   "outputs": [
    {
     "data": {
      "text/plain": [
       "tensor([[False, False,  True, False, False,  True,  True, False,  True,  True,\n",
       "         False,  True,  True, False, False,  True],\n",
       "        [False, False,  True,  True,  True,  True, False, False,  True,  True,\n",
       "          True,  True,  True, False, False,  True],\n",
       "        [False, False, False,  True,  True, False, False, False,  True,  True,\n",
       "         False, False, False,  True,  True,  True],\n",
       "        [ True, False,  True, False, False,  True,  True,  True, False,  True,\n",
       "          True, False, False, False, False, False]])"
      ]
     },
     "execution_count": 34,
     "metadata": {},
     "output_type": "execute_result"
    }
   ],
   "source": [
    "ent_rel_mask = torch.randn((bsz, num_rels)) > 0\n",
    "ent_rel_mask"
   ]
  },
  {
   "cell_type": "code",
   "execution_count": 38,
   "id": "25e1e728",
   "metadata": {},
   "outputs": [],
   "source": [
    "result = repeat(rels, \"n d -> d b n\", b=bsz).masked_fill(ent_rel_mask, 0)\n",
    "result = rearrange(result, \"d b n -> b n d\")"
   ]
  },
  {
   "cell_type": "code",
   "execution_count": 39,
   "id": "afc7a0f7",
   "metadata": {},
   "outputs": [
    {
     "data": {
      "text/plain": [
       "torch.Size([4, 16, 8])"
      ]
     },
     "execution_count": 39,
     "metadata": {},
     "output_type": "execute_result"
    }
   ],
   "source": [
    "result.size()"
   ]
  },
  {
   "cell_type": "code",
   "execution_count": 43,
   "id": "da5520b4",
   "metadata": {},
   "outputs": [],
   "source": [
    "result = repeat(rels, \"n d -> b n d\", b=bsz)"
   ]
  },
  {
   "cell_type": "code",
   "execution_count": 44,
   "id": "100f1d33",
   "metadata": {},
   "outputs": [
    {
     "name": "stderr",
     "output_type": "stream",
     "text": [
      "/tmp/ipykernel_114940/3859424269.py:1: UserWarning: Use of index_put_ on expanded tensors is deprecated. Please clone() the tensor before performing this operation. This also applies to advanced indexing e.g. tensor[indices] = tensor (Triggered internally at  /opt/conda/conda-bld/pytorch_1623448255797/work/aten/src/ATen/native/TensorAdvancedIndexing.cpp:395.)\n",
      "  result[ent_rel_mask] = 0\n"
     ]
    }
   ],
   "source": [
    "result[ent_rel_mask] = 0"
   ]
  },
  {
   "cell_type": "code",
   "execution_count": 47,
   "id": "32372d6d",
   "metadata": {},
   "outputs": [],
   "source": [
    "mask = torch.full((10, 10), False)"
   ]
  },
  {
   "cell_type": "code",
   "execution_count": 48,
   "id": "0aa5890c",
   "metadata": {},
   "outputs": [],
   "source": [
    "mask[0][[0, 1, 2]] = True"
   ]
  },
  {
   "cell_type": "code",
   "execution_count": 49,
   "id": "59e2551d",
   "metadata": {},
   "outputs": [
    {
     "data": {
      "text/plain": [
       "tensor([[ True,  True,  True, False, False, False, False, False, False, False],\n",
       "        [False, False, False, False, False, False, False, False, False, False],\n",
       "        [False, False, False, False, False, False, False, False, False, False],\n",
       "        [False, False, False, False, False, False, False, False, False, False],\n",
       "        [False, False, False, False, False, False, False, False, False, False],\n",
       "        [False, False, False, False, False, False, False, False, False, False],\n",
       "        [False, False, False, False, False, False, False, False, False, False],\n",
       "        [False, False, False, False, False, False, False, False, False, False],\n",
       "        [False, False, False, False, False, False, False, False, False, False],\n",
       "        [False, False, False, False, False, False, False, False, False, False]])"
      ]
     },
     "execution_count": 49,
     "metadata": {},
     "output_type": "execute_result"
    }
   ],
   "source": [
    "mask"
   ]
  },
  {
   "cell_type": "code",
   "execution_count": null,
   "id": "1cca5388",
   "metadata": {},
   "outputs": [],
   "source": []
  }
 ],
 "metadata": {
  "kernelspec": {
   "display_name": "Python [conda env:duck]",
   "language": "python",
   "name": "conda-env-duck-py"
  },
  "language_info": {
   "codemirror_mode": {
    "name": "ipython",
    "version": 3
   },
   "file_extension": ".py",
   "mimetype": "text/x-python",
   "name": "python",
   "nbconvert_exporter": "python",
   "pygments_lexer": "ipython3",
   "version": "3.9.7"
  }
 },
 "nbformat": 4,
 "nbformat_minor": 5
}
