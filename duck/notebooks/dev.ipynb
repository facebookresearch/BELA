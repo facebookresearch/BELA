{
 "cells": [
  {
   "cell_type": "code",
   "execution_count": 9,
   "id": "38e5697c",
   "metadata": {},
   "outputs": [],
   "source": [
    "import sys\n",
    "sys.path.append('/fsx/matzeni/duck')\n",
    "\n",
    "import torch\n",
    "from einops import rearrange, repeat\n",
    "from duck.box_tensors import BoxTensor\n",
    "from matplotlib import pyplot as plt"
   ]
  },
  {
   "cell_type": "code",
   "execution_count": 10,
   "id": "9bac3de3",
   "metadata": {},
   "outputs": [],
   "source": [
    "a = torch.rand((4, 8))\n",
    "b = torch.rand((6, 8))"
   ]
  },
  {
   "cell_type": "code",
   "execution_count": 11,
   "id": "ff0bb549",
   "metadata": {},
   "outputs": [],
   "source": [
    "max_rels = torch.tensor([a.size(0), b.size(0)]).max()"
   ]
  },
  {
   "cell_type": "code",
   "execution_count": 12,
   "id": "eb284fb2",
   "metadata": {},
   "outputs": [],
   "source": [
    "pad = torch.zeros((max_rels - a.size(0), a.size(1)), device=a.device)\n",
    "mask_a = torch.cat([torch.ones_like(a), pad]).bool()\n",
    "a = torch.cat([a, pad])"
   ]
  },
  {
   "cell_type": "code",
   "execution_count": 13,
   "id": "c9714f68",
   "metadata": {},
   "outputs": [
    {
     "data": {
      "text/plain": [
       "tensor([[0.5869, 0.3689, 0.9671, 0.6872, 0.4481, 0.8763, 0.2241, 0.7484],\n",
       "        [0.9406, 0.8606, 0.8131, 0.7456, 0.8908, 0.8226, 0.6802, 0.3038],\n",
       "        [0.4385, 0.6148, 0.5822, 0.6618, 0.5690, 0.2471, 0.6140, 0.0323],\n",
       "        [0.4150, 0.9016, 0.1953, 0.1318, 0.6647, 0.4806, 0.9696, 0.8082],\n",
       "        [0.0000, 0.0000, 0.0000, 0.0000, 0.0000, 0.0000, 0.0000, 0.0000],\n",
       "        [0.0000, 0.0000, 0.0000, 0.0000, 0.0000, 0.0000, 0.0000, 0.0000]])"
      ]
     },
     "execution_count": 13,
     "metadata": {},
     "output_type": "execute_result"
    }
   ],
   "source": [
    "a"
   ]
  },
  {
   "cell_type": "code",
   "execution_count": 14,
   "id": "bfd85239",
   "metadata": {},
   "outputs": [
    {
     "data": {
      "text/plain": [
       "tensor([[ True,  True,  True,  True,  True,  True,  True,  True],\n",
       "        [ True,  True,  True,  True,  True,  True,  True,  True],\n",
       "        [ True,  True,  True,  True,  True,  True,  True,  True],\n",
       "        [ True,  True,  True,  True,  True,  True,  True,  True],\n",
       "        [False, False, False, False, False, False, False, False],\n",
       "        [False, False, False, False, False, False, False, False]])"
      ]
     },
     "execution_count": 14,
     "metadata": {},
     "output_type": "execute_result"
    }
   ],
   "source": [
    "mask_a"
   ]
  },
  {
   "cell_type": "code",
   "execution_count": 15,
   "id": "6ca12ae3",
   "metadata": {},
   "outputs": [],
   "source": [
    "pad = torch.zeros((max_rels - b.size(0), b.size(1)), device=b.device)\n",
    "mask_b = torch.cat([torch.ones_like(b), pad]).bool()\n",
    "b = torch.cat([b, pad])"
   ]
  },
  {
   "cell_type": "code",
   "execution_count": 16,
   "id": "de1cd534",
   "metadata": {},
   "outputs": [
    {
     "data": {
      "text/plain": [
       "tensor([[True, True, True, True, True, True, True, True],\n",
       "        [True, True, True, True, True, True, True, True],\n",
       "        [True, True, True, True, True, True, True, True],\n",
       "        [True, True, True, True, True, True, True, True],\n",
       "        [True, True, True, True, True, True, True, True],\n",
       "        [True, True, True, True, True, True, True, True]])"
      ]
     },
     "execution_count": 16,
     "metadata": {},
     "output_type": "execute_result"
    }
   ],
   "source": [
    "mask_b"
   ]
  },
  {
   "cell_type": "code",
   "execution_count": 17,
   "id": "93038f46",
   "metadata": {},
   "outputs": [
    {
     "data": {
      "text/plain": [
       "tensor([[0.8015, 0.4549, 0.6941, 0.1677, 0.7015, 0.1137, 0.7601, 0.2935],\n",
       "        [0.1857, 0.7594, 0.2515, 0.3138, 0.1438, 0.4808, 0.0077, 0.3284],\n",
       "        [0.8238, 0.6393, 0.8214, 0.7430, 0.4867, 0.7158, 0.7789, 0.5869],\n",
       "        [0.4623, 0.7353, 0.0265, 0.2426, 0.7059, 0.7859, 0.0518, 0.1387],\n",
       "        [0.1538, 0.0783, 0.2859, 0.9093, 0.2125, 0.1035, 0.8887, 0.0912],\n",
       "        [0.9264, 0.3494, 0.7079, 0.2979, 0.9180, 0.4977, 0.0101, 0.7014]])"
      ]
     },
     "execution_count": 17,
     "metadata": {},
     "output_type": "execute_result"
    }
   ],
   "source": [
    "b"
   ]
  },
  {
   "cell_type": "code",
   "execution_count": 18,
   "id": "91c9ed9b",
   "metadata": {},
   "outputs": [],
   "source": [
    "ab = torch.stack([a, b])"
   ]
  },
  {
   "cell_type": "code",
   "execution_count": 19,
   "id": "95cc9db6",
   "metadata": {},
   "outputs": [
    {
     "data": {
      "text/plain": [
       "tensor([[[0.5869, 0.3689, 0.9671, 0.6872, 0.4481, 0.8763, 0.2241, 0.7484],\n",
       "         [0.9406, 0.8606, 0.8131, 0.7456, 0.8908, 0.8226, 0.6802, 0.3038],\n",
       "         [0.4385, 0.6148, 0.5822, 0.6618, 0.5690, 0.2471, 0.6140, 0.0323],\n",
       "         [0.4150, 0.9016, 0.1953, 0.1318, 0.6647, 0.4806, 0.9696, 0.8082],\n",
       "         [0.0000, 0.0000, 0.0000, 0.0000, 0.0000, 0.0000, 0.0000, 0.0000],\n",
       "         [0.0000, 0.0000, 0.0000, 0.0000, 0.0000, 0.0000, 0.0000, 0.0000]],\n",
       "\n",
       "        [[0.8015, 0.4549, 0.6941, 0.1677, 0.7015, 0.1137, 0.7601, 0.2935],\n",
       "         [0.1857, 0.7594, 0.2515, 0.3138, 0.1438, 0.4808, 0.0077, 0.3284],\n",
       "         [0.8238, 0.6393, 0.8214, 0.7430, 0.4867, 0.7158, 0.7789, 0.5869],\n",
       "         [0.4623, 0.7353, 0.0265, 0.2426, 0.7059, 0.7859, 0.0518, 0.1387],\n",
       "         [0.1538, 0.0783, 0.2859, 0.9093, 0.2125, 0.1035, 0.8887, 0.0912],\n",
       "         [0.9264, 0.3494, 0.7079, 0.2979, 0.9180, 0.4977, 0.0101, 0.7014]]])"
      ]
     },
     "execution_count": 19,
     "metadata": {},
     "output_type": "execute_result"
    }
   ],
   "source": [
    "ab"
   ]
  },
  {
   "cell_type": "code",
   "execution_count": 20,
   "id": "ee83802d",
   "metadata": {},
   "outputs": [],
   "source": [
    "mask = torch.stack([mask_a, mask_b])"
   ]
  },
  {
   "cell_type": "code",
   "execution_count": 21,
   "id": "34da5a63",
   "metadata": {},
   "outputs": [
    {
     "data": {
      "text/plain": [
       "tensor([[[ True,  True,  True,  True,  True,  True,  True,  True],\n",
       "         [ True,  True,  True,  True,  True,  True,  True,  True],\n",
       "         [ True,  True,  True,  True,  True,  True,  True,  True],\n",
       "         [ True,  True,  True,  True,  True,  True,  True,  True],\n",
       "         [False, False, False, False, False, False, False, False],\n",
       "         [False, False, False, False, False, False, False, False]],\n",
       "\n",
       "        [[ True,  True,  True,  True,  True,  True,  True,  True],\n",
       "         [ True,  True,  True,  True,  True,  True,  True,  True],\n",
       "         [ True,  True,  True,  True,  True,  True,  True,  True],\n",
       "         [ True,  True,  True,  True,  True,  True,  True,  True],\n",
       "         [ True,  True,  True,  True,  True,  True,  True,  True],\n",
       "         [ True,  True,  True,  True,  True,  True,  True,  True]]])"
      ]
     },
     "execution_count": 21,
     "metadata": {},
     "output_type": "execute_result"
    }
   ],
   "source": [
    "mask"
   ]
  },
  {
   "cell_type": "code",
   "execution_count": 23,
   "id": "e9b17667",
   "metadata": {},
   "outputs": [],
   "source": [
    "ab = rearrange(ab, \"w b d -> (w b) d\")"
   ]
  },
  {
   "cell_type": "code",
   "execution_count": 25,
   "id": "f191c254",
   "metadata": {},
   "outputs": [],
   "source": [
    "mask = rearrange(mask, \"w b d -> (w b) d\")"
   ]
  },
  {
   "cell_type": "code",
   "execution_count": 30,
   "id": "3a941ec6",
   "metadata": {},
   "outputs": [
    {
     "data": {
      "text/plain": [
       "tensor([[0.5869, 0.3689, 0.9671, 0.6872, 0.4481, 0.8763, 0.2241, 0.7484],\n",
       "        [0.9406, 0.8606, 0.8131, 0.7456, 0.8908, 0.8226, 0.6802, 0.3038],\n",
       "        [0.4385, 0.6148, 0.5822, 0.6618, 0.5690, 0.2471, 0.6140, 0.0323],\n",
       "        [0.4150, 0.9016, 0.1953, 0.1318, 0.6647, 0.4806, 0.9696, 0.8082],\n",
       "        [0.8015, 0.4549, 0.6941, 0.1677, 0.7015, 0.1137, 0.7601, 0.2935],\n",
       "        [0.1857, 0.7594, 0.2515, 0.3138, 0.1438, 0.4808, 0.0077, 0.3284],\n",
       "        [0.8238, 0.6393, 0.8214, 0.7430, 0.4867, 0.7158, 0.7789, 0.5869],\n",
       "        [0.4623, 0.7353, 0.0265, 0.2426, 0.7059, 0.7859, 0.0518, 0.1387],\n",
       "        [0.1538, 0.0783, 0.2859, 0.9093, 0.2125, 0.1035, 0.8887, 0.0912],\n",
       "        [0.9264, 0.3494, 0.7079, 0.2979, 0.9180, 0.4977, 0.0101, 0.7014]])"
      ]
     },
     "execution_count": 30,
     "metadata": {},
     "output_type": "execute_result"
    }
   ],
   "source": [
    "ab[mask.any(dim=-1)]"
   ]
  },
  {
   "cell_type": "code",
   "execution_count": 31,
   "id": "76254311",
   "metadata": {},
   "outputs": [
    {
     "data": {
      "text/plain": [
       "tensor([[0.5869, 0.3689, 0.9671, 0.6872, 0.4481, 0.8763, 0.2241, 0.7484],\n",
       "        [0.9406, 0.8606, 0.8131, 0.7456, 0.8908, 0.8226, 0.6802, 0.3038],\n",
       "        [0.4385, 0.6148, 0.5822, 0.6618, 0.5690, 0.2471, 0.6140, 0.0323],\n",
       "        [0.4150, 0.9016, 0.1953, 0.1318, 0.6647, 0.4806, 0.9696, 0.8082],\n",
       "        [0.0000, 0.0000, 0.0000, 0.0000, 0.0000, 0.0000, 0.0000, 0.0000],\n",
       "        [0.0000, 0.0000, 0.0000, 0.0000, 0.0000, 0.0000, 0.0000, 0.0000],\n",
       "        [0.8015, 0.4549, 0.6941, 0.1677, 0.7015, 0.1137, 0.7601, 0.2935],\n",
       "        [0.1857, 0.7594, 0.2515, 0.3138, 0.1438, 0.4808, 0.0077, 0.3284],\n",
       "        [0.8238, 0.6393, 0.8214, 0.7430, 0.4867, 0.7158, 0.7789, 0.5869],\n",
       "        [0.4623, 0.7353, 0.0265, 0.2426, 0.7059, 0.7859, 0.0518, 0.1387],\n",
       "        [0.1538, 0.0783, 0.2859, 0.9093, 0.2125, 0.1035, 0.8887, 0.0912],\n",
       "        [0.9264, 0.3494, 0.7079, 0.2979, 0.9180, 0.4977, 0.0101, 0.7014]])"
      ]
     },
     "execution_count": 31,
     "metadata": {},
     "output_type": "execute_result"
    }
   ],
   "source": [
    "ab"
   ]
  },
  {
   "cell_type": "code",
   "execution_count": 35,
   "id": "18d6d13e",
   "metadata": {},
   "outputs": [
    {
     "data": {
      "text/plain": [
       "tensor([[0., 0., 0., 0., 0., 0., 0., 0.],\n",
       "        [0., 0., 0., 0., 0., 0., 0., 0.],\n",
       "        [0., 0., 0., 0., 0., 0., 0., 0.],\n",
       "        [0., 0., 0., 0., 0., 0., 0., 0.],\n",
       "        [0., 0., 0., 0., 0., 0., 0., 0.],\n",
       "        [0., 0., 0., 0., 0., 0., 0., 0.],\n",
       "        [0., 0., 0., 0., 0., 0., 0., 0.],\n",
       "        [0., 0., 0., 0., 0., 0., 0., 0.],\n",
       "        [0., 0., 0., 0., 0., 0., 0., 0.],\n",
       "        [0., 0., 0., 0., 0., 0., 0., 0.]])"
      ]
     },
     "execution_count": 35,
     "metadata": {},
     "output_type": "execute_result"
    }
   ],
   "source": [
    "torch.zeros([10] + list(a.size())[1:])"
   ]
  },
  {
   "cell_type": "code",
   "execution_count": 36,
   "id": "64f98043",
   "metadata": {},
   "outputs": [
    {
     "data": {
      "text/plain": [
       "[]"
      ]
     },
     "execution_count": 36,
     "metadata": {},
     "output_type": "execute_result"
    }
   ],
   "source": [
    "list(a.size())[:0]"
   ]
  },
  {
   "cell_type": "code",
   "execution_count": 41,
   "id": "5bcb57fa",
   "metadata": {},
   "outputs": [],
   "source": [
    "pad_shape = list(a.size())[:0] + [int(max_rels) - a.size(0)] + list(a.size())[(0 + 1):]"
   ]
  },
  {
   "cell_type": "code",
   "execution_count": 42,
   "id": "95131b5d",
   "metadata": {},
   "outputs": [
    {
     "data": {
      "text/plain": [
       "[0, 8]"
      ]
     },
     "execution_count": 42,
     "metadata": {},
     "output_type": "execute_result"
    }
   ],
   "source": [
    "pad_shape"
   ]
  },
  {
   "cell_type": "code",
   "execution_count": null,
   "id": "6c20e1bb",
   "metadata": {},
   "outputs": [],
   "source": []
  }
 ],
 "metadata": {
  "kernelspec": {
   "display_name": "Python [conda env:duck]",
   "language": "python",
   "name": "conda-env-duck-py"
  },
  "language_info": {
   "codemirror_mode": {
    "name": "ipython",
    "version": 3
   },
   "file_extension": ".py",
   "mimetype": "text/x-python",
   "name": "python",
   "nbconvert_exporter": "python",
   "pygments_lexer": "ipython3",
   "version": "3.9.7"
  }
 },
 "nbformat": 4,
 "nbformat_minor": 5
}
