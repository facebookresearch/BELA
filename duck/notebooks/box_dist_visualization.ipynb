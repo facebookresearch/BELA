{
 "cells": [
  {
   "cell_type": "code",
   "execution_count": 1,
   "id": "a6458ce1",
   "metadata": {},
   "outputs": [],
   "source": [
    "import sys\n",
    "sys.path.append('/fsx/matzeni/duck')"
   ]
  },
  {
   "cell_type": "code",
   "execution_count": 4,
   "id": "42d5801f",
   "metadata": {},
   "outputs": [
    {
     "ename": "ModuleNotFoundError",
     "evalue": "No module named 'matplotlib'",
     "output_type": "error",
     "traceback": [
      "\u001b[0;31m---------------------------------------------------------------------------\u001b[0m",
      "\u001b[0;31mModuleNotFoundError\u001b[0m                       Traceback (most recent call last)",
      "Cell \u001b[0;32mIn[4], line 27\u001b[0m\n\u001b[1;32m     25\u001b[0m \u001b[38;5;28;01mimport\u001b[39;00m \u001b[38;5;21;01mrandom\u001b[39;00m\n\u001b[1;32m     26\u001b[0m \u001b[38;5;28;01mfrom\u001b[39;00m \u001b[38;5;21;01mduck\u001b[39;00m\u001b[38;5;21;01m.\u001b[39;00m\u001b[38;5;21;01mbox_tensors\u001b[39;00m\u001b[38;5;21;01m.\u001b[39;00m\u001b[38;5;21;01minitializers\u001b[39;00m\u001b[38;5;21;01m.\u001b[39;00m\u001b[38;5;21;01mgaussian_margin\u001b[39;00m \u001b[38;5;28;01mimport\u001b[39;00m gaussian_margin_boxes\n\u001b[0;32m---> 27\u001b[0m \u001b[38;5;28;01mimport\u001b[39;00m \u001b[38;5;21;01mmatplotlib\u001b[39;00m\u001b[38;5;21;01m.\u001b[39;00m\u001b[38;5;21;01mpyplot\u001b[39;00m \u001b[38;5;28;01mas\u001b[39;00m \u001b[38;5;21;01mplt\u001b[39;00m\n\u001b[1;32m     28\u001b[0m logger \u001b[38;5;241m=\u001b[39m logging\u001b[38;5;241m.\u001b[39mgetLogger()\n",
      "\u001b[0;31mModuleNotFoundError\u001b[0m: No module named 'matplotlib'"
     ]
    }
   ],
   "source": [
    "import torch\n",
    "import h5py\n",
    "import json\n",
    "from pathlib import Path\n",
    "import pickle\n",
    "from tqdm import tqdm\n",
    "import logging\n",
    "from transformers import AutoTokenizer\n",
    "from typing import Any, Dict, List, Optional, Tuple\n",
    "import copy\n",
    "from einops import rearrange, repeat\n",
    "import numpy as np\n",
    "from duck.box_tensors import BoxTensor\n",
    "from duck.task.duck_entity_disambiguation import Duck\n",
    "from hydra import compose, initialize\n",
    "import hydra\n",
    "from duck.common.utils import seed_prg\n",
    "import collections\n",
    "import logging\n",
    "import math\n",
    "from duck.common.utils import load_json, load_jsonl\n",
    "from torch import nn\n",
    "from duck.modules import BoxEmbedding\n",
    "from duck.box_tensors.volume import Volume\n",
    "import random\n",
    "from duck.box_tensors.initializers.gaussian_margin import gaussian_margin_boxes\n",
    "import matplotlib.pyplot as plt\n",
    "logger = logging.getLogger()\n"
   ]
  },
  {
   "cell_type": "code",
   "execution_count": null,
   "id": "fae5bed4",
   "metadata": {},
   "outputs": [],
   "source": [
    "# plt.style.use('seaborn')\n",
    "plt.rcParams['axes.labelsize'] = 'large'\n",
    "plt.rcParams['axes.titlesize'] = 'x-large'\n",
    "plt.rcParams['xtick.labelsize'] = 'medium'\n",
    "plt.rcParams['ytick.labelsize'] = 'medium'\n",
    "plt.rcParams['axes.spines.left'] = False\n",
    "plt.rcParams['axes.spines.right'] = False\n",
    "plt.rcParams['axes.spines.top'] = False\n",
    "plt.rcParams['axes.spines.bottom'] = False\n",
    "plt.rcParams['axes.grid'] = True\n",
    "plt.rcParams['grid.color'] = \"#dbdbdb\""
   ]
  },
  {
   "cell_type": "code",
   "execution_count": null,
   "id": "98e851f5",
   "metadata": {},
   "outputs": [],
   "source": [
    "size = 1024\n",
    "left, right = gaussian_margin_boxes(\n",
    "    dimensions=1024,\n",
    "    num_boxes=5,\n",
    "    minimum = -8,\n",
    "    maximum = +8,\n",
    "    stddev=1,\n",
    "    cut=False\n",
    ")\n",
    "vol = Volume(intersection_temperature=0.0001, volume_temperature=0.1)\n",
    "box = BoxTensor.sigmoid_constructor(left, right)\n",
    "print(left, right)\n",
    "print(box)\n",
    "universe = BoxTensor((\n",
    "    torch.zeros(size), torch.ones(size)\n",
    "))\n",
    "print(vol(universe).exp())\n",
    "print(\"Prob:\", (vol(box) - vol(universe)).exp())\n"
   ]
  },
  {
   "cell_type": "code",
   "execution_count": null,
   "id": "0c566001",
   "metadata": {},
   "outputs": [],
   "source": [
    "plt.figure(figsize=(10, 6))\n",
    "plt.hist(right.view(-1).cpu().numpy(), density=True, color=\"#4fbfff\", bins=100)\n",
    "plt.hist(left.view(-1).cpu().numpy(), density=True, color=\"#8cff92\", bins=100)\n",
    "plt.xlabel(\"Parameter values\")\n",
    "x_sigmoid = torch.arange(-10, 10, 0.01)\n",
    "y_sigmoid = torch.sigmoid(x_sigmoid)\n",
    "# plt.plot(x_sigmoid, y_sigmoid)\n",
    "plt.show()"
   ]
  },
  {
   "cell_type": "code",
   "execution_count": null,
   "id": "169f0861",
   "metadata": {},
   "outputs": [],
   "source": [
    "torch.cat([left.view(-1), right.view(-1)]).std()"
   ]
  },
  {
   "cell_type": "code",
   "execution_count": null,
   "id": "fec9d5db",
   "metadata": {},
   "outputs": [],
   "source": [
    "math.sqrt(1.0 / 1120)"
   ]
  },
  {
   "cell_type": "code",
   "execution_count": null,
   "id": "6a0b511b",
   "metadata": {},
   "outputs": [],
   "source": [
    "math.sqrt(2.0 / float(1120 + 1024))"
   ]
  },
  {
   "cell_type": "code",
   "execution_count": null,
   "id": "63cdb9aa",
   "metadata": {},
   "outputs": [],
   "source": [
    "torch.sigmoid(torch.tensor(-100))"
   ]
  },
  {
   "cell_type": "code",
   "execution_count": null,
   "id": "96c493d2",
   "metadata": {},
   "outputs": [],
   "source": [
    "margin = 1e-7\n",
    "box = BoxTensor((\n",
    "    torch.zeros(1024) + margin,\n",
    "    torch.ones(1024) - margin\n",
    "))\n",
    "(vol(box) - vol(universe)).exp()"
   ]
  },
  {
   "cell_type": "code",
   "execution_count": null,
   "id": "3496202c",
   "metadata": {},
   "outputs": [],
   "source": []
  }
 ],
 "metadata": {
  "kernelspec": {
   "display_name": "Python [conda env:duck]",
   "language": "python",
   "name": "conda-env-duck-py"
  },
  "language_info": {
   "codemirror_mode": {
    "name": "ipython",
    "version": 3
   },
   "file_extension": ".py",
   "mimetype": "text/x-python",
   "name": "python",
   "nbconvert_exporter": "python",
   "pygments_lexer": "ipython3",
   "version": "3.9.16"
  }
 },
 "nbformat": 4,
 "nbformat_minor": 5
}
