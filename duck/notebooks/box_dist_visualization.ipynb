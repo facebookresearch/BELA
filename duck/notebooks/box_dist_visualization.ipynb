{
 "cells": [
  {
   "cell_type": "code",
   "execution_count": 1,
   "id": "a6458ce1",
   "metadata": {},
   "outputs": [],
   "source": [
    "import sys\n",
    "sys.path.append('/fsx/matzeni/duck')"
   ]
  },
  {
   "cell_type": "code",
   "execution_count": 2,
   "id": "42d5801f",
   "metadata": {},
   "outputs": [],
   "source": [
    "import torch\n",
    "import h5py\n",
    "import json\n",
    "from pathlib import Path\n",
    "import pickle\n",
    "from tqdm import tqdm\n",
    "import logging\n",
    "from transformers import AutoTokenizer\n",
    "from typing import Any, Dict, List, Optional, Tuple\n",
    "import copy\n",
    "from einops import rearrange, repeat\n",
    "import numpy as np\n",
    "from duck.box_tensors import BoxTensor\n",
    "from duck.task.duck_entity_disambiguation import Duck\n",
    "from hydra import compose, initialize\n",
    "import hydra\n",
    "from duck.common.utils import seed_prg\n",
    "import collections\n",
    "import logging\n",
    "import math\n",
    "from duck.common.utils import load_json, load_jsonl\n",
    "from torch import nn\n",
    "from duck.modules import BoxEmbedding\n",
    "from duck.box_tensors.volume import Volume\n",
    "import random\n",
    "from duck.box_tensors.initializers.gaussian_margin import gaussian_margin_boxes\n",
    "import matplotlib.pyplot as plt\n",
    "logger = logging.getLogger()\n"
   ]
  },
  {
   "cell_type": "code",
   "execution_count": 3,
   "id": "fae5bed4",
   "metadata": {},
   "outputs": [],
   "source": [
    "# plt.style.use('seaborn')\n",
    "plt.rcParams['axes.labelsize'] = 'large'\n",
    "plt.rcParams['axes.titlesize'] = 'x-large'\n",
    "plt.rcParams['xtick.labelsize'] = 'medium'\n",
    "plt.rcParams['ytick.labelsize'] = 'medium'\n",
    "plt.rcParams['axes.spines.left'] = False\n",
    "plt.rcParams['axes.spines.right'] = False\n",
    "plt.rcParams['axes.spines.top'] = False\n",
    "plt.rcParams['axes.spines.bottom'] = False\n",
    "plt.rcParams['axes.grid'] = True\n",
    "plt.rcParams['grid.color'] = \"#dbdbdb\""
   ]
  },
  {
   "cell_type": "code",
   "execution_count": 4,
   "id": "98e851f5",
   "metadata": {},
   "outputs": [
    {
     "name": "stdout",
     "output_type": "stream",
     "text": [
      "tensor([[ -8.6918,  -5.1518,  -9.0858,  ...,  -8.5550,  -6.6028,  -8.0482],\n",
      "        [ -8.5662,  -7.5423,  -6.4402,  ...,  -9.1843,  -5.2366,  -7.8064],\n",
      "        [ -7.3330,  -8.4821,  -7.9463,  ...,  -8.8235, -10.3199,  -6.3341],\n",
      "        [ -7.5789,  -8.1747,  -7.6990,  ...,  -7.8663,  -7.6326,  -7.5814],\n",
      "        [ -8.0677,  -6.0163,  -7.7042,  ...,  -6.2099,  -8.1051,  -7.9991]],\n",
      "       dtype=torch.float64) tensor([[7.7001, 6.7420, 6.7564,  ..., 8.0261, 8.6929, 8.0544],\n",
      "        [7.4455, 9.8301, 7.7964,  ..., 8.0280, 6.6707, 8.1532],\n",
      "        [5.7546, 5.9894, 7.6658,  ..., 8.4334, 8.4701, 6.9125],\n",
      "        [7.2805, 8.1775, 7.8340,  ..., 7.0598, 8.7111, 7.4753],\n",
      "        [8.3945, 6.6745, 9.0418,  ..., 8.8180, 7.0587, 8.6573]],\n",
      "       dtype=torch.float64)\n",
      "BoxTensor(\n",
      "\tleft=tensor([[-0.5001, -0.5029, -0.5001,  ..., -0.5001, -0.5007, -0.5002],\n",
      "        [-0.5001, -0.5003, -0.5008,  ..., -0.5001, -0.5026, -0.5002],\n",
      "        [-0.5003, -0.5001, -0.5002,  ..., -0.5001, -0.5000, -0.5009],\n",
      "        [-0.5003, -0.5001, -0.5002,  ..., -0.5002, -0.5002, -0.5003],\n",
      "        [-0.5002, -0.5012, -0.5002,  ..., -0.5010, -0.5002, -0.5002]],\n",
      "       dtype=torch.float64),\n",
      "\tright=tensor([[0.9998, 0.9994, 0.9994,  ..., 0.9998, 0.9999, 0.9998],\n",
      "        [0.9997, 1.0000, 0.9998,  ..., 0.9998, 0.9994, 0.9999],\n",
      "        [0.9984, 0.9988, 0.9998,  ..., 0.9999, 0.9999, 0.9995],\n",
      "        [0.9997, 0.9999, 0.9998,  ..., 0.9996, 0.9999, 0.9997],\n",
      "        [0.9999, 0.9994, 0.9999,  ..., 0.9999, 0.9996, 0.9999]],\n",
      "       dtype=torch.float64)\n",
      ")\n",
      "tensor(0.8926)\n",
      "Prob: tensor([2.1995e+180, 2.1648e+180, 2.1440e+180, 2.1671e+180, 2.1454e+180],\n",
      "       dtype=torch.float64)\n"
     ]
    }
   ],
   "source": [
    "size = 1024\n",
    "left, right = gaussian_margin_boxes(\n",
    "    dimensions=1024,\n",
    "    num_boxes=5,\n",
    "    minimum = -8,\n",
    "    maximum = +8,\n",
    "    stddev=1,\n",
    "    cut=False\n",
    ")\n",
    "vol = Volume(intersection_temperature=0.0001, volume_temperature=0.1)\n",
    "box = BoxTensor.sigmoid_constructor(left, right)\n",
    "print(left, right)\n",
    "print(box)\n",
    "universe = BoxTensor((\n",
    "    torch.zeros(size), torch.ones(size)\n",
    "))\n",
    "print(vol(universe).exp())\n",
    "print(\"Prob:\", (vol(box) - vol(universe)).exp())\n"
   ]
  },
  {
   "cell_type": "code",
   "execution_count": null,
   "id": "0c566001",
   "metadata": {},
   "outputs": [],
   "source": [
    "plt.figure(figsize=(10, 6))\n",
    "plt.hist(right.view(-1).cpu().numpy(), density=True, color=\"#4fbfff\", bins=100)\n",
    "plt.hist(left.view(-1).cpu().numpy(), density=True, color=\"#8cff92\", bins=100)\n",
    "plt.xlabel(\"Parameter values\")\n",
    "x_sigmoid = torch.arange(-10, 10, 0.01)\n",
    "y_sigmoid = torch.sigmoid(x_sigmoid)\n",
    "# plt.plot(x_sigmoid, y_sigmoid)\n",
    "plt.show()"
   ]
  },
  {
   "cell_type": "code",
   "execution_count": null,
   "id": "169f0861",
   "metadata": {},
   "outputs": [],
   "source": [
    "torch.cat([left.view(-1), right.view(-1)]).std()"
   ]
  },
  {
   "cell_type": "code",
   "execution_count": null,
   "id": "fec9d5db",
   "metadata": {},
   "outputs": [],
   "source": [
    "math.sqrt(1.0 / 1120)"
   ]
  },
  {
   "cell_type": "code",
   "execution_count": null,
   "id": "6a0b511b",
   "metadata": {},
   "outputs": [],
   "source": [
    "math.sqrt(2.0 / float(1120 + 1024))"
   ]
  },
  {
   "cell_type": "code",
   "execution_count": null,
   "id": "63cdb9aa",
   "metadata": {},
   "outputs": [],
   "source": [
    "torch.sigmoid(torch.tensor(-100))"
   ]
  },
  {
   "cell_type": "code",
   "execution_count": null,
   "id": "96c493d2",
   "metadata": {},
   "outputs": [],
   "source": [
    "margin = 1e-7\n",
    "box = BoxTensor((\n",
    "    torch.zeros(1024) + margin,\n",
    "    torch.ones(1024) - margin\n",
    "))\n",
    "(vol(box) - vol(universe)).exp()"
   ]
  },
  {
   "cell_type": "code",
   "execution_count": null,
   "id": "3496202c",
   "metadata": {},
   "outputs": [],
   "source": []
  }
 ],
 "metadata": {
  "kernelspec": {
   "display_name": "Python [conda env:duck]",
   "language": "python",
   "name": "conda-env-duck-py"
  },
  "language_info": {
   "codemirror_mode": {
    "name": "ipython",
    "version": 3
   },
   "file_extension": ".py",
   "mimetype": "text/x-python",
   "name": "python",
   "nbconvert_exporter": "python",
   "pygments_lexer": "ipython3",
   "version": "3.9.7"
  }
 },
 "nbformat": 4,
 "nbformat_minor": 5
}
