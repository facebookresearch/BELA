{
 "cells": [
  {
   "cell_type": "code",
   "execution_count": 1,
   "id": "87fe6aa8",
   "metadata": {},
   "outputs": [],
   "source": [
    "import sys\n",
    "sys.path.append('/fsx/matzeni/duck')"
   ]
  },
  {
   "cell_type": "code",
   "execution_count": 2,
   "id": "7832e8c5",
   "metadata": {},
   "outputs": [],
   "source": [
    "import torch\n",
    "import h5py\n",
    "import json\n",
    "from pathlib import Path\n",
    "import pickle\n",
    "from tqdm import tqdm\n",
    "import logging\n",
    "from transformers import AutoTokenizer\n",
    "from typing import Any, Dict, List, Optional, Tuple\n",
    "import copy\n",
    "from einops import rearrange, repeat\n",
    "import numpy as np\n",
    "from duck.box_tensors import BoxTensor\n",
    "from duck.task.duck_entity_disambiguation import Duck\n",
    "from hydra import compose, initialize\n",
    "import hydra\n",
    "from duck.common.utils import seed_prg\n",
    "import collections\n",
    "import logging\n",
    "import math\n",
    "from duck.box_tensors.functional import cat_box\n",
    "from matplotlib import pyplot as plt\n",
    "from duck.common.utils import cartesian_to_spherical\n",
    "from einops import repeat, rearrange\n",
    "logger = logging.getLogger()"
   ]
  },
  {
   "cell_type": "code",
   "execution_count": 3,
   "id": "7b8a3177",
   "metadata": {},
   "outputs": [
    {
     "data": {
      "text/plain": [
       "hydra.initialize()"
      ]
     },
     "execution_count": 3,
     "metadata": {},
     "output_type": "execute_result"
    }
   ],
   "source": [
    "initialize(config_path=\"../conf\", version_base=None)"
   ]
  },
  {
   "cell_type": "code",
   "execution_count": 4,
   "id": "88640a29",
   "metadata": {},
   "outputs": [],
   "source": [
    "config = compose(\n",
    "    config_name=\"duck\",\n",
    "    overrides=[]\n",
    ")"
   ]
  },
  {
   "cell_type": "code",
   "execution_count": 5,
   "id": "8f8d45d5",
   "metadata": {},
   "outputs": [],
   "source": [
    "ckpt_path = \"/checkpoints/matzeni/duck/checkpoints/duck_spherical_epoch=0_val_f1=0.579.ckpt\"\n",
    "duck = Duck.load_from_checkpoint(ckpt_path).eval().cuda()"
   ]
  },
  {
   "cell_type": "code",
   "execution_count": 6,
   "id": "80796557",
   "metadata": {},
   "outputs": [],
   "source": [
    "datamodule = duck.data"
   ]
  },
  {
   "cell_type": "code",
   "execution_count": 7,
   "id": "0b2eac64",
   "metadata": {},
   "outputs": [],
   "source": [
    "def batch_to_cuda(batch):\n",
    "    if isinstance(batch, torch.Tensor):\n",
    "        return batch.cuda()\n",
    "    if isinstance(batch, collections.abc.Mapping):\n",
    "        return {k: batch_to_cuda(v) for k, v in batch.items()}\n",
    "    if isinstance(batch, str):\n",
    "        return batch\n",
    "    if isinstance(batch, collections.abc.Sequence):\n",
    "        return [batch_to_cuda(v) for v in batch]\n",
    "    return batch"
   ]
  },
  {
   "cell_type": "code",
   "execution_count": 8,
   "id": "fdc8d33d",
   "metadata": {},
   "outputs": [],
   "source": [
    "seed_prg(ngpus=config.trainer.devices)\n",
    "train_data = datamodule.train_dataloader()\n",
    "train_data_iterator = iter(train_data)"
   ]
  },
  {
   "cell_type": "code",
   "execution_count": 9,
   "id": "3693aaba",
   "metadata": {},
   "outputs": [
    {
     "data": {
      "text/plain": [
       "<torch.autograd.grad_mode.set_grad_enabled at 0x7f9588a20610>"
      ]
     },
     "execution_count": 9,
     "metadata": {},
     "output_type": "execute_result"
    }
   ],
   "source": [
    "duck.eval()\n",
    "torch.set_grad_enabled(False)"
   ]
  },
  {
   "cell_type": "code",
   "execution_count": 10,
   "id": "c12ea812",
   "metadata": {},
   "outputs": [
    {
     "name": "stderr",
     "output_type": "stream",
     "text": [
      " 17%|█▋        | 98/577 [00:13<01:08,  7.02it/s]\n"
     ]
    }
   ],
   "source": [
    "entity_boxes = []\n",
    "entities = []\n",
    "torch.cuda.empty_cache()\n",
    "max_iter = 100\n",
    "i = 1\n",
    "for batch in tqdm(train_data):\n",
    "    i = i + 1\n",
    "    batch = batch_to_cuda(batch)\n",
    "    representations = duck(batch)\n",
    "    mask = batch[\"relation_ids\"][\"attention_mask\"].bool()\n",
    "    entity_boxes.append(\n",
    "        representations[\"entity_boxes\"][mask]\n",
    "    )\n",
    "    entities.append(\n",
    "        representations[\"entities\"]\n",
    "    )\n",
    "    if i >= max_iter:\n",
    "        break"
   ]
  },
  {
   "cell_type": "code",
   "execution_count": 11,
   "id": "8c3f9728",
   "metadata": {},
   "outputs": [],
   "source": [
    "entity_boxes = cat_box(entity_boxes, dim=0)\n",
    "_, entities = cartesian_to_spherical(torch.cat(entities, dim=0))"
   ]
  },
  {
   "cell_type": "code",
   "execution_count": 12,
   "id": "b5f77b0d",
   "metadata": {},
   "outputs": [],
   "source": [
    "entities = entities[..., :entity_boxes.box_shape[-1]]"
   ]
  },
  {
   "cell_type": "code",
   "execution_count": 13,
   "id": "c2a44ae5",
   "metadata": {},
   "outputs": [],
   "source": [
    "sizes = entity_boxes.right - entity_boxes.left"
   ]
  },
  {
   "cell_type": "code",
   "execution_count": 14,
   "id": "77346646",
   "metadata": {},
   "outputs": [
    {
     "data": {
      "text/plain": [
       "tensor([[1.5732, 1.5792, 1.5795,  ..., 1.5240, 1.5744, 1.5894],\n",
       "        [1.5655, 1.5578, 1.5614,  ..., 1.5354, 1.6082, 1.5837],\n",
       "        [1.5675, 1.5485, 1.5848,  ..., 1.5136, 1.5952, 1.5594],\n",
       "        ...,\n",
       "        [1.5621, 1.5341, 1.5661,  ..., 1.5302, 1.5987, 1.5978],\n",
       "        [1.5958, 1.5482, 1.5838,  ..., 1.5446, 1.6654, 1.5692],\n",
       "        [1.5767, 1.5315, 1.5674,  ..., 1.5440, 1.6520, 1.5535]],\n",
       "       device='cuda:0')"
      ]
     },
     "execution_count": 14,
     "metadata": {},
     "output_type": "execute_result"
    }
   ],
   "source": [
    "entities"
   ]
  },
  {
   "cell_type": "code",
   "execution_count": 15,
   "id": "3ace16a2",
   "metadata": {},
   "outputs": [],
   "source": [
    "# plt.style.use('seaborn')\n",
    "plt.rcParams['axes.labelsize'] = 'large'\n",
    "plt.rcParams['axes.titlesize'] = 'x-large'\n",
    "plt.rcParams['xtick.labelsize'] = 'medium'\n",
    "plt.rcParams['ytick.labelsize'] = 'medium'\n",
    "plt.rcParams['axes.spines.left'] = False\n",
    "plt.rcParams['axes.spines.right'] = False\n",
    "plt.rcParams['axes.spines.top'] = False\n",
    "plt.rcParams['axes.spines.bottom'] = False\n",
    "plt.rcParams['axes.grid'] = True\n",
    "plt.rcParams['grid.color'] = \"#dbdbdb\""
   ]
  },
  {
   "cell_type": "code",
   "execution_count": 16,
   "id": "359bb816",
   "metadata": {},
   "outputs": [],
   "source": [
    "entities = repeat(entities, \"b d -> (a b) d\", a=25)"
   ]
  },
  {
   "cell_type": "code",
   "execution_count": 18,
   "id": "a8a189d8",
   "metadata": {},
   "outputs": [
    {
     "data": {
      "image/png": "[encoded data removed]",
      "text/plain": [
       "<Figure size 720x432 with 1 Axes>"
      ]
     },
     "metadata": {
      "needs_background": "light"
     },
     "output_type": "display_data"
    }
   ],
   "source": [
    "plt.figure(figsize=(10, 6))\n",
    "plt.hist(entity_boxes.right.view(-1).cpu().numpy(), density=False, color=\"#4fbfffaa\", bins=100, label=\"Upper corner\")\n",
    "plt.hist(entity_boxes.left.view(-1).cpu().numpy(), density=False, color=\"#8cff92aa\", bins=100, label=\"Lower corner\")\n",
    "plt.hist(entities.contiguous().view(-1).cpu().numpy(), density=False, color=\"#f56042aa\", bins=100, label=\"Entities\")\n",
    "plt.title(\"Distribution of boxes and entities (Spherical coordinates)\")\n",
    "plt.legend(fontsize=14, frameon=False)\n",
    "plt.show()"
   ]
  },
  {
   "cell_type": "code",
   "execution_count": null,
   "id": "f76e9e17",
   "metadata": {},
   "outputs": [],
   "source": [
    "plt.figure(figsize=(10, 6))\n",
    "plt.hist(sizes.view(-1).cpu().numpy(), density=True, color=\"#4fbfff\", bins=100)\n",
    "plt.title(\"Distribution of the size of the boxes (Spherical coordinates)\")\n",
    "plt.show()"
   ]
  },
  {
   "cell_type": "code",
   "execution_count": null,
   "id": "88034fcf",
   "metadata": {},
   "outputs": [],
   "source": [
    "entities.size(), entity_boxes.left.size()"
   ]
  },
  {
   "cell_type": "code",
   "execution_count": null,
   "id": "d7e3dae8",
   "metadata": {},
   "outputs": [],
   "source": [
    "norms = torch.linalg.vector_norm(entities, dim=-1, ord=2)\n",
    "plt.figure(figsize=(10, 6))\n",
    "plt.hist(norms.view(-1).cpu().numpy(), density=True, color=\"#4fbfff\", bins=100)\n",
    "# plt.text(16.62, 70, f'$\\mu={torch.mean(norms):.2f}$', fontsize=16)\n",
    "# plt.text(16.62, 57, f'$\\sigma={torch.std(norms):.4f}$', fontsize=16)\n",
    "plt.title('Distribution of embedding norms')\n",
    "plt.show()"
   ]
  },
  {
   "cell_type": "code",
   "execution_count": null,
   "id": "9149c128",
   "metadata": {},
   "outputs": [],
   "source": [
    "mean = entities.mean(dim=0)\n",
    "mean_direction = mean / torch.linalg.vector_norm(mean, ord=2)\n",
    "import torch.nn.functional as f \n",
    "normalised_embeddings = entities / torch.linalg.vector_norm(entities, ord=2.0, dim=-1).unsqueeze(-1)\n",
    "exp_mean_dir = mean_direction.expand(entities.shape[0], -1)\n",
    "all_cosine_nonsummed = normalised_embeddings * exp_mean_dir\n",
    "all_cosine = torch.sum(all_cosine_nonsummed, dim=-1)"
   ]
  },
  {
   "cell_type": "code",
   "execution_count": null,
   "id": "3f280f2b",
   "metadata": {},
   "outputs": [],
   "source": [
    "torch.nn.CosineSimilarity()(entities, exp_mean_dir)"
   ]
  },
  {
   "cell_type": "code",
   "execution_count": null,
   "id": "51603d23",
   "metadata": {},
   "outputs": [],
   "source": [
    "plt.figure(figsize=(10, 6))\n",
    "plt.hist(all_cosine.view(-1).cpu().numpy(), density=True, color=\"#4fbfff\", bins=100)\n",
    "plt.xlim(0, 1)\n",
    "plt.title(\"Cosine similarity with mean direction\")\n",
    "plt.show()"
   ]
  },
  {
   "cell_type": "code",
   "execution_count": null,
   "id": "e356f91d",
   "metadata": {},
   "outputs": [],
   "source": [
    "exp_mean_dir.size()"
   ]
  },
  {
   "cell_type": "code",
   "execution_count": null,
   "id": "663cc894",
   "metadata": {},
   "outputs": [],
   "source": [
    "entities.size()"
   ]
  },
  {
   "cell_type": "code",
   "execution_count": null,
   "id": "5f211247",
   "metadata": {},
   "outputs": [],
   "source": []
  },
  {
   "cell_type": "code",
   "execution_count": null,
   "id": "5ff36e2b",
   "metadata": {},
   "outputs": [],
   "source": []
  }
 ],
 "metadata": {
  "kernelspec": {
   "display_name": "Python [conda env:duck]",
   "language": "python",
   "name": "conda-env-duck-py"
  },
  "language_info": {
   "codemirror_mode": {
    "name": "ipython",
    "version": 3
   },
   "file_extension": ".py",
   "mimetype": "text/x-python",
   "name": "python",
   "nbconvert_exporter": "python",
   "pygments_lexer": "ipython3",
   "version": "3.9.7"
  }
 },
 "nbformat": 4,
 "nbformat_minor": 5
}
