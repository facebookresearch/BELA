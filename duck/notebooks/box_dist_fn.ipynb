{
 "cells": [
  {
   "cell_type": "code",
   "execution_count": 1,
   "id": "71d909be",
   "metadata": {},
   "outputs": [],
   "source": [
    "import sys\n",
    "sys.path.append('/fsx/matzeni/duck')"
   ]
  },
  {
   "cell_type": "code",
   "execution_count": 2,
   "id": "84fa3f41",
   "metadata": {},
   "outputs": [],
   "source": [
    "import torch\n",
    "from einops import rearrange, repeat\n",
    "from duck.box_tensors import BoxTensor\n",
    "from matplotlib import pyplot as plt"
   ]
  },
  {
   "cell_type": "code",
   "execution_count": null,
   "id": "ca26f8da",
   "metadata": {},
   "outputs": [],
   "source": [
    "# plt.style.use('seaborn')\n",
    "plt.rcParams['axes.labelsize'] = 'large'\n",
    "plt.rcParams['axes.titlesize'] = 'x-large'\n",
    "plt.rcParams['xtick.labelsize'] = 'medium'\n",
    "plt.rcParams['ytick.labelsize'] = 'medium'\n",
    "plt.rcParams['axes.spines.left'] = False\n",
    "plt.rcParams['axes.spines.right'] = False\n",
    "plt.rcParams['axes.spines.top'] = False\n",
    "plt.rcParams['axes.spines.bottom'] = False\n",
    "plt.rcParams['axes.grid'] = True\n",
    "plt.rcParams['grid.color'] = \"#dbdbdb\"\n",
    "colors = [\"#4fbfff\", \"#8cff92\", \"#ff976e\"]"
   ]
  },
  {
   "cell_type": "code",
   "execution_count": null,
   "id": "c6af4aeb",
   "metadata": {},
   "outputs": [],
   "source": [
    "def make_box(box_width):\n",
    "    dim = 1\n",
    "    bsz = 1\n",
    "    v1 = -(box_width / 2) * torch.ones((bsz, dim))\n",
    "    v2 = +(box_width / 2) * torch.ones((bsz, dim))\n",
    "    box = BoxTensor((v1, v2))\n",
    "    return box"
   ]
  },
  {
   "cell_type": "code",
   "execution_count": null,
   "id": "e39cb229",
   "metadata": {},
   "outputs": [],
   "source": [
    "def boxe_dist(entity, box):\n",
    "    width = box.right - box.left\n",
    "    widthp1 = width + 1\n",
    "    dist_inside = torch.abs(entity - box.center) / widthp1\n",
    "    outside_mask = (entity < box.left) | (entity > box.right)\n",
    "    kappa = 0.5 * width * (widthp1 - (1 / widthp1))\n",
    "    dist_outside = torch.abs(entity - box.center) * widthp1 - kappa\n",
    "    # dist = dist_inside.masked_fill(outside_mask, dist_outside)\n",
    "    # return dist\n",
    "    return torch.where(outside_mask, dist_outside, dist_inside)"
   ]
  },
  {
   "cell_type": "code",
   "execution_count": null,
   "id": "b1102eca",
   "metadata": {},
   "outputs": [],
   "source": [
    "x = torch.linspace(-5, 5, steps=100)\n",
    "plt.figure(figsize=(10, 10))\n",
    "box_widths = [2, 4, 6]\n",
    "for i, box_width in enumerate(box_widths):\n",
    "    box = make_box(box_width)\n",
    "    plt.plot(x, boxe_dist(x, box).squeeze(0), color=colors[i], label=f\"Box width = {box_width}\", linewidth=3)\n",
    "plt.legend(frameon=False, fontsize=16)\n",
    "plt.show()"
   ]
  },
  {
   "cell_type": "code",
   "execution_count": null,
   "id": "69b3e6d0",
   "metadata": {},
   "outputs": [],
   "source": []
  },
  {
   "cell_type": "code",
   "execution_count": null,
   "id": "f4f4ae9a",
   "metadata": {},
   "outputs": [],
   "source": []
  }
 ],
 "metadata": {
  "kernelspec": {
   "display_name": "Python [conda env:duck]",
   "language": "python",
   "name": "conda-env-duck-py"
  },
  "language_info": {
   "codemirror_mode": {
    "name": "ipython",
    "version": 3
   },
   "file_extension": ".py",
   "mimetype": "text/x-python",
   "name": "python",
   "nbconvert_exporter": "python",
   "pygments_lexer": "ipython3",
   "version": "3.9.7"
  }
 },
 "nbformat": 4,
 "nbformat_minor": 5
}
