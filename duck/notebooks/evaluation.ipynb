{
 "cells": [
  {
   "cell_type": "code",
   "execution_count": 1,
   "id": "79d19c83",
   "metadata": {},
   "outputs": [],
   "source": [
    "import sys\n",
    "sys.path.append('/fsx/matzeni/duck')"
   ]
  },
  {
   "cell_type": "code",
   "execution_count": 2,
   "id": "99d6e2e3",
   "metadata": {},
   "outputs": [],
   "source": [
    "import torch\n",
    "import h5py\n",
    "import json\n",
    "from pathlib import Path\n",
    "import pickle\n",
    "from tqdm import tqdm\n",
    "import logging\n",
    "from transformers import AutoTokenizer\n",
    "from typing import Any, Dict, List, Optional, Tuple\n",
    "import copy\n",
    "from einops import rearrange, repeat\n",
    "import numpy as np\n",
    "from duck.box_tensors import BoxTensor\n",
    "from duck.task.duck_loss import BoxEDistance\n",
    "from duck.task.duck_entity_disambiguation import Duck\n",
    "from hydra import compose, initialize\n",
    "import hydra\n",
    "from duck.common.utils import seed_prg\n",
    "import collections\n",
    "import logging\n",
    "import math\n",
    "from duck.box_tensors.functional import cat_box\n",
    "from matplotlib import pyplot as plt\n",
    "from duck.common.utils import cartesian_to_spherical, load_json, load_jsonl\n",
    "from einops import repeat, rearrange\n",
    "import pandas as pd\n",
    "from omegaconf import open_dict\n",
    "import gc"
   ]
  },
  {
   "cell_type": "code",
   "execution_count": 3,
   "id": "1e9ee2dc",
   "metadata": {},
   "outputs": [
    {
     "data": {
      "text/plain": [
       "<torch.autograd.grad_mode.set_grad_enabled at 0x7f886c2529a0>"
      ]
     },
     "execution_count": 3,
     "metadata": {},
     "output_type": "execute_result"
    }
   ],
   "source": [
    "torch.set_grad_enabled(False)"
   ]
  },
  {
   "cell_type": "code",
   "execution_count": 4,
   "id": "317516b8",
   "metadata": {},
   "outputs": [
    {
     "data": {
      "text/plain": [
       "hydra.initialize()"
      ]
     },
     "execution_count": 4,
     "metadata": {},
     "output_type": "execute_result"
    }
   ],
   "source": [
    "initialize(config_path=\"../conf\", version_base=None)"
   ]
  },
  {
   "cell_type": "code",
   "execution_count": 5,
   "id": "4ffd8c68",
   "metadata": {},
   "outputs": [],
   "source": [
    "# ckpt_path = \"/checkpoints/matzeni/duck/checkpoints/duck/duck_hard_epoch=0_val_f1=0.887_130087_last.ckpt\"\n",
    "ckpt_path = \"/checkpoints/matzeni/duck/checkpoints/duck/duck_aida_epoch=1_val_f1=0.884_130100.ckpt\"\n",
    "duck = Duck.load_from_checkpoint(ckpt_path).eval().cuda()"
   ]
  },
  {
   "cell_type": "code",
   "execution_count": 6,
   "id": "f483bb5c",
   "metadata": {},
   "outputs": [],
   "source": [
    "config = compose(\n",
    "    config_name=\"duck\",\n",
    "    overrides=[]\n",
    ")\n",
    "with open_dict(config):\n",
    "    # No need to read the training set\n",
    "    config.data.relation_threshold = 0\n",
    "    config.data.train_path = config.data.val_paths.aida_train\n",
    "    config.data.val_paths = {}\n",
    "    config.data.batch_size = 1\n",
    "    config.data.transform.max_mention_len = 512\n",
    "datamodule = hydra.utils.instantiate(config.data)"
   ]
  },
  {
   "cell_type": "code",
   "execution_count": 7,
   "id": "50455f8f",
   "metadata": {},
   "outputs": [],
   "source": [
    "dataset_names = list(config.data.test_paths.keys())\n",
    "test_dataloaders = {\n",
    "    dataset_names[i]: dataloader for i, dataloader in enumerate(datamodule.test_dataloader())\n",
    "}"
   ]
  },
  {
   "cell_type": "code",
   "execution_count": 8,
   "id": "297d48b2",
   "metadata": {},
   "outputs": [],
   "source": [
    "def eval_loop(dataloader):\n",
    "    results = []\n",
    "    for batch in tqdm(dataloader):\n",
    "        batch = duck.batch_to_device(batch)\n",
    "        mentions = duck.encode_mention(batch[\"mentions\"])\n",
    "        if batch[\"candidate_tokens\"][\"data\"].dim() == 2:\n",
    "            continue\n",
    "        candidates = batch[\"candidate_tokens\"][\"data\"]\n",
    "        candidate_mask = batch[\"candidate_tokens\"][\"attention_mask\"].bool()\n",
    "        n = candidates.size(1)\n",
    "        candidates, _ = duck.entity_encoder(\n",
    "            rearrange(candidates, \"b n d -> (b n) d\"),\n",
    "            attention_mask=rearrange(candidate_mask, \"b n d -> (b n) d\")\n",
    "        )\n",
    "        candidates = rearrange(candidates, \"(b n) d -> b n d\", n=n)\n",
    "        scores = duck.score(mentions, candidates)\n",
    "        mask = batch[\"candidates\"][\"attention_mask\"].bool()\n",
    "        scores[~mask] = 0\n",
    "        preds = scores.argmax(dim=-1)\n",
    "        preds = batch[\"candidates\"][\"data\"].gather(-1, preds.unsqueeze(0)).squeeze(0)\n",
    "        ground_truth = batch[\"entity_ids\"]\n",
    "        preds = preds[mask.any(dim=-1)]\n",
    "        ground_truth = ground_truth[mask.any(dim=-1)]\n",
    "        matches = preds == ground_truth\n",
    "        results.append(matches)\n",
    "    results = torch.cat(results)\n",
    "    acc = results.float().mean().item()\n",
    "    return acc, results"
   ]
  },
  {
   "cell_type": "code",
   "execution_count": 9,
   "id": "c0e5deb0",
   "metadata": {},
   "outputs": [
    {
     "name": "stdout",
     "output_type": "stream",
     "text": [
      "Evaluating on aida\n"
     ]
    },
    {
     "name": "stderr",
     "output_type": "stream",
     "text": [
      "100%|██████████| 4484/4484 [08:19<00:00,  8.97it/s]\n"
     ]
    },
    {
     "name": "stdout",
     "output_type": "stream",
     "text": [
      "MicroF1 on aida: 0.9373\n",
      "Evaluating on ace2004\n"
     ]
    },
    {
     "name": "stderr",
     "output_type": "stream",
     "text": [
      "100%|██████████| 240/240 [00:31<00:00,  7.60it/s]\n"
     ]
    },
    {
     "name": "stdout",
     "output_type": "stream",
     "text": [
      "MicroF1 on ace2004: 0.9500\n",
      "Evaluating on acquaint\n"
     ]
    },
    {
     "name": "stderr",
     "output_type": "stream",
     "text": [
      "100%|██████████| 702/702 [01:05<00:00, 10.74it/s]\n"
     ]
    },
    {
     "name": "stdout",
     "output_type": "stream",
     "text": [
      "MicroF1 on acquaint: 0.9131\n",
      "Evaluating on clueweb\n"
     ]
    },
    {
     "name": "stderr",
     "output_type": "stream",
     "text": [
      "100%|██████████| 11078/11078 [17:57<00:00, 10.28it/s]\n"
     ]
    },
    {
     "name": "stdout",
     "output_type": "stream",
     "text": [
      "MicroF1 on clueweb: 0.7829\n",
      "Evaluating on msnbc\n"
     ]
    },
    {
     "name": "stderr",
     "output_type": "stream",
     "text": [
      "100%|██████████| 651/651 [00:56<00:00, 11.59it/s]\n"
     ]
    },
    {
     "name": "stdout",
     "output_type": "stream",
     "text": [
      "MicroF1 on msnbc: 0.9462\n",
      "Evaluating on wiki\n"
     ]
    },
    {
     "name": "stderr",
     "output_type": "stream",
     "text": [
      "100%|██████████| 6785/6785 [09:28<00:00, 11.93it/s]"
     ]
    },
    {
     "name": "stdout",
     "output_type": "stream",
     "text": [
      "MicroF1 on wiki: 0.8590\n"
     ]
    },
    {
     "name": "stderr",
     "output_type": "stream",
     "text": [
      "\n"
     ]
    }
   ],
   "source": [
    "microf1 = {}\n",
    "results = {}\n",
    "for dataset, dataloader in test_dataloaders.items():\n",
    "    print(f\"Evaluating on {dataset}\")\n",
    "    f1, matches = eval_loop(dataloader)\n",
    "    print(f\"MicroF1 on {dataset}: {f1:.4f}\")\n",
    "    microf1[dataset] = f1\n",
    "    results[dataset] = matches"
   ]
  },
  {
   "cell_type": "code",
   "execution_count": 12,
   "id": "61db03c1",
   "metadata": {},
   "outputs": [
    {
     "name": "stdout",
     "output_type": "stream",
     "text": [
      "Average:  0.8980885545412699\n"
     ]
    }
   ],
   "source": [
    "print(\"Average: \", sum(microf1.values()) / len(microf1))"
   ]
  },
  {
   "cell_type": "code",
   "execution_count": null,
   "id": "13e41b14",
   "metadata": {},
   "outputs": [],
   "source": []
  }
 ],
 "metadata": {
  "kernelspec": {
   "display_name": "Python 3 (ipykernel)",
   "language": "python",
   "name": "python3"
  },
  "language_info": {
   "codemirror_mode": {
    "name": "ipython",
    "version": 3
   },
   "file_extension": ".py",
   "mimetype": "text/x-python",
   "name": "python",
   "nbconvert_exporter": "python",
   "pygments_lexer": "ipython3",
   "version": "3.9.7"
  }
 },
 "nbformat": 4,
 "nbformat_minor": 5
}
