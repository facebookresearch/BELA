{
 "cells": [
  {
   "cell_type": "markdown",
   "metadata": {},
   "source": [
    "# Box Tensors Demo"
   ]
  },
  {
   "cell_type": "code",
   "execution_count": 1,
   "metadata": {},
   "outputs": [],
   "source": [
    "import sys\n",
    "import torch\n",
    "from typing import List\n",
    "from matplotlib import pyplot as plt\n",
    "import matplotlib\n",
    "import numpy as np\n",
    "sys.path.append('/fsx/matzeni/duck')"
   ]
  },
  {
   "cell_type": "code",
   "execution_count": 2,
   "metadata": {},
   "outputs": [],
   "source": [
    "from duck.box_tensors import BoxTensor\n",
    "from duck.box_tensors.volume import bessel_volume_approx, soft_volume, hard_volume, Volume\n",
    "from duck.box_tensors.intersection import HardIntersection, GumbelIntersection, Intersection\n",
    "from duck.box_tensors.functional import stack_box"
   ]
  },
  {
   "cell_type": "markdown",
   "metadata": {
    "pycharm": {
     "name": "#%% md\n"
    }
   },
   "source": [
    "### Initializing a box tensor"
   ]
  },
  {
   "cell_type": "code",
   "execution_count": 3,
   "metadata": {
    "pycharm": {
     "name": "#%%\n"
    }
   },
   "outputs": [
    {
     "data": {
      "text/plain": [
       "BoxTensor(\n",
       "tensor([[0., 0.],\n",
       "        [1., 1.]])\n",
       ")"
      ]
     },
     "execution_count": 3,
     "metadata": {},
     "output_type": "execute_result"
    }
   ],
   "source": [
    "left = [0.0, 0.0]\n",
    "right = [1.0, 1.0]\n",
    "data = torch.tensor([left, right])\n",
    "box1 = BoxTensor(data)\n",
    "box1"
   ]
  },
  {
   "cell_type": "code",
   "execution_count": 4,
   "metadata": {
    "pycharm": {
     "name": "#%%\n"
    }
   },
   "outputs": [
    {
     "name": "stdout",
     "output_type": "stream",
     "text": [
      "Center of the box:\n",
      "tensor([0.5000, 0.5000])\n"
     ]
    }
   ],
   "source": [
    "print(\"Center of the box:\")\n",
    "print(box1.center)"
   ]
  },
  {
   "cell_type": "markdown",
   "metadata": {},
   "source": [
    "### Box Volume"
   ]
  },
  {
   "cell_type": "code",
   "execution_count": 5,
   "metadata": {
    "pycharm": {
     "name": "#%%\n"
    }
   },
   "outputs": [
    {
     "name": "stdout",
     "output_type": "stream",
     "text": [
      "Log soft volume: 0.55\n",
      "Soft volume: 1.72e+00\n",
      "\n",
      "Log bessel volume: -0.96\n",
      "Bessel volume: 3.83e-01\n",
      "\n",
      "Log hard volume: 0.00\n",
      "Hard volume: 1.00e+00\n"
     ]
    }
   ],
   "source": [
    "# Log Soft volume\n",
    "print(f\"Log soft volume: {soft_volume(box1):.2f}\")\n",
    "\n",
    "# Soft volume\n",
    "print(f\"Soft volume: {soft_volume(box1, log_scale=False):.2e}\")\n",
    "\n",
    "print()\n",
    "\n",
    "# Log Bessel volume\n",
    "print(f\"Log bessel volume: {bessel_volume_approx(box1):.2f}\")\n",
    "\n",
    "# Bessel volume\n",
    "print(f\"Bessel volume: {bessel_volume_approx(box1, log_scale=False):.2e}\")\n",
    "\n",
    "print()\n",
    "\n",
    "# Log hard volume\n",
    "print(f\"Log hard volume: {hard_volume(box1):.2f}\")\n",
    "\n",
    "# Hard volume\n",
    "print(f\"Hard volume: {hard_volume(box1, log_scale=False):.2e}\")"
   ]
  },
  {
   "cell_type": "markdown",
   "metadata": {},
   "source": [
    "### Box Intersection"
   ]
  },
  {
   "cell_type": "code",
   "execution_count": 6,
   "metadata": {
    "pycharm": {
     "name": "#%%\n"
    }
   },
   "outputs": [
    {
     "name": "stdout",
     "output_type": "stream",
     "text": [
      "Hard intersection:\n",
      "BoxTensor(\n",
      "\tleft=tensor([0., 0.], grad_fn=<MaxBackward0>),\n",
      "\tright=tensor([0.5000, 0.5000], grad_fn=<MinBackward0>)\n",
      ")\n",
      "\n",
      "Gumbel intersection:\n",
      "BoxTensor(\n",
      "\tleft=tensor([0.0007, 0.0007], grad_fn=<MulBackward0>),\n",
      "\tright=tensor([0.4993, 0.4993], grad_fn=<MulBackward0>)\n",
      ")\n"
     ]
    }
   ],
   "source": [
    "# Creating two boxes\n",
    "left1 = [0.0, 0.0]\n",
    "right1 = [1.0, 1.0]\n",
    "data1 = torch.tensor([left1, right1])\n",
    "box1 = BoxTensor(data1)\n",
    "\n",
    "left2 = [-0.5, -0.5]\n",
    "right2 = [0.5, 0.5]\n",
    "data2 = torch.tensor([left2, right2], requires_grad=True)\n",
    "box2 = BoxTensor(data2)\n",
    "\n",
    "hard_intersection = HardIntersection()\n",
    "gumbel_intersection = GumbelIntersection(intersection_temperature=0.1)\n",
    "\n",
    "print(\"Hard intersection:\")\n",
    "# Intersection of box1 and box2\n",
    "print(hard_intersection(box1, box2))\n",
    "\n",
    "print()\n",
    "\n",
    "print(\"Gumbel intersection:\")\n",
    "# Gumbel intersection of box1 and box2\n",
    "print(gumbel_intersection(box1, box2))"
   ]
  },
  {
   "cell_type": "markdown",
   "metadata": {},
   "source": [
    "## Box Training"
   ]
  },
  {
   "cell_type": "code",
   "execution_count": 7,
   "metadata": {
    "pycharm": {
     "name": "#%%\n"
    }
   },
   "outputs": [
    {
     "name": "stdout",
     "output_type": "stream",
     "text": [
      "Iteration 0, loss = 67.5864\n",
      "Iteration 1, loss = 1.9609\n",
      "Iteration 2, loss = 1.2382\n",
      "Iteration 3, loss = 0.8086\n",
      "Iteration 4, loss = 0.5695\n",
      "Iteration 5, loss = 0.4213\n",
      "Iteration 6, loss = 0.3193\n",
      "Iteration 7, loss = 0.2446\n",
      "Iteration 8, loss = 0.2030\n",
      "Iteration 9, loss = 0.1628\n",
      "Iteration 10, loss = 0.1237\n",
      "Iteration 11, loss = 0.0855\n",
      "Iteration 12, loss = 0.0478\n",
      "Iteration 13, loss = 0.0105\n",
      "Iteration 14, loss = -0.0000\n",
      "Iteration 15, loss = -0.0000\n",
      "Iteration 16, loss = -0.0000\n",
      "Iteration 17, loss = -0.0000\n",
      "Iteration 18, loss = -0.0000\n",
      "Iteration 19, loss = -0.0000\n",
      "BoxTensor(\n",
      "tensor([[-2.0000, -2.0000, -2.0000, -2.0000, -2.0000, -2.0000, -2.0000, -2.0000,\n",
      "         -2.0000, -2.0000, -2.0000, -2.0000, -2.0000, -2.0000, -2.0000],\n",
      "        [ 1.0000,  0.9967,  0.9827,  1.0260,  1.0031,  0.9823,  0.9643,  1.0109,\n",
      "          0.9980,  0.9869,  1.0375,  1.0291,  1.0792,  1.1801,  1.4934]],\n",
      "       dtype=torch.float64, requires_grad=True)\n",
      ")\n",
      "BoxTensor(\n",
      "tensor([[ 0.6114, -0.3223, -0.5149, -0.5917, -0.6285, -0.6475, -0.6580, -0.6651,\n",
      "         -0.6710, -0.6764, -0.6828, -0.6924, -0.7084, -0.7424, -0.8582],\n",
      "        [ 0.4553,  0.8971,  0.9425,  0.8990,  0.9164,  0.9318,  0.9476,  0.9043,\n",
      "          0.9270,  0.9561,  0.9362,  0.9966,  1.0394,  1.1337,  1.4315]],\n",
      "       dtype=torch.float64, requires_grad=True)\n",
      ")\n"
     ]
    }
   ],
   "source": [
    "left1 = np.array([-2.0 for n in range(1, 16)])\n",
    "right1 = np.array([0.0 for k in left1])\n",
    "data1 = np.array([left1, right1])\n",
    "data1 = torch.tensor(data1, requires_grad=True)\n",
    "box1 = BoxTensor(data1)\n",
    "\n",
    "left2 = np.array([1 / n for n in range(1, 16)])\n",
    "right2 = np.array([1 + k for k in reversed(left2)])\n",
    "data2 = np.array([left2, right2])\n",
    "data2 = torch.tensor(data2, requires_grad=True)\n",
    "box2 = BoxTensor(data2)\n",
    "\n",
    "# Training loop\n",
    "learning_rate = 0.1\n",
    "def train(box1, box2, optimizer, epochs=1):\n",
    "    best_loss = int()\n",
    "    best_box_1 = None\n",
    "    best_box_2 = None\n",
    "    box_vol = Volume(volume_temperature=0.1, intersection_temperature=0.0001)\n",
    "    box_int = Intersection(intersection_temperature=0.0001)\n",
    "    for e in range(epochs):\n",
    "        loss = box_vol(box2) - box_vol(box_int(box1, box2))\n",
    "        optimizer.zero_grad()\n",
    "        loss.backward()\n",
    "        optimizer.step()\n",
    "        if best_loss < loss.item():\n",
    "            best_loss = loss.item()\n",
    "            best_box_2 = box2\n",
    "            best_box_1 = box1\n",
    "        print('Iteration %d, loss = %.4f' % (e, loss.item()))\n",
    "    return best_box_1, best_box_2\n",
    "\n",
    "optimizer = torch.optim.SGD([data1, data2], lr=learning_rate)\n",
    "contained_box1, contained_box2 = train(box1, box2, optimizer, epochs=20)\n",
    "# Print the coordinates of the boxes after training\n",
    "print(contained_box1)\n",
    "print(contained_box2)"
   ]
  },
  {
   "cell_type": "code",
   "execution_count": 8,
   "metadata": {
    "pycharm": {
     "name": "#%%\n"
    }
   },
   "outputs": [
    {
     "data": {
      "image/png": "[encoded data removed]",
      "text/plain": [
       "<Figure size 432x576 with 1 Axes>"
      ]
     },
     "metadata": {
      "needs_background": "light"
     },
     "output_type": "display_data"
    },
    {
     "data": {
      "image/png": "[encoded data removed]",
      "text/plain": [
       "<Figure size 432x576 with 1 Axes>"
      ]
     },
     "metadata": {
      "needs_background": "light"
     },
     "output_type": "display_data"
    }
   ],
   "source": [
    "# Visualization functions\n",
    "def plot_dimension_interval(\n",
    "    ax, cmap, dim, box1, box2,\n",
    "    color1='#3b9dff', color2='#beff8c', label=False):\n",
    "    if not label:\n",
    "        ax.hlines(dim, box1[0], box1[1], color1, lw=10)\n",
    "        ax.hlines(dim, box2[0], box2[1], color2, lw=7)\n",
    "    else:\n",
    "        ax.hlines(dim, box1[0], box1[1], color1, lw=10, label='Box1 Intervals', cmap=cmap)\n",
    "        ax.hlines(dim, box2[0], box2[1], color2, lw=7, label='Box2 Intervals', cmap=cmap)\n",
    "\n",
    "def plot_x_and_y_box(axs, cmap, left1, right1, left2, right2):\n",
    "    for dim in range(left2.shape[0]):\n",
    "        p = dim % axs.shape[0]\n",
    "        plot_dimension_interval(\n",
    "            axs[p][0], cmap, dim,\n",
    "            [left1[dim], right1[dim]], [left2[dim], right2[dim]],\n",
    "            label=(dim==0)\n",
    "        )\n",
    "    for i in range(axs.shape[0]):\n",
    "        axs[i][0].yaxis.set_ticklabels([])\n",
    "    axs[0][0].legend(bbox_to_anchor=(0.5, 1.1), loc=\"upper center\")\n",
    "\n",
    "# Plot the coordinates of the boxes before training\n",
    "fig, axs = plt.subplots(1, 1, figsize=(6,8))\n",
    "axs = np.array([axs], dtype=object).reshape(1, 1)\n",
    "cmap = matplotlib.cm.get_cmap('Pastel1')\n",
    "mappable = matplotlib.cm.ScalarMappable(cmap=cmap)\n",
    "plot_x_and_y_box(axs, cmap, left1, right1, left2, right2)\n",
    "plt.show()\n",
    "\n",
    "# Plot the coordinates of the boxes after training\n",
    "fig, axs = plt.subplots(1, 1, figsize=(6,8))\n",
    "axs = np.array([axs], dtype=object).reshape(1, 1)\n",
    "plot_x_and_y_box(axs, cmap, contained_box1.left.detach().numpy(), contained_box1.right.detach().numpy(),\n",
    "                 contained_box2.left.detach().numpy(), contained_box2.right.detach().numpy())\n",
    "plt.show()\n"
   ]
  },
  {
   "cell_type": "code",
   "execution_count": null,
   "metadata": {},
   "outputs": [],
   "source": []
  }
 ],
 "metadata": {
  "kernelspec": {
   "display_name": "Python [conda env:duck]",
   "language": "python",
   "name": "conda-env-duck-py"
  },
  "language_info": {
   "codemirror_mode": {
    "name": "ipython",
    "version": 3
   },
   "file_extension": ".py",
   "mimetype": "text/x-python",
   "name": "python",
   "nbconvert_exporter": "python",
   "pygments_lexer": "ipython3",
   "version": "3.9.7"
  },
  "vscode": {
   "interpreter": {
    "hash": "a2f9dc29ce7319ba5b1a9da17532beea5d3ff44185c95e60743b343534fbeaf5"
   }
  }
 },
 "nbformat": 4,
 "nbformat_minor": 1
}
