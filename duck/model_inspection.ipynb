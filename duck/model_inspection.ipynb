{
 "cells": [
  {
   "cell_type": "code",
   "execution_count": 1,
   "id": "ce3900a0",
   "metadata": {},
   "outputs": [],
   "source": [
    "import sys\n",
    "sys.path.append('/fsx/matzeni/duck')"
   ]
  },
  {
   "cell_type": "code",
   "execution_count": 2,
   "id": "a9dd6d31",
   "metadata": {},
   "outputs": [],
   "source": [
    "import torch\n",
    "import h5py\n",
    "import json\n",
    "from pathlib import Path\n",
    "import pickle\n",
    "from tqdm import tqdm\n",
    "import logging\n",
    "from transformers import AutoTokenizer\n",
    "from typing import Any, Dict, List, Optional, Tuple\n",
    "import copy\n",
    "from einops import rearrange, repeat\n",
    "import numpy as np\n",
    "from duck.box_tensors import BoxTensor\n",
    "from duck.task.duck_entity_disambiguation import Duck\n",
    "from hydra import compose, initialize\n",
    "import hydra\n",
    "from duck.common.utils import make_reproducible\n",
    "import collections\n",
    "import logging\n",
    "import math\n",
    "logger = logging.getLogger()"
   ]
  },
  {
   "cell_type": "code",
   "execution_count": 3,
   "id": "6caacc57",
   "metadata": {},
   "outputs": [
    {
     "data": {
      "text/plain": [
       "hydra.initialize()"
      ]
     },
     "execution_count": 3,
     "metadata": {},
     "output_type": "execute_result"
    }
   ],
   "source": [
    "initialize(config_path=\"conf\", version_base=None)"
   ]
  },
  {
   "cell_type": "code",
   "execution_count": 5,
   "id": "fcfd9746",
   "metadata": {},
   "outputs": [],
   "source": [
    "ckpt_path = \"/checkpoints/matzeni/duck/checkpoints/jaccard_kldiv_epoch=0_duck_loss=-0.794.ckpt\"\n",
    "duck = Duck.load_from_checkpoint(ckpt_path).eval().cuda()"
   ]
  },
  {
   "cell_type": "code",
   "execution_count": 6,
   "id": "0fcbed71",
   "metadata": {},
   "outputs": [],
   "source": [
    "config = compose(\n",
    "    config_name=\"duck_conf\",\n",
    "    overrides=[]\n",
    ")"
   ]
  },
  {
   "cell_type": "code",
   "execution_count": 7,
   "id": "7e6e61fc",
   "metadata": {},
   "outputs": [],
   "source": [
    "datamodule = hydra.utils.instantiate(config.data)"
   ]
  },
  {
   "cell_type": "code",
   "execution_count": 8,
   "id": "530f9b01",
   "metadata": {},
   "outputs": [],
   "source": [
    "def batch_to_cuda(batch):\n",
    "    if isinstance(batch, torch.Tensor):\n",
    "        return batch.cuda()\n",
    "    if isinstance(batch, collections.abc.Mapping):\n",
    "        return {k: batch_to_cuda(v) for k, v in batch.items()}\n",
    "    if isinstance(batch, str):\n",
    "        return batch\n",
    "    if isinstance(batch, collections.abc.Sequence):\n",
    "        return [batch_to_cuda(v) for v in batch]\n",
    "    return batch"
   ]
  },
  {
   "cell_type": "code",
   "execution_count": 9,
   "id": "0f69db92",
   "metadata": {},
   "outputs": [],
   "source": [
    "make_reproducible(ngpus=config.trainer.devices)\n",
    "train_data = datamodule.train_dataloader()\n",
    "train_data_iterator = iter(train_data)"
   ]
  },
  {
   "cell_type": "code",
   "execution_count": 10,
   "id": "8b5478eb",
   "metadata": {},
   "outputs": [],
   "source": [
    "batch = next(train_data_iterator)\n",
    "batch = next(train_data_iterator)\n",
    "batch = batch_to_cuda(batch)\n",
    "representations = duck(batch)\n",
    "mentions = representations[\"mentions\"]\n",
    "entities = representations[\"entities\"]\n",
    "entity_boxes = representations[\"entity_boxes\"]\n",
    "neighbors = representations[\"neighbors\"]\n",
    "neighbor_boxes = representations[\"neighbor_boxes\"]\n",
    "entity_relation_ids = batch[\"relation_ids\"]\n",
    "neighbor_relation_ids = batch[\"neighbor_relation_ids\"]\n",
    "neighbors, neighbor_boxes, neighbor_relation_ids = duck._extend_with_in_batch_neighbors(\n",
    "    neighbors,\n",
    "    neighbor_boxes,\n",
    "    neighbor_relation_ids\n",
    ")        "
   ]
  },
  {
   "cell_type": "code",
   "execution_count": 11,
   "id": "5a725b51",
   "metadata": {},
   "outputs": [
    {
     "name": "stdout",
     "output_type": "stream",
     "text": [
      "['Skeid Fotball', 'Atlético Madrid', 'FC Lokomotíva Košice', 'Japan', 'England', 'Switzerland', 'Greenwich Mean Time', 'Hull City A.F.C.', 'Mike Watkinson', 'Albania', \"Finland men's national ice hockey team\", 'United States', 'United States', 'Portugal', 'United Nations', 'London Stansted Airport', 'Germany', 'Croatia', 'Northamptonshire County Cricket Club', 'Paris', 'Super League', 'Husqvarna Motorcycles', 'Mikael Tillström', 'St. Louis Cardinals', 'Carl Fogarty', \"Standard & Poor's\", 'Pol Pot', 'Dakar', 'Olympic sports', 'Greenwich Mean Time', 'Sweden', 'Brisbane Lions']\n"
     ]
    }
   ],
   "source": [
    "print(batch[\"entity_labels\"])"
   ]
  },
  {
   "cell_type": "code",
   "execution_count": 12,
   "id": "5ca6e0b6",
   "metadata": {},
   "outputs": [
    {
     "data": {
      "text/plain": [
       "BoxTensor(\n",
       "\tleft=tensor([[-0.0151,  0.0026, -0.0225,  ..., -0.0041, -0.0206,  0.0002],\n",
       "        [-0.0151,  0.0026, -0.0225,  ..., -0.0041, -0.0206,  0.0002],\n",
       "        [-0.0151,  0.0026, -0.0225,  ..., -0.0041, -0.0206,  0.0002],\n",
       "        ...,\n",
       "        [-0.0151,  0.0026, -0.0225,  ..., -0.0041, -0.0206,  0.0002],\n",
       "        [-0.0151,  0.0026, -0.0225,  ..., -0.0041, -0.0206,  0.0002],\n",
       "        [-0.0151,  0.0026, -0.0225,  ..., -0.0041, -0.0206,  0.0002]],\n",
       "       device='cuda:0', grad_fn=<AddmmBackward>),\n",
       "\tright=tensor([[0.9895, 1.0000, 0.9884,  ..., 0.9928, 0.9911, 0.9933],\n",
       "        [0.9895, 1.0000, 0.9884,  ..., 0.9928, 0.9911, 0.9933],\n",
       "        [0.9895, 1.0000, 0.9884,  ..., 0.9928, 0.9911, 0.9933],\n",
       "        ...,\n",
       "        [0.9895, 1.0000, 0.9884,  ..., 0.9928, 0.9911, 0.9933],\n",
       "        [0.9895, 1.0000, 0.9884,  ..., 0.9928, 0.9911, 0.9933],\n",
       "        [0.9895, 1.0000, 0.9884,  ..., 0.9928, 0.9911, 0.9933]],\n",
       "       device='cuda:0', grad_fn=<AddBackward0>)\n",
       ")"
      ]
     },
     "execution_count": 12,
     "metadata": {},
     "output_type": "execute_result"
    }
   ],
   "source": [
    "entity_boxes"
   ]
  },
  {
   "cell_type": "code",
   "execution_count": null,
   "id": "53b2dd0f",
   "metadata": {},
   "outputs": [],
   "source": []
  }
 ],
 "metadata": {
  "kernelspec": {
   "display_name": "Python [conda env:duck]",
   "language": "python",
   "name": "conda-env-duck-py"
  },
  "language_info": {
   "codemirror_mode": {
    "name": "ipython",
    "version": 3
   },
   "file_extension": ".py",
   "mimetype": "text/x-python",
   "name": "python",
   "nbconvert_exporter": "python",
   "pygments_lexer": "ipython3",
   "version": "3.9.7"
  }
 },
 "nbformat": 4,
 "nbformat_minor": 5
}
