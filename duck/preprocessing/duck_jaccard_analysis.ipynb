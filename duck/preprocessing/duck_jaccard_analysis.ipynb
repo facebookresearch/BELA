{
 "cells": [
  {
   "cell_type": "markdown",
   "id": "d4df13f0",
   "metadata": {},
   "source": [
    "# Data Analysis and Jaccard Duck Score"
   ]
  },
  {
   "cell_type": "code",
   "execution_count": 1,
   "id": "60136d11",
   "metadata": {},
   "outputs": [],
   "source": [
    "import torch\n",
    "import pickle\n",
    "from pathlib import Path\n",
    "import requests\n",
    "import json\n",
    "from xml.dom import minidom\n",
    "from tqdm import tqdm\n",
    "import time\n",
    "from matplotlib import pyplot as plt\n",
    "import numpy as np\n",
    "import pandas as pd"
   ]
  },
  {
   "cell_type": "code",
   "execution_count": 3,
   "id": "b22df9e0",
   "metadata": {},
   "outputs": [],
   "source": [
    "plt.style.use('seaborn')\n",
    "plt.rcParams['axes.labelsize'] = 'large'\n",
    "plt.rcParams['axes.titlesize'] = 'x-large'\n",
    "plt.rcParams['xtick.labelsize'] = 'medium'\n",
    "plt.rcParams['ytick.labelsize'] = 'medium'"
   ]
  },
  {
   "cell_type": "markdown",
   "id": "eeb35358",
   "metadata": {},
   "source": [
    "## Loading data"
   ]
  },
  {
   "cell_type": "code",
   "execution_count": 5,
   "id": "3fa187b2",
   "metadata": {},
   "outputs": [],
   "source": [
    "with open(\"/fsx/matzeni/data/entity_to_properties_crawled.pkl\", \"rb\") as f:\n",
    "    entity_to_properties = pickle.load(f)\n",
    "\n",
    "with open(\"/fsx/matzeni/data/property_ids_to_labels.pkl\", \"rb\") as f:\n",
    "    property_ids_to_labels = pickle.load(f)"
   ]
  },
  {
   "cell_type": "code",
   "execution_count": 6,
   "id": "48b53a6d",
   "metadata": {},
   "outputs": [],
   "source": [
    "label_to_property_id = {v: k for k, v in property_ids_to_labels.items()}"
   ]
  },
  {
   "cell_type": "code",
   "execution_count": 7,
   "id": "6dc823c4",
   "metadata": {},
   "outputs": [],
   "source": [
    "wikipedia_to_wikidata_path = Path(\"/fsx/matzeni/data/en_title2wikidataID.pkl\")\n",
    "with open(wikipedia_to_wikidata_path, \"rb\") as f:\n",
    "    wikipedia_to_wikidata = pickle.load(f)"
   ]
  },
  {
   "cell_type": "code",
   "execution_count": 8,
   "id": "c962d8a4",
   "metadata": {},
   "outputs": [],
   "source": [
    "wikidata_to_wikipedia = {\n",
    "    wid: title\n",
    "    for title, wids in wikipedia_to_wikidata.items()\n",
    "    for wid in wids\n",
    "}"
   ]
  },
  {
   "cell_type": "code",
   "execution_count": 15,
   "id": "82b26521",
   "metadata": {},
   "outputs": [],
   "source": [
    "def read_entities():\n",
    "    ned_dataset_paths = list(Path(\"/fsx/matzeni/data/WNED/wned-datasets/\").rglob(\"*.xml\"))\n",
    "    entities = []\n",
    "    for dataset_path in ned_dataset_paths:\n",
    "        dom = minidom.parse(str(dataset_path))\n",
    "        current_entities = [\n",
    "            element.childNodes[0].nodeValue for element in dom.getElementsByTagName(\"wikiName\")\n",
    "            if len(element.childNodes) > 0\n",
    "        ]\n",
    "        current_entities = [e.strip() for e in current_entities if e is not None and e.strip() != \"\"]\n",
    "        entities += current_entities\n",
    "    return entities"
   ]
  },
  {
   "cell_type": "code",
   "execution_count": 16,
   "id": "4d77708b",
   "metadata": {},
   "outputs": [],
   "source": [
    "def resolve_mention(mention):\n",
    "    if mention not in wikipedia_to_wikidata:\n",
    "        return None\n",
    "    wids = wikipedia_to_wikidata[mention]\n",
    "    if len(wids) == 1:\n",
    "        return list(wids)[0]\n",
    "    for wid in wids:\n",
    "        if wid in entity_to_properties:\n",
    "            return wid\n",
    "    return None"
   ]
  },
  {
   "cell_type": "code",
   "execution_count": 17,
   "id": "a7ff7dcc",
   "metadata": {},
   "outputs": [],
   "source": [
    "def readable_properties(wid):\n",
    "    pids = entity_to_properties[wid]\n",
    "    return [property_ids_to_labels[pid] for pid in pids]"
   ]
  },
  {
   "cell_type": "code",
   "execution_count": 18,
   "id": "50772c08",
   "metadata": {},
   "outputs": [],
   "source": [
    "all_entities = list(set(read_entities()))"
   ]
  },
  {
   "cell_type": "markdown",
   "id": "0308497d",
   "metadata": {},
   "source": [
    "## Distribution of properties and entities"
   ]
  },
  {
   "cell_type": "code",
   "execution_count": 19,
   "id": "83182398",
   "metadata": {},
   "outputs": [
    {
     "name": "stdout",
     "output_type": "stream",
     "text": [
      "Numer of entites: 14864\n"
     ]
    }
   ],
   "source": [
    "print(f\"Numer of entites: {len(all_entities)}\")"
   ]
  },
  {
   "cell_type": "code",
   "execution_count": 20,
   "id": "6ef454f9",
   "metadata": {},
   "outputs": [
    {
     "data": {
      "image/png": "[encoded data removed]",
      "text/plain": [
       "<Figure size 576x396 with 1 Axes>"
      ]
     },
     "metadata": {},
     "output_type": "display_data"
    }
   ],
   "source": [
    "num_properties = [len(properties) for e, properties in entity_to_properties.items()]\n",
    "num_properties = np.array(num_properties)\n",
    "plt.hist(num_properties, bins=400)\n",
    "plt.xlabel(\"Number of entities\")\n",
    "plt.ylabel(\"Number of properties\")\n",
    "plt.show()"
   ]
  },
  {
   "cell_type": "code",
   "execution_count": 21,
   "id": "616eaa11",
   "metadata": {},
   "outputs": [
    {
     "name": "stdout",
     "output_type": "stream",
     "text": [
      "Entities with no properties: 33 out of 14864 (0.0022)\n",
      "\n",
      "Avergage number of properties per entity: 38.01\n"
     ]
    }
   ],
   "source": [
    "noprops = sum(num_properties == 0)\n",
    "print(f\"Entities with no properties: {noprops} out of {len(all_entities)} ({noprops / len(all_entities):.4f})\")\n",
    "print()\n",
    "avg_props = sum(num_properties) / len(num_properties)\n",
    "print(f\"Avergage number of properties per entity: {avg_props:.2f}\")"
   ]
  },
  {
   "cell_type": "code",
   "execution_count": 22,
   "id": "8f0d8fcf",
   "metadata": {},
   "outputs": [],
   "source": [
    "all_properties = {p for pids in entity_to_properties.values() for p in pids}\n",
    "property_to_entities = {p: set() for p in all_properties}\n",
    "for e, pids in entity_to_properties.items():\n",
    "    for pid in pids:\n",
    "        property_to_entities[pid].add(e)"
   ]
  },
  {
   "cell_type": "code",
   "execution_count": 23,
   "id": "549fbec2",
   "metadata": {},
   "outputs": [
    {
     "data": {
      "image/png": "[encoded data removed]",
      "text/plain": [
       "<Figure size 576x396 with 1 Axes>"
      ]
     },
     "metadata": {},
     "output_type": "display_data"
    }
   ],
   "source": [
    "num_entities = [len(ents) for ents in property_to_entities.values()]\n",
    "num_entities = np.array(num_entities)\n",
    "plt.hist(num_entities, bins=500)\n",
    "plt.yscale(\"log\")\n",
    "plt.xlabel(\"Number of properties\")\n",
    "plt.ylabel(\"Number of entities\")\n",
    "plt.show()"
   ]
  },
  {
   "cell_type": "markdown",
   "id": "196c3aa4",
   "metadata": {},
   "source": [
    "## Most frequent properties"
   ]
  },
  {
   "cell_type": "code",
   "execution_count": 24,
   "id": "1b36f6a4",
   "metadata": {},
   "outputs": [
    {
     "data": {
      "text/plain": [
       "[('Freebase ID', 14474),\n",
       " ('instance of', 13809),\n",
       " ('Commons category', 10229),\n",
       " ('image', 8428),\n",
       " (\"topic's main category\", 7680),\n",
       " ('country', 7259),\n",
       " ('Library of Congress authority ID', 6733),\n",
       " ('VIAF ID', 6312),\n",
       " ('official website', 6033),\n",
       " ('WorldCat Identities ID', 5562),\n",
       " ('Quora topic ID', 5548),\n",
       " ('inception', 5198),\n",
       " ('National Library of Israel J9U ID', 5096),\n",
       " ('GND ID', 5054),\n",
       " ('Encyclopædia Britannica Online ID', 4929),\n",
       " ('sport', 4750),\n",
       " ('sex or gender', 3767),\n",
       " ('coordinate location', 3749),\n",
       " ('occupation', 3729),\n",
       " ('date of birth', 3704)]"
      ]
     },
     "execution_count": 24,
     "metadata": {},
     "output_type": "execute_result"
    }
   ],
   "source": [
    "property_to_num_entities = {\n",
    "    p: len(ents)\n",
    "    for p, ents in sorted(property_to_entities.items(), key=lambda x: len(x[1]), reverse=True)\n",
    "}\n",
    "[(property_ids_to_labels[p], count) for p, count in property_to_num_entities.items()][:20]"
   ]
  },
  {
   "cell_type": "code",
   "execution_count": 25,
   "id": "3209ef3b",
   "metadata": {},
   "outputs": [
    {
     "name": "stdout",
     "output_type": "stream",
     "text": [
      "Freebase ID\n",
      "instance of\n",
      "Commons category\n",
      "image\n",
      "topic's main category\n",
      "country\n",
      "Library of Congress authority ID\n",
      "VIAF ID\n",
      "official website\n",
      "WorldCat Identities ID\n",
      "Quora topic ID\n",
      "inception\n",
      "National Library of Israel J9U ID\n",
      "GND ID\n",
      "Encyclopædia Britannica Online ID\n"
     ]
    }
   ],
   "source": [
    "stop_properties = list(property_to_num_entities.keys())[:15]\n",
    "print(\"\\n\".join(property_ids_to_labels[p] for p in stop_properties))\n",
    "stop_properties = set(stop_properties)"
   ]
  },
  {
   "cell_type": "code",
   "execution_count": 26,
   "id": "5c89fdfc",
   "metadata": {},
   "outputs": [],
   "source": [
    "def get_properties_from_wikipedia(title, stop_properties=[]):\n",
    "    if title not in wikipedia_to_wikidata:\n",
    "        return []\n",
    "    wids = wikipedia_to_wikidata[title]\n",
    "    return [p for wid in wids for p in entity_to_properties[wid] if p not in stop_properties]\n",
    "\n",
    "wikipedia_to_properties = {\n",
    "    e: get_properties_from_wikipedia(e, stop_properties=stop_properties)\n",
    "    for e in all_entities\n",
    "}"
   ]
  },
  {
   "cell_type": "code",
   "execution_count": 27,
   "id": "a34b44f1",
   "metadata": {},
   "outputs": [
    {
     "data": {
      "image/png": "[encoded data removed]",
      "text/plain": [
       "<Figure size 576x396 with 1 Axes>"
      ]
     },
     "metadata": {},
     "output_type": "display_data"
    }
   ],
   "source": [
    "num_properties = [len(properties) for e, properties in wikipedia_to_properties.items()]\n",
    "num_properties = np.array(num_properties)\n",
    "plt.hist(num_properties, bins=400)\n",
    "plt.xlabel(\"Number of entities\")\n",
    "plt.ylabel(\"Number of properties\")\n",
    "plt.title(\"Distribution after removing frequent properties\")\n",
    "plt.show()"
   ]
  },
  {
   "cell_type": "code",
   "execution_count": 28,
   "id": "5fe565e6",
   "metadata": {},
   "outputs": [
    {
     "name": "stdout",
     "output_type": "stream",
     "text": [
      "Entities with no properties: 263 out of 14864 (0.0177)\n"
     ]
    }
   ],
   "source": [
    "noprops = sum(num_properties == 0)\n",
    "print(f\"Entities with no properties: {noprops} out of {len(all_entities)} ({noprops / len(all_entities):.4f})\")"
   ]
  },
  {
   "cell_type": "markdown",
   "id": "6a854673",
   "metadata": {},
   "source": [
    "# Duck similarity (Jaccard)"
   ]
  },
  {
   "cell_type": "code",
   "execution_count": 29,
   "id": "e1d29eb8",
   "metadata": {},
   "outputs": [],
   "source": [
    "min_support = 3"
   ]
  },
  {
   "cell_type": "code",
   "execution_count": 30,
   "id": "7588517d",
   "metadata": {},
   "outputs": [
    {
     "name": "stdout",
     "output_type": "stream",
     "text": [
      "Coverage: 0.9323196986006459\n"
     ]
    }
   ],
   "source": [
    "coverage = 1 - (sum(num_properties < min_support) / len(all_entities))\n",
    "print(f\"Coverage: {coverage}\")"
   ]
  },
  {
   "cell_type": "code",
   "execution_count": 31,
   "id": "41d7ad98",
   "metadata": {},
   "outputs": [],
   "source": [
    "def duck_similarity(e1, e2, min_support=3):\n",
    "    r1 = set(wikipedia_to_properties[e1])\n",
    "    r2 = set(wikipedia_to_properties[e2])\n",
    "    if len(r1) < min_support and len(r2) < min_support:\n",
    "        return 0\n",
    "    return len(r1 & r2) / len(r1 | r2)"
   ]
  },
  {
   "cell_type": "code",
   "execution_count": 32,
   "id": "c14ec99a",
   "metadata": {},
   "outputs": [],
   "source": [
    "duck_sim_path = Path(f\"/fsx/matzeni/data/duck_jaccard_support{min_support}.pkl\")\n",
    "\n",
    "duck_similarities = {}\n",
    "\n",
    "if duck_sim_path.exists():\n",
    "    with open(duck_sim_path, 'rb') as f:\n",
    "        duck_similarities = pickle.load(f)\n",
    "else:\n",
    "    for i, e1 in tqdm(enumerate(all_entities), total=len(all_entities)):\n",
    "        for j in range(i + 1, len(all_entities)):\n",
    "            e2 = all_entities[j]\n",
    "            duck_similarities[(e1, e2)] = duck_similarity(e1, e2, min_support=min_support)"
   ]
  },
  {
   "cell_type": "code",
   "execution_count": 33,
   "id": "778e09ba",
   "metadata": {},
   "outputs": [
    {
     "name": "stderr",
     "output_type": "stream",
     "text": [
      "100%|██████████████████████████████████████████████████████████████████████████████████████████████████████████████████| 110461816/110461816 [00:42<00:00, 2610276.00it/s]\n"
     ]
    }
   ],
   "source": [
    "df = pd.DataFrame(\n",
    "    ((k[0], k[1], v)\n",
    "    for k, v in tqdm(duck_similarities.items())),\n",
    "    columns=[\"e1\", \"e2\", \"duck_score\"]\n",
    ")\n",
    "df = df.sort_values(by=\"duck_score\", ascending=False)"
   ]
  },
  {
   "cell_type": "code",
   "execution_count": 34,
   "id": "db64e11c",
   "metadata": {
    "scrolled": false
   },
   "outputs": [
    {
     "data": {
      "image/png": "[encoded data removed]",
      "text/plain": [
       "<Figure size 576x396 with 1 Axes>"
      ]
     },
     "metadata": {},
     "output_type": "display_data"
    },
    {
     "data": {
      "image/png": "[encoded data removed]",
      "text/plain": [
       "<Figure size 576x396 with 1 Axes>"
      ]
     },
     "metadata": {},
     "output_type": "display_data"
    }
   ],
   "source": [
    "plt.hist(df['duck_score'], bins=100)\n",
    "plt.yscale('log')\n",
    "plt.ylabel('Number of entities')\n",
    "plt.xlabel('Duck similarity (Jaccard)')\n",
    "plt.show()\n",
    "\n",
    "plt.hist(df['duck_score'], bins=100, cumulative=True, density=True)\n",
    "plt.xlabel('Duck similarity (Jaccard)')\n",
    "plt.title('Cumulative distribution')\n",
    "plt.show()"
   ]
  },
  {
   "cell_type": "code",
   "execution_count": 35,
   "id": "3e566dff",
   "metadata": {},
   "outputs": [
    {
     "data": {
      "text/html": [
       "<div>\n",
       "<style scoped>\n",
       "    .dataframe tbody tr th:only-of-type {\n",
       "        vertical-align: middle;\n",
       "    }\n",
       "\n",
       "    .dataframe tbody tr th {\n",
       "        vertical-align: top;\n",
       "    }\n",
       "\n",
       "    .dataframe thead th {\n",
       "        text-align: right;\n",
       "    }\n",
       "</style>\n",
       "<table border=\"1\" class=\"dataframe\">\n",
       "  <thead>\n",
       "    <tr style=\"text-align: right;\">\n",
       "      <th></th>\n",
       "      <th>e1</th>\n",
       "      <th>e2</th>\n",
       "      <th>duck_score</th>\n",
       "    </tr>\n",
       "  </thead>\n",
       "  <tbody>\n",
       "    <tr>\n",
       "      <th>83077105</th>\n",
       "      <td>London Borough of Harrow</td>\n",
       "      <td>London Borough of Hammersmith and Fulham</td>\n",
       "      <td>0.686275</td>\n",
       "    </tr>\n",
       "    <tr>\n",
       "      <th>65918318</th>\n",
       "      <td>Thailand</td>\n",
       "      <td>Cuba</td>\n",
       "      <td>0.686275</td>\n",
       "    </tr>\n",
       "    <tr>\n",
       "      <th>30914690</th>\n",
       "      <td>Philippines</td>\n",
       "      <td>Slovenia</td>\n",
       "      <td>0.686275</td>\n",
       "    </tr>\n",
       "    <tr>\n",
       "      <th>68969076</th>\n",
       "      <td>Hastings</td>\n",
       "      <td>Worthing</td>\n",
       "      <td>0.686275</td>\n",
       "    </tr>\n",
       "    <tr>\n",
       "      <th>75890249</th>\n",
       "      <td>Sertraline</td>\n",
       "      <td>Eflornithine</td>\n",
       "      <td>0.686275</td>\n",
       "    </tr>\n",
       "    <tr>\n",
       "      <th>52849376</th>\n",
       "      <td>Okaloosa County, Florida</td>\n",
       "      <td>Palm Beach County, Florida</td>\n",
       "      <td>0.686275</td>\n",
       "    </tr>\n",
       "    <tr>\n",
       "      <th>54450623</th>\n",
       "      <td>Bowling Green, Kentucky</td>\n",
       "      <td>Knoxville, Tennessee</td>\n",
       "      <td>0.686275</td>\n",
       "    </tr>\n",
       "    <tr>\n",
       "      <th>60148625</th>\n",
       "      <td>Angola</td>\n",
       "      <td>Egypt</td>\n",
       "      <td>0.686275</td>\n",
       "    </tr>\n",
       "    <tr>\n",
       "      <th>46424101</th>\n",
       "      <td>Senegal</td>\n",
       "      <td>Algeria</td>\n",
       "      <td>0.686275</td>\n",
       "    </tr>\n",
       "    <tr>\n",
       "      <th>65926421</th>\n",
       "      <td>Cambodia</td>\n",
       "      <td>Republic of the Congo</td>\n",
       "      <td>0.686275</td>\n",
       "    </tr>\n",
       "    <tr>\n",
       "      <th>40276636</th>\n",
       "      <td>Republic of Macedonia</td>\n",
       "      <td>Portugal</td>\n",
       "      <td>0.686275</td>\n",
       "    </tr>\n",
       "    <tr>\n",
       "      <th>105407811</th>\n",
       "      <td>County Donegal</td>\n",
       "      <td>County Limerick</td>\n",
       "      <td>0.686275</td>\n",
       "    </tr>\n",
       "    <tr>\n",
       "      <th>105409107</th>\n",
       "      <td>County Donegal</td>\n",
       "      <td>County Kildare</td>\n",
       "      <td>0.686275</td>\n",
       "    </tr>\n",
       "    <tr>\n",
       "      <th>110287050</th>\n",
       "      <td>Silicon</td>\n",
       "      <td>Selenium</td>\n",
       "      <td>0.686275</td>\n",
       "    </tr>\n",
       "    <tr>\n",
       "      <th>49455700</th>\n",
       "      <td>Costa Rica</td>\n",
       "      <td>Norway</td>\n",
       "      <td>0.686275</td>\n",
       "    </tr>\n",
       "    <tr>\n",
       "      <th>94257974</th>\n",
       "      <td>Veliko Tarnovo</td>\n",
       "      <td>Ruse, Bulgaria</td>\n",
       "      <td>0.686275</td>\n",
       "    </tr>\n",
       "    <tr>\n",
       "      <th>65815371</th>\n",
       "      <td>Ronald de Boer</td>\n",
       "      <td>Aron Winter</td>\n",
       "      <td>0.686275</td>\n",
       "    </tr>\n",
       "    <tr>\n",
       "      <th>101063608</th>\n",
       "      <td>Hampton, Virginia</td>\n",
       "      <td>Roanoke, Virginia</td>\n",
       "      <td>0.686275</td>\n",
       "    </tr>\n",
       "    <tr>\n",
       "      <th>41674531</th>\n",
       "      <td>Manatee County, Florida</td>\n",
       "      <td>Palm Beach County, Florida</td>\n",
       "      <td>0.686275</td>\n",
       "    </tr>\n",
       "    <tr>\n",
       "      <th>14561986</th>\n",
       "      <td>Leuprorelin</td>\n",
       "      <td>Triamterene</td>\n",
       "      <td>0.686275</td>\n",
       "    </tr>\n",
       "    <tr>\n",
       "      <th>41249137</th>\n",
       "      <td>East Timor</td>\n",
       "      <td>Panama</td>\n",
       "      <td>0.686275</td>\n",
       "    </tr>\n",
       "    <tr>\n",
       "      <th>64527408</th>\n",
       "      <td>London Borough of Ealing</td>\n",
       "      <td>London Borough of Haringey</td>\n",
       "      <td>0.686275</td>\n",
       "    </tr>\n",
       "    <tr>\n",
       "      <th>76359555</th>\n",
       "      <td>Turkey</td>\n",
       "      <td>Ethiopia</td>\n",
       "      <td>0.686275</td>\n",
       "    </tr>\n",
       "    <tr>\n",
       "      <th>81539251</th>\n",
       "      <td>Libya</td>\n",
       "      <td>Bulgaria</td>\n",
       "      <td>0.686275</td>\n",
       "    </tr>\n",
       "    <tr>\n",
       "      <th>6741419</th>\n",
       "      <td>Ernie Els</td>\n",
       "      <td>Nick Faldo</td>\n",
       "      <td>0.686275</td>\n",
       "    </tr>\n",
       "    <tr>\n",
       "      <th>51607573</th>\n",
       "      <td>Patrick Rafter</td>\n",
       "      <td>Todd Woodbridge</td>\n",
       "      <td>0.686275</td>\n",
       "    </tr>\n",
       "    <tr>\n",
       "      <th>44449251</th>\n",
       "      <td>Kenya</td>\n",
       "      <td>Turkey</td>\n",
       "      <td>0.686275</td>\n",
       "    </tr>\n",
       "    <tr>\n",
       "      <th>91289947</th>\n",
       "      <td>Indonesia</td>\n",
       "      <td>Mauritania</td>\n",
       "      <td>0.686192</td>\n",
       "    </tr>\n",
       "    <tr>\n",
       "      <th>102887589</th>\n",
       "      <td>Cyprus</td>\n",
       "      <td>Syria</td>\n",
       "      <td>0.686192</td>\n",
       "    </tr>\n",
       "    <tr>\n",
       "      <th>100377575</th>\n",
       "      <td>Uzbekistan</td>\n",
       "      <td>Georgia (country)</td>\n",
       "      <td>0.686192</td>\n",
       "    </tr>\n",
       "    <tr>\n",
       "      <th>55037793</th>\n",
       "      <td>Saudi Arabia</td>\n",
       "      <td>Rwanda</td>\n",
       "      <td>0.686192</td>\n",
       "    </tr>\n",
       "    <tr>\n",
       "      <th>80724519</th>\n",
       "      <td>Slovakia</td>\n",
       "      <td>Jordan</td>\n",
       "      <td>0.686192</td>\n",
       "    </tr>\n",
       "    <tr>\n",
       "      <th>3447129</th>\n",
       "      <td>Albania</td>\n",
       "      <td>Portugal</td>\n",
       "      <td>0.686131</td>\n",
       "    </tr>\n",
       "    <tr>\n",
       "      <th>44457092</th>\n",
       "      <td>Kenya</td>\n",
       "      <td>Brunei</td>\n",
       "      <td>0.686099</td>\n",
       "    </tr>\n",
       "    <tr>\n",
       "      <th>2192399</th>\n",
       "      <td>Kazakhstan</td>\n",
       "      <td>Sudan</td>\n",
       "      <td>0.686099</td>\n",
       "    </tr>\n",
       "    <tr>\n",
       "      <th>35144656</th>\n",
       "      <td>Barbados</td>\n",
       "      <td>Angola</td>\n",
       "      <td>0.686099</td>\n",
       "    </tr>\n",
       "    <tr>\n",
       "      <th>40278658</th>\n",
       "      <td>Republic of Macedonia</td>\n",
       "      <td>United Arab Emirates</td>\n",
       "      <td>0.686099</td>\n",
       "    </tr>\n",
       "    <tr>\n",
       "      <th>76357068</th>\n",
       "      <td>Turkey</td>\n",
       "      <td>Bolivia</td>\n",
       "      <td>0.686047</td>\n",
       "    </tr>\n",
       "    <tr>\n",
       "      <th>61384719</th>\n",
       "      <td>Bosnia and Herzegovina</td>\n",
       "      <td>Egypt</td>\n",
       "      <td>0.686047</td>\n",
       "    </tr>\n",
       "    <tr>\n",
       "      <th>32698938</th>\n",
       "      <td>Azerbaijan</td>\n",
       "      <td>Indonesia</td>\n",
       "      <td>0.686047</td>\n",
       "    </tr>\n",
       "    <tr>\n",
       "      <th>82138952</th>\n",
       "      <td>Viva Zapata!</td>\n",
       "      <td>Crossfire (film)</td>\n",
       "      <td>0.686047</td>\n",
       "    </tr>\n",
       "    <tr>\n",
       "      <th>77731292</th>\n",
       "      <td>Bangladesh</td>\n",
       "      <td>Iran</td>\n",
       "      <td>0.686047</td>\n",
       "    </tr>\n",
       "    <tr>\n",
       "      <th>26771506</th>\n",
       "      <td>Denmark</td>\n",
       "      <td>Cuba</td>\n",
       "      <td>0.686047</td>\n",
       "    </tr>\n",
       "    <tr>\n",
       "      <th>10474912</th>\n",
       "      <td>Paraguay</td>\n",
       "      <td>Mexico</td>\n",
       "      <td>0.686047</td>\n",
       "    </tr>\n",
       "    <tr>\n",
       "      <th>77731636</th>\n",
       "      <td>Bangladesh</td>\n",
       "      <td>Croatia</td>\n",
       "      <td>0.686047</td>\n",
       "    </tr>\n",
       "    <tr>\n",
       "      <th>91921339</th>\n",
       "      <td>Morocco</td>\n",
       "      <td>Venezuela</td>\n",
       "      <td>0.686047</td>\n",
       "    </tr>\n",
       "    <tr>\n",
       "      <th>60133771</th>\n",
       "      <td>Mexico</td>\n",
       "      <td>Czech Republic</td>\n",
       "      <td>0.686007</td>\n",
       "    </tr>\n",
       "    <tr>\n",
       "      <th>75740409</th>\n",
       "      <td>Hungary</td>\n",
       "      <td>Algeria</td>\n",
       "      <td>0.686007</td>\n",
       "    </tr>\n",
       "    <tr>\n",
       "      <th>88784451</th>\n",
       "      <td>Poland</td>\n",
       "      <td>Algeria</td>\n",
       "      <td>0.686007</td>\n",
       "    </tr>\n",
       "    <tr>\n",
       "      <th>103692030</th>\n",
       "      <td>Jordan</td>\n",
       "      <td>Armenia</td>\n",
       "      <td>0.685950</td>\n",
       "    </tr>\n",
       "  </tbody>\n",
       "</table>\n",
       "</div>"
      ],
      "text/plain": [
       "                                 e1                                        e2  \\\n",
       "83077105   London Borough of Harrow  London Borough of Hammersmith and Fulham   \n",
       "65918318                   Thailand                                      Cuba   \n",
       "30914690                Philippines                                  Slovenia   \n",
       "68969076                   Hastings                                  Worthing   \n",
       "75890249                 Sertraline                              Eflornithine   \n",
       "52849376   Okaloosa County, Florida                Palm Beach County, Florida   \n",
       "54450623    Bowling Green, Kentucky                      Knoxville, Tennessee   \n",
       "60148625                     Angola                                     Egypt   \n",
       "46424101                    Senegal                                   Algeria   \n",
       "65926421                   Cambodia                     Republic of the Congo   \n",
       "40276636      Republic of Macedonia                                  Portugal   \n",
       "105407811            County Donegal                           County Limerick   \n",
       "105409107            County Donegal                            County Kildare   \n",
       "110287050                   Silicon                                  Selenium   \n",
       "49455700                 Costa Rica                                    Norway   \n",
       "94257974             Veliko Tarnovo                            Ruse, Bulgaria   \n",
       "65815371             Ronald de Boer                               Aron Winter   \n",
       "101063608         Hampton, Virginia                         Roanoke, Virginia   \n",
       "41674531    Manatee County, Florida                Palm Beach County, Florida   \n",
       "14561986                Leuprorelin                               Triamterene   \n",
       "41249137                 East Timor                                    Panama   \n",
       "64527408   London Borough of Ealing                London Borough of Haringey   \n",
       "76359555                     Turkey                                  Ethiopia   \n",
       "81539251                      Libya                                  Bulgaria   \n",
       "6741419                   Ernie Els                                Nick Faldo   \n",
       "51607573             Patrick Rafter                           Todd Woodbridge   \n",
       "44449251                      Kenya                                    Turkey   \n",
       "91289947                  Indonesia                                Mauritania   \n",
       "102887589                    Cyprus                                     Syria   \n",
       "100377575                Uzbekistan                         Georgia (country)   \n",
       "55037793               Saudi Arabia                                    Rwanda   \n",
       "80724519                   Slovakia                                    Jordan   \n",
       "3447129                     Albania                                  Portugal   \n",
       "44457092                      Kenya                                    Brunei   \n",
       "2192399                  Kazakhstan                                     Sudan   \n",
       "35144656                   Barbados                                    Angola   \n",
       "40278658      Republic of Macedonia                      United Arab Emirates   \n",
       "76357068                     Turkey                                   Bolivia   \n",
       "61384719     Bosnia and Herzegovina                                     Egypt   \n",
       "32698938                 Azerbaijan                                 Indonesia   \n",
       "82138952               Viva Zapata!                          Crossfire (film)   \n",
       "77731292                 Bangladesh                                      Iran   \n",
       "26771506                    Denmark                                      Cuba   \n",
       "10474912                   Paraguay                                    Mexico   \n",
       "77731636                 Bangladesh                                   Croatia   \n",
       "91921339                    Morocco                                 Venezuela   \n",
       "60133771                     Mexico                            Czech Republic   \n",
       "75740409                    Hungary                                   Algeria   \n",
       "88784451                     Poland                                   Algeria   \n",
       "103692030                    Jordan                                   Armenia   \n",
       "\n",
       "           duck_score  \n",
       "83077105     0.686275  \n",
       "65918318     0.686275  \n",
       "30914690     0.686275  \n",
       "68969076     0.686275  \n",
       "75890249     0.686275  \n",
       "52849376     0.686275  \n",
       "54450623     0.686275  \n",
       "60148625     0.686275  \n",
       "46424101     0.686275  \n",
       "65926421     0.686275  \n",
       "40276636     0.686275  \n",
       "105407811    0.686275  \n",
       "105409107    0.686275  \n",
       "110287050    0.686275  \n",
       "49455700     0.686275  \n",
       "94257974     0.686275  \n",
       "65815371     0.686275  \n",
       "101063608    0.686275  \n",
       "41674531     0.686275  \n",
       "14561986     0.686275  \n",
       "41249137     0.686275  \n",
       "64527408     0.686275  \n",
       "76359555     0.686275  \n",
       "81539251     0.686275  \n",
       "6741419      0.686275  \n",
       "51607573     0.686275  \n",
       "44449251     0.686275  \n",
       "91289947     0.686192  \n",
       "102887589    0.686192  \n",
       "100377575    0.686192  \n",
       "55037793     0.686192  \n",
       "80724519     0.686192  \n",
       "3447129      0.686131  \n",
       "44457092     0.686099  \n",
       "2192399      0.686099  \n",
       "35144656     0.686099  \n",
       "40278658     0.686099  \n",
       "76357068     0.686047  \n",
       "61384719     0.686047  \n",
       "32698938     0.686047  \n",
       "82138952     0.686047  \n",
       "77731292     0.686047  \n",
       "26771506     0.686047  \n",
       "10474912     0.686047  \n",
       "77731636     0.686047  \n",
       "91921339     0.686047  \n",
       "60133771     0.686007  \n",
       "75740409     0.686007  \n",
       "88784451     0.686007  \n",
       "103692030    0.685950  "
      ]
     },
     "execution_count": 35,
     "metadata": {},
     "output_type": "execute_result"
    }
   ],
   "source": [
    "df.head(100000).tail(50)"
   ]
  },
  {
   "cell_type": "code",
   "execution_count": 36,
   "id": "2afa7265",
   "metadata": {},
   "outputs": [
    {
     "data": {
      "text/plain": [
       "0.6310975609756098"
      ]
     },
     "execution_count": 36,
     "metadata": {},
     "output_type": "execute_result"
    }
   ],
   "source": [
    "duck_similarity('United Kingdom', 'Italy')"
   ]
  },
  {
   "cell_type": "code",
   "execution_count": 37,
   "id": "0cea5773",
   "metadata": {},
   "outputs": [
    {
     "ename": "TypeError",
     "evalue": "expected str, bytes or os.PathLike object, not bool",
     "output_type": "error",
     "traceback": [
      "\u001b[0;31m---------------------------------------------------------------------------\u001b[0m",
      "\u001b[0;31mTypeError\u001b[0m                                 Traceback (most recent call last)",
      "\u001b[0;32m/tmp/ipykernel_2546754/2098093755.py\u001b[0m in \u001b[0;36m<module>\u001b[0;34m\u001b[0m\n\u001b[0;32m----> 1\u001b[0;31m \u001b[0;32mif\u001b[0m \u001b[0;32mnot\u001b[0m \u001b[0mPath\u001b[0m\u001b[0;34m(\u001b[0m\u001b[0mduck_sim_path\u001b[0m\u001b[0;34m.\u001b[0m\u001b[0mexists\u001b[0m\u001b[0;34m(\u001b[0m\u001b[0;34m)\u001b[0m\u001b[0;34m)\u001b[0m\u001b[0;34m:\u001b[0m\u001b[0;34m\u001b[0m\u001b[0;34m\u001b[0m\u001b[0m\n\u001b[0m\u001b[1;32m      2\u001b[0m     \u001b[0;32mwith\u001b[0m \u001b[0mopen\u001b[0m\u001b[0;34m(\u001b[0m\u001b[0mduck_sim_path\u001b[0m\u001b[0;34m,\u001b[0m \u001b[0;34m\"wb\"\u001b[0m\u001b[0;34m)\u001b[0m \u001b[0;32mas\u001b[0m \u001b[0mf\u001b[0m\u001b[0;34m:\u001b[0m\u001b[0;34m\u001b[0m\u001b[0;34m\u001b[0m\u001b[0m\n\u001b[1;32m      3\u001b[0m         \u001b[0mpickle\u001b[0m\u001b[0;34m.\u001b[0m\u001b[0mdump\u001b[0m\u001b[0;34m(\u001b[0m\u001b[0mduck_similarities\u001b[0m\u001b[0;34m,\u001b[0m \u001b[0mf\u001b[0m\u001b[0;34m)\u001b[0m\u001b[0;34m\u001b[0m\u001b[0;34m\u001b[0m\u001b[0m\n",
      "\u001b[0;32m/fsx/matzeni/anconda3/envs/duck/lib/python3.9/pathlib.py\u001b[0m in \u001b[0;36m__new__\u001b[0;34m(cls, *args, **kwargs)\u001b[0m\n\u001b[1;32m   1080\u001b[0m         \u001b[0;32mif\u001b[0m \u001b[0mcls\u001b[0m \u001b[0;32mis\u001b[0m \u001b[0mPath\u001b[0m\u001b[0;34m:\u001b[0m\u001b[0;34m\u001b[0m\u001b[0;34m\u001b[0m\u001b[0m\n\u001b[1;32m   1081\u001b[0m             \u001b[0mcls\u001b[0m \u001b[0;34m=\u001b[0m \u001b[0mWindowsPath\u001b[0m \u001b[0;32mif\u001b[0m \u001b[0mos\u001b[0m\u001b[0;34m.\u001b[0m\u001b[0mname\u001b[0m \u001b[0;34m==\u001b[0m \u001b[0;34m'nt'\u001b[0m \u001b[0;32melse\u001b[0m \u001b[0mPosixPath\u001b[0m\u001b[0;34m\u001b[0m\u001b[0;34m\u001b[0m\u001b[0m\n\u001b[0;32m-> 1082\u001b[0;31m         \u001b[0mself\u001b[0m \u001b[0;34m=\u001b[0m \u001b[0mcls\u001b[0m\u001b[0;34m.\u001b[0m\u001b[0m_from_parts\u001b[0m\u001b[0;34m(\u001b[0m\u001b[0margs\u001b[0m\u001b[0;34m,\u001b[0m \u001b[0minit\u001b[0m\u001b[0;34m=\u001b[0m\u001b[0;32mFalse\u001b[0m\u001b[0;34m)\u001b[0m\u001b[0;34m\u001b[0m\u001b[0;34m\u001b[0m\u001b[0m\n\u001b[0m\u001b[1;32m   1083\u001b[0m         \u001b[0;32mif\u001b[0m \u001b[0;32mnot\u001b[0m \u001b[0mself\u001b[0m\u001b[0;34m.\u001b[0m\u001b[0m_flavour\u001b[0m\u001b[0;34m.\u001b[0m\u001b[0mis_supported\u001b[0m\u001b[0;34m:\u001b[0m\u001b[0;34m\u001b[0m\u001b[0;34m\u001b[0m\u001b[0m\n\u001b[1;32m   1084\u001b[0m             raise NotImplementedError(\"cannot instantiate %r on your system\"\n",
      "\u001b[0;32m/fsx/matzeni/anconda3/envs/duck/lib/python3.9/pathlib.py\u001b[0m in \u001b[0;36m_from_parts\u001b[0;34m(cls, args, init)\u001b[0m\n\u001b[1;32m    705\u001b[0m         \u001b[0;31m# right flavour.\u001b[0m\u001b[0;34m\u001b[0m\u001b[0;34m\u001b[0m\u001b[0m\n\u001b[1;32m    706\u001b[0m         \u001b[0mself\u001b[0m \u001b[0;34m=\u001b[0m \u001b[0mobject\u001b[0m\u001b[0;34m.\u001b[0m\u001b[0m__new__\u001b[0m\u001b[0;34m(\u001b[0m\u001b[0mcls\u001b[0m\u001b[0;34m)\u001b[0m\u001b[0;34m\u001b[0m\u001b[0;34m\u001b[0m\u001b[0m\n\u001b[0;32m--> 707\u001b[0;31m         \u001b[0mdrv\u001b[0m\u001b[0;34m,\u001b[0m \u001b[0mroot\u001b[0m\u001b[0;34m,\u001b[0m \u001b[0mparts\u001b[0m \u001b[0;34m=\u001b[0m \u001b[0mself\u001b[0m\u001b[0;34m.\u001b[0m\u001b[0m_parse_args\u001b[0m\u001b[0;34m(\u001b[0m\u001b[0margs\u001b[0m\u001b[0;34m)\u001b[0m\u001b[0;34m\u001b[0m\u001b[0;34m\u001b[0m\u001b[0m\n\u001b[0m\u001b[1;32m    708\u001b[0m         \u001b[0mself\u001b[0m\u001b[0;34m.\u001b[0m\u001b[0m_drv\u001b[0m \u001b[0;34m=\u001b[0m \u001b[0mdrv\u001b[0m\u001b[0;34m\u001b[0m\u001b[0;34m\u001b[0m\u001b[0m\n\u001b[1;32m    709\u001b[0m         \u001b[0mself\u001b[0m\u001b[0;34m.\u001b[0m\u001b[0m_root\u001b[0m \u001b[0;34m=\u001b[0m \u001b[0mroot\u001b[0m\u001b[0;34m\u001b[0m\u001b[0;34m\u001b[0m\u001b[0m\n",
      "\u001b[0;32m/fsx/matzeni/anconda3/envs/duck/lib/python3.9/pathlib.py\u001b[0m in \u001b[0;36m_parse_args\u001b[0;34m(cls, args)\u001b[0m\n\u001b[1;32m    689\u001b[0m                 \u001b[0mparts\u001b[0m \u001b[0;34m+=\u001b[0m \u001b[0ma\u001b[0m\u001b[0;34m.\u001b[0m\u001b[0m_parts\u001b[0m\u001b[0;34m\u001b[0m\u001b[0;34m\u001b[0m\u001b[0m\n\u001b[1;32m    690\u001b[0m             \u001b[0;32melse\u001b[0m\u001b[0;34m:\u001b[0m\u001b[0;34m\u001b[0m\u001b[0;34m\u001b[0m\u001b[0m\n\u001b[0;32m--> 691\u001b[0;31m                 \u001b[0ma\u001b[0m \u001b[0;34m=\u001b[0m \u001b[0mos\u001b[0m\u001b[0;34m.\u001b[0m\u001b[0mfspath\u001b[0m\u001b[0;34m(\u001b[0m\u001b[0ma\u001b[0m\u001b[0;34m)\u001b[0m\u001b[0;34m\u001b[0m\u001b[0;34m\u001b[0m\u001b[0m\n\u001b[0m\u001b[1;32m    692\u001b[0m                 \u001b[0;32mif\u001b[0m \u001b[0misinstance\u001b[0m\u001b[0;34m(\u001b[0m\u001b[0ma\u001b[0m\u001b[0;34m,\u001b[0m \u001b[0mstr\u001b[0m\u001b[0;34m)\u001b[0m\u001b[0;34m:\u001b[0m\u001b[0;34m\u001b[0m\u001b[0;34m\u001b[0m\u001b[0m\n\u001b[1;32m    693\u001b[0m                     \u001b[0;31m# Force-cast str subclasses to str (issue #21127)\u001b[0m\u001b[0;34m\u001b[0m\u001b[0;34m\u001b[0m\u001b[0m\n",
      "\u001b[0;31mTypeError\u001b[0m: expected str, bytes or os.PathLike object, not bool"
     ]
    }
   ],
   "source": [
    "if not Path(duck_sim_path.exists()):\n",
    "    with open(duck_sim_path, \"wb\") as f:\n",
    "        pickle.dump(duck_similarities, f)"
   ]
  },
  {
   "cell_type": "code",
   "execution_count": null,
   "id": "dc354503",
   "metadata": {},
   "outputs": [],
   "source": []
  }
 ],
 "metadata": {
  "kernelspec": {
   "display_name": "Python [conda env:duck]",
   "language": "python",
   "name": "conda-env-duck-py"
  },
  "language_info": {
   "codemirror_mode": {
    "name": "ipython",
    "version": 3
   },
   "file_extension": ".py",
   "mimetype": "text/x-python",
   "name": "python",
   "nbconvert_exporter": "python",
   "pygments_lexer": "ipython3",
   "version": "3.9.7"
  }
 },
 "nbformat": 4,
 "nbformat_minor": 5
}
