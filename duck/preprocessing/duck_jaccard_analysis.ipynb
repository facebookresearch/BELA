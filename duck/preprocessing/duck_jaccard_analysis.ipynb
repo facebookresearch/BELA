{
 "cells": [
  {
   "cell_type": "markdown",
   "id": "d4df13f0",
   "metadata": {},
   "source": [
    "# Data Analysis and Jaccard Duck Score"
   ]
  },
  {
   "cell_type": "code",
   "execution_count": 1,
   "id": "60136d11",
   "metadata": {},
   "outputs": [
    {
     "name": "stderr",
     "output_type": "stream",
     "text": [
      "/data/home/matzeni/miniconda3/envs/duck/lib/python3.9/site-packages/tqdm/auto.py:22: TqdmWarning: IProgress not found. Please update jupyter and ipywidgets. See https://ipywidgets.readthedocs.io/en/stable/user_install.html\n",
      "  from .autonotebook import tqdm as notebook_tqdm\n"
     ]
    }
   ],
   "source": [
    "import torch\n",
    "import pickle\n",
    "from pathlib import Path\n",
    "import requests\n",
    "import json\n",
    "from xml.dom import minidom\n",
    "from tqdm import tqdm\n",
    "import time\n",
    "from matplotlib import pyplot as plt\n",
    "import numpy as np\n",
    "import pandas as pd"
   ]
  },
  {
   "cell_type": "code",
   "execution_count": 2,
   "id": "b22df9e0",
   "metadata": {},
   "outputs": [],
   "source": [
    "plt.style.use('seaborn-v0_8')\n",
    "plt.rcParams['axes.labelsize'] = 'large'\n",
    "plt.rcParams['axes.titlesize'] = 'x-large'\n",
    "plt.rcParams['xtick.labelsize'] = 'medium'\n",
    "plt.rcParams['ytick.labelsize'] = 'medium'"
   ]
  },
  {
   "cell_type": "markdown",
   "id": "eeb35358",
   "metadata": {},
   "source": [
    "## Loading data"
   ]
  },
  {
   "cell_type": "code",
   "execution_count": 3,
   "id": "3fa187b2",
   "metadata": {},
   "outputs": [],
   "source": [
    "with open(\"/fsx/matzeni/data/entity_to_properties.pkl\", \"rb\") as f:\n",
    "    entity_to_properties = pickle.load(f)\n",
    "\n",
    "with open(\"/fsx/matzeni/data/property_ids_to_labels.pkl\", \"rb\") as f:\n",
    "    property_ids_to_labels = pickle.load(f)"
   ]
  },
  {
   "cell_type": "code",
   "execution_count": 4,
   "id": "48b53a6d",
   "metadata": {},
   "outputs": [],
   "source": [
    "label_to_property_id = {v: k for k, v in property_ids_to_labels.items()}"
   ]
  },
  {
   "cell_type": "code",
   "execution_count": 5,
   "id": "6dc823c4",
   "metadata": {},
   "outputs": [],
   "source": [
    "wikipedia_to_wikidata_path = Path(\"/fsx/matzeni/data/en_title2wikidataID.pkl\")\n",
    "with open(wikipedia_to_wikidata_path, \"rb\") as f:\n",
    "    wikipedia_to_wikidata = pickle.load(f)"
   ]
  },
  {
   "cell_type": "code",
   "execution_count": 6,
   "id": "c962d8a4",
   "metadata": {},
   "outputs": [],
   "source": [
    "wikidata_to_wikipedia = {\n",
    "    wid: title\n",
    "    for title, wids in wikipedia_to_wikidata.items()\n",
    "    for wid in wids\n",
    "}"
   ]
  },
  {
   "cell_type": "code",
   "execution_count": 7,
   "id": "82b26521",
   "metadata": {},
   "outputs": [],
   "source": [
    "def read_entities():\n",
    "    ned_dataset_paths = list(Path(\"/fsx/matzeni/WNED/wned-datasets/\").rglob(\"*.xml\"))\n",
    "    entities = []\n",
    "    for dataset_path in ned_dataset_paths:\n",
    "        dom = minidom.parse(str(dataset_path))\n",
    "        current_entities = [\n",
    "            element.childNodes[0].nodeValue for element in dom.getElementsByTagName(\"wikiName\")\n",
    "            if len(element.childNodes) > 0\n",
    "        ]\n",
    "        current_entities = [e.strip() for e in current_entities if e is not None and e.strip() != \"\"]\n",
    "        entities += current_entities\n",
    "    return entities"
   ]
  },
  {
   "cell_type": "code",
   "execution_count": 8,
   "id": "4d77708b",
   "metadata": {},
   "outputs": [],
   "source": [
    "def resolve_mention(mention):\n",
    "    if mention not in wikipedia_to_wikidata:\n",
    "        return None\n",
    "    wids = wikipedia_to_wikidata[mention]\n",
    "    if len(wids) == 1:\n",
    "        return list(wids)[0]\n",
    "    for wid in wids:\n",
    "        if wid in entity_to_properties:\n",
    "            return wid\n",
    "    return None"
   ]
  },
  {
   "cell_type": "code",
   "execution_count": 9,
   "id": "a7ff7dcc",
   "metadata": {},
   "outputs": [],
   "source": [
    "def readable_properties(wid):\n",
    "    pids = entity_to_properties[wid]\n",
    "    return [property_ids_to_labels[pid] for pid in pids]"
   ]
  },
  {
   "cell_type": "code",
   "execution_count": 10,
   "id": "50772c08",
   "metadata": {},
   "outputs": [],
   "source": [
    "all_entities = list(set(read_entities()))"
   ]
  },
  {
   "cell_type": "markdown",
   "id": "0308497d",
   "metadata": {},
   "source": [
    "## Distribution of properties and entities"
   ]
  },
  {
   "cell_type": "code",
   "execution_count": 11,
   "id": "83182398",
   "metadata": {},
   "outputs": [
    {
     "name": "stdout",
     "output_type": "stream",
     "text": [
      "Numer of entites: 14864\n"
     ]
    }
   ],
   "source": [
    "print(f\"Numer of entites: {len(all_entities)}\")"
   ]
  },
  {
   "cell_type": "code",
   "execution_count": 12,
   "id": "6ef454f9",
   "metadata": {},
   "outputs": [
    {
     "data": {
      "image/png": "[encoded data removed]",
      "text/plain": [
       "<Figure size 800x550 with 1 Axes>"
      ]
     },
     "metadata": {},
     "output_type": "display_data"
    }
   ],
   "source": [
    "num_properties = [len(properties) for e, properties in entity_to_properties.items()]\n",
    "num_properties = np.array(num_properties)\n",
    "plt.hist(num_properties, bins=400)\n",
    "plt.xlabel(\"Number of entities\")\n",
    "plt.ylabel(\"Number of properties\")\n",
    "plt.show()"
   ]
  },
  {
   "cell_type": "code",
   "execution_count": 13,
   "id": "616eaa11",
   "metadata": {},
   "outputs": [
    {
     "name": "stdout",
     "output_type": "stream",
     "text": [
      "Entities with no properties: 33 out of 14864 (0.0022)\n",
      "\n",
      "Avergage number of properties per entity: 38.01\n"
     ]
    }
   ],
   "source": [
    "noprops = sum(num_properties == 0)\n",
    "print(f\"Entities with no properties: {noprops} out of {len(all_entities)} ({noprops / len(all_entities):.4f})\")\n",
    "print()\n",
    "avg_props = sum(num_properties) / len(num_properties)\n",
    "print(f\"Avergage number of properties per entity: {avg_props:.2f}\")"
   ]
  },
  {
   "cell_type": "code",
   "execution_count": 14,
   "id": "8f0d8fcf",
   "metadata": {},
   "outputs": [],
   "source": [
    "all_properties = {p for pids in entity_to_properties.values() for p in pids}\n",
    "property_to_entities = {p: set() for p in all_properties}\n",
    "for e, pids in entity_to_properties.items():\n",
    "    for pid in pids:\n",
    "        property_to_entities[pid].add(e)"
   ]
  },
  {
   "cell_type": "code",
   "execution_count": 15,
   "id": "549fbec2",
   "metadata": {},
   "outputs": [
    {
     "data": {
      "image/png": "[encoded data removed]",
      "text/plain": [
       "<Figure size 800x550 with 1 Axes>"
      ]
     },
     "metadata": {},
     "output_type": "display_data"
    }
   ],
   "source": [
    "num_entities = [len(ents) for ents in property_to_entities.values()]\n",
    "num_entities = np.array(num_entities)\n",
    "plt.hist(num_entities, bins=500)\n",
    "plt.yscale(\"log\")\n",
    "plt.xlabel(\"Number of properties\")\n",
    "plt.ylabel(\"Number of entities\")\n",
    "plt.show()"
   ]
  },
  {
   "cell_type": "markdown",
   "id": "196c3aa4",
   "metadata": {},
   "source": [
    "## Most frequent properties"
   ]
  },
  {
   "cell_type": "code",
   "execution_count": 16,
   "id": "1b36f6a4",
   "metadata": {},
   "outputs": [
    {
     "data": {
      "text/plain": [
       "[('Freebase ID', 14474),\n",
       " ('instance of', 13809),\n",
       " ('Commons category', 10229),\n",
       " ('image', 8428),\n",
       " (\"topic's main category\", 7680),\n",
       " ('country', 7259),\n",
       " ('Library of Congress authority ID', 6733),\n",
       " ('VIAF ID', 6312),\n",
       " ('official website', 6033),\n",
       " ('WorldCat Identities ID', 5562),\n",
       " ('Quora topic ID', 5548),\n",
       " ('inception', 5198),\n",
       " ('National Library of Israel J9U ID', 5096),\n",
       " ('GND ID', 5054),\n",
       " ('Encyclopædia Britannica Online ID', 4929),\n",
       " ('sport', 4750),\n",
       " ('sex or gender', 3767),\n",
       " ('coordinate location', 3749),\n",
       " ('occupation', 3729),\n",
       " ('date of birth', 3704)]"
      ]
     },
     "execution_count": 16,
     "metadata": {},
     "output_type": "execute_result"
    }
   ],
   "source": [
    "property_to_num_entities = {\n",
    "    p: len(ents)\n",
    "    for p, ents in sorted(property_to_entities.items(), key=lambda x: len(x[1]), reverse=True)\n",
    "}\n",
    "[(property_ids_to_labels[p], count) for p, count in property_to_num_entities.items()][:20]"
   ]
  },
  {
   "cell_type": "code",
   "execution_count": 17,
   "id": "3209ef3b",
   "metadata": {},
   "outputs": [
    {
     "name": "stdout",
     "output_type": "stream",
     "text": [
      "Freebase ID\n",
      "instance of\n",
      "Commons category\n",
      "image\n",
      "topic's main category\n",
      "country\n",
      "Library of Congress authority ID\n",
      "VIAF ID\n",
      "official website\n",
      "WorldCat Identities ID\n",
      "Quora topic ID\n",
      "inception\n",
      "National Library of Israel J9U ID\n",
      "GND ID\n",
      "Encyclopædia Britannica Online ID\n"
     ]
    }
   ],
   "source": [
    "stop_properties = list(property_to_num_entities.keys())[:15]\n",
    "print(\"\\n\".join(property_ids_to_labels[p] for p in stop_properties))\n",
    "stop_properties = set(stop_properties)"
   ]
  },
  {
   "cell_type": "code",
   "execution_count": 18,
   "id": "5c89fdfc",
   "metadata": {},
   "outputs": [],
   "source": [
    "def get_properties_from_wikipedia(title, stop_properties=[]):\n",
    "    if title not in wikipedia_to_wikidata:\n",
    "        return []\n",
    "    wids = wikipedia_to_wikidata[title]\n",
    "    return [p for wid in wids for p in entity_to_properties[wid] if p not in stop_properties]\n",
    "\n",
    "wikipedia_to_properties = {\n",
    "    e: get_properties_from_wikipedia(e, stop_properties=stop_properties)\n",
    "    for e in all_entities\n",
    "}"
   ]
  },
  {
   "cell_type": "code",
   "execution_count": 19,
   "id": "a34b44f1",
   "metadata": {},
   "outputs": [
    {
     "data": {
      "image/png": "[encoded data removed]",
      "text/plain": [
       "<Figure size 800x550 with 1 Axes>"
      ]
     },
     "metadata": {},
     "output_type": "display_data"
    }
   ],
   "source": [
    "num_properties = [len(properties) for e, properties in wikipedia_to_properties.items()]\n",
    "num_properties = np.array(num_properties)\n",
    "plt.hist(num_properties, bins=400)\n",
    "plt.xlabel(\"Number of entities\")\n",
    "plt.ylabel(\"Number of properties\")\n",
    "plt.title(\"Distribution after removing frequent properties\")\n",
    "plt.show()"
   ]
  },
  {
   "cell_type": "code",
   "execution_count": 20,
   "id": "5fe565e6",
   "metadata": {},
   "outputs": [
    {
     "name": "stdout",
     "output_type": "stream",
     "text": [
      "Entities with no properties: 263 out of 14864 (0.0177)\n"
     ]
    }
   ],
   "source": [
    "noprops = sum(num_properties == 0)\n",
    "print(f\"Entities with no properties: {noprops} out of {len(all_entities)} ({noprops / len(all_entities):.4f})\")"
   ]
  },
  {
   "cell_type": "markdown",
   "id": "6a854673",
   "metadata": {},
   "source": [
    "# Duck similarity (Jaccard)"
   ]
  },
  {
   "cell_type": "code",
   "execution_count": 21,
   "id": "e1d29eb8",
   "metadata": {},
   "outputs": [],
   "source": [
    "min_support = 3"
   ]
  },
  {
   "cell_type": "code",
   "execution_count": 22,
   "id": "7588517d",
   "metadata": {},
   "outputs": [
    {
     "name": "stdout",
     "output_type": "stream",
     "text": [
      "Coverage: 0.9323196986006459\n"
     ]
    }
   ],
   "source": [
    "coverage = 1 - (sum(num_properties < min_support) / len(all_entities))\n",
    "print(f\"Coverage: {coverage}\")"
   ]
  },
  {
   "cell_type": "code",
   "execution_count": 23,
   "id": "41d7ad98",
   "metadata": {},
   "outputs": [],
   "source": [
    "def duck_similarity(e1, e2, min_support=3):\n",
    "    r1 = set(wikipedia_to_properties[e1])\n",
    "    r2 = set(wikipedia_to_properties[e2])\n",
    "    if len(r1) < min_support and len(r2) < min_support:\n",
    "        return 0\n",
    "    return len(r1 & r2) / len(r1 | r2)"
   ]
  },
  {
   "cell_type": "code",
   "execution_count": 24,
   "id": "c14ec99a",
   "metadata": {},
   "outputs": [
    {
     "ename": "KeyboardInterrupt",
     "evalue": "",
     "output_type": "error",
     "traceback": [
      "\u001b[0;31m---------------------------------------------------------------------------\u001b[0m",
      "\u001b[0;31mKeyboardInterrupt\u001b[0m                         Traceback (most recent call last)",
      "Input \u001b[0;32mIn [24]\u001b[0m, in \u001b[0;36m<cell line: 5>\u001b[0;34m()\u001b[0m\n\u001b[1;32m      5\u001b[0m \u001b[38;5;28;01mif\u001b[39;00m duck_sim_path\u001b[38;5;241m.\u001b[39mexists():\n\u001b[1;32m      6\u001b[0m     \u001b[38;5;28;01mwith\u001b[39;00m \u001b[38;5;28mopen\u001b[39m(duck_sim_path, \u001b[38;5;124m'\u001b[39m\u001b[38;5;124mrb\u001b[39m\u001b[38;5;124m'\u001b[39m) \u001b[38;5;28;01mas\u001b[39;00m f:\n\u001b[0;32m----> 7\u001b[0m         duck_similarities \u001b[38;5;241m=\u001b[39m \u001b[43mpickle\u001b[49m\u001b[38;5;241;43m.\u001b[39;49m\u001b[43mload\u001b[49m\u001b[43m(\u001b[49m\u001b[43mf\u001b[49m\u001b[43m)\u001b[49m\n\u001b[1;32m      8\u001b[0m \u001b[38;5;28;01melse\u001b[39;00m:\n\u001b[1;32m      9\u001b[0m     \u001b[38;5;28;01mfor\u001b[39;00m i, e1 \u001b[38;5;129;01min\u001b[39;00m tqdm(\u001b[38;5;28menumerate\u001b[39m(all_entities), total\u001b[38;5;241m=\u001b[39m\u001b[38;5;28mlen\u001b[39m(all_entities)):\n",
      "\u001b[0;31mKeyboardInterrupt\u001b[0m: "
     ]
    }
   ],
   "source": [
    "duck_sim_path = Path(f\"/fsx/matzeni/data/duck_jaccard_support{min_support}.pkl\")\n",
    "\n",
    "duck_similarities = {}\n",
    "\n",
    "if duck_sim_path.exists():\n",
    "    with open(duck_sim_path, 'rb') as f:\n",
    "        duck_similarities = pickle.load(f)\n",
    "else:\n",
    "    for i, e1 in tqdm(enumerate(all_entities), total=len(all_entities)):\n",
    "        for j in range(i + 1, len(all_entities)):\n",
    "            e2 = all_entities[j]\n",
    "            duck_similarities[(e1, e2)] = duck_similarity(e1, e2, min_support=min_support)"
   ]
  },
  {
   "cell_type": "code",
   "execution_count": null,
   "id": "778e09ba",
   "metadata": {},
   "outputs": [],
   "source": [
    "df = pd.DataFrame(\n",
    "    ((k[0], k[1], v)\n",
    "    for k, v in tqdm(duck_similarities.items())),\n",
    "    columns=[\"e1\", \"e2\", \"duck_score\"]\n",
    ")\n",
    "df = df.sort_values(by=\"duck_score\", ascending=False)"
   ]
  },
  {
   "cell_type": "code",
   "execution_count": null,
   "id": "db64e11c",
   "metadata": {
    "scrolled": false
   },
   "outputs": [],
   "source": [
    "plt.hist(df['duck_score'], bins=100)\n",
    "plt.yscale('log')\n",
    "plt.ylabel('Number of entities')\n",
    "plt.xlabel('Duck similarity (Jaccard)')\n",
    "plt.show()\n",
    "\n",
    "plt.hist(df['duck_score'], bins=100, cumulative=True, density=True)\n",
    "plt.xlabel('Duck similarity (Jaccard)')\n",
    "plt.title('Cumulative distribution')\n",
    "plt.show()"
   ]
  },
  {
   "cell_type": "code",
   "execution_count": null,
   "id": "3e566dff",
   "metadata": {},
   "outputs": [],
   "source": [
    "df.head(100000).tail(50)"
   ]
  },
  {
   "cell_type": "code",
   "execution_count": null,
   "id": "2afa7265",
   "metadata": {},
   "outputs": [],
   "source": [
    "duck_similarity('United Kingdom', 'Italy')"
   ]
  },
  {
   "cell_type": "code",
   "execution_count": null,
   "id": "0cea5773",
   "metadata": {},
   "outputs": [],
   "source": [
    "with open(duck_sim_path, \"wb\") as f:\n",
    "    pickle.dump(duck_similarities, f)"
   ]
  },
  {
   "cell_type": "code",
   "execution_count": 27,
   "id": "a8f950ac",
   "metadata": {},
   "outputs": [
    {
     "data": {
      "text/plain": [
       "['P10234',\n",
       " 'P10291',\n",
       " 'P1036',\n",
       " 'P10397',\n",
       " 'P1082',\n",
       " 'P11012',\n",
       " 'P1151',\n",
       " 'P1225',\n",
       " 'P1245',\n",
       " 'P1281',\n",
       " 'P1296',\n",
       " 'P1299',\n",
       " 'P131',\n",
       " 'P1313',\n",
       " 'P1343',\n",
       " 'P1365',\n",
       " 'P1376',\n",
       " 'P1417',\n",
       " 'P1438',\n",
       " 'P1448',\n",
       " 'P1464',\n",
       " 'P1465',\n",
       " 'P1549',\n",
       " 'P1566',\n",
       " 'P1581',\n",
       " 'P1621',\n",
       " 'P166',\n",
       " 'P1667',\n",
       " 'P17',\n",
       " 'P1705',\n",
       " 'P1740',\n",
       " 'P1791',\n",
       " 'P1792',\n",
       " 'P18',\n",
       " 'P1842',\n",
       " 'P1889',\n",
       " 'P190',\n",
       " 'P1936',\n",
       " 'P1937',\n",
       " 'P1943',\n",
       " 'P1997',\n",
       " 'P2002',\n",
       " 'P2003',\n",
       " 'P2013',\n",
       " 'P2041',\n",
       " 'P2044',\n",
       " 'P2046',\n",
       " 'P206',\n",
       " 'P214',\n",
       " 'P2163',\n",
       " 'P2184',\n",
       " 'P227',\n",
       " 'P2347',\n",
       " 'P238',\n",
       " 'P242',\n",
       " 'P244',\n",
       " 'P2468',\n",
       " 'P2572',\n",
       " 'P2581',\n",
       " 'P2633',\n",
       " 'P268',\n",
       " 'P269',\n",
       " 'P2716',\n",
       " 'P281',\n",
       " 'P2924',\n",
       " 'P2950',\n",
       " 'P30',\n",
       " 'P300',\n",
       " 'P31',\n",
       " 'P3106',\n",
       " 'P3120',\n",
       " 'P3134',\n",
       " 'P3219',\n",
       " 'P3222',\n",
       " 'P3241',\n",
       " 'P3417',\n",
       " 'P3451',\n",
       " 'P3479',\n",
       " 'P349',\n",
       " 'P3509',\n",
       " 'P3553',\n",
       " 'P3615',\n",
       " 'P3616',\n",
       " 'P37',\n",
       " 'P373',\n",
       " 'P3911',\n",
       " 'P3984',\n",
       " 'P402',\n",
       " 'P4073',\n",
       " 'P409',\n",
       " 'P421',\n",
       " 'P4291',\n",
       " 'P4342',\n",
       " 'P443',\n",
       " 'P4613',\n",
       " 'P4672',\n",
       " 'P47',\n",
       " 'P473',\n",
       " 'P486',\n",
       " 'P5008',\n",
       " 'P5019',\n",
       " 'P5063',\n",
       " 'P5125',\n",
       " 'P5247',\n",
       " 'P5357',\n",
       " 'P5437',\n",
       " 'P5573',\n",
       " 'P571',\n",
       " 'P5737',\n",
       " 'P5739',\n",
       " 'P5843',\n",
       " 'P5905',\n",
       " 'P6',\n",
       " 'P6058',\n",
       " 'P610',\n",
       " 'P6104',\n",
       " 'P6200',\n",
       " 'P625',\n",
       " 'P6262',\n",
       " 'P6293',\n",
       " 'P6379',\n",
       " 'P6385',\n",
       " 'P6404',\n",
       " 'P646',\n",
       " 'P6573',\n",
       " 'P6698',\n",
       " 'P6766',\n",
       " 'P6821',\n",
       " 'P6849',\n",
       " 'P691',\n",
       " 'P6987',\n",
       " 'P706',\n",
       " 'P7305',\n",
       " 'P7502',\n",
       " 'P7666',\n",
       " 'P7818',\n",
       " 'P7822',\n",
       " 'P7827',\n",
       " 'P7829',\n",
       " 'P7832',\n",
       " 'P7850',\n",
       " 'P7859',\n",
       " 'P7867',\n",
       " 'P7870',\n",
       " 'P793',\n",
       " 'P7959',\n",
       " 'P7982',\n",
       " 'P8168',\n",
       " 'P8189',\n",
       " 'P8217',\n",
       " 'P8309',\n",
       " 'P8313',\n",
       " 'P8349',\n",
       " 'P8402',\n",
       " 'P8406',\n",
       " 'P8519',\n",
       " 'P856',\n",
       " 'P8590',\n",
       " 'P8592',\n",
       " 'P8672',\n",
       " 'P8687',\n",
       " 'P8744',\n",
       " 'P8814',\n",
       " 'P8826',\n",
       " 'P8885',\n",
       " 'P8974',\n",
       " 'P902',\n",
       " 'P9037',\n",
       " 'P910',\n",
       " 'P9100',\n",
       " 'P9123',\n",
       " 'P9223',\n",
       " 'P9241',\n",
       " 'P9293',\n",
       " 'P935',\n",
       " 'P9368',\n",
       " 'P9466',\n",
       " 'P948',\n",
       " 'P950',\n",
       " 'P9629',\n",
       " 'P9757',\n",
       " 'P982',\n",
       " 'P9957',\n",
       " 'P998']"
      ]
     },
     "execution_count": 27,
     "metadata": {},
     "output_type": "execute_result"
    }
   ],
   "source": [
    "london_id = list(wikipedia_to_wikidata['London'])[0]\n",
    "sorted(entity_to_properties[london_id])"
   ]
  },
  {
   "cell_type": "code",
   "execution_count": null,
   "id": "dc354503",
   "metadata": {},
   "outputs": [],
   "source": []
  }
 ],
 "metadata": {
  "kernelspec": {
   "display_name": "Python [conda env:duck]",
   "language": "python",
   "name": "conda-env-duck-py"
  },
  "language_info": {
   "codemirror_mode": {
    "name": "ipython",
    "version": 3
   },
   "file_extension": ".py",
   "mimetype": "text/x-python",
   "name": "python",
   "nbconvert_exporter": "python",
   "pygments_lexer": "ipython3",
   "version": "3.9.13"
  }
 },
 "nbformat": 4,
 "nbformat_minor": 5
}
