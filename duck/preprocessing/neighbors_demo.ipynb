{
 "cells": [
  {
   "cell_type": "code",
   "execution_count": null,
   "id": "42591bef",
   "metadata": {},
   "outputs": [],
   "source": [
    "import sys\n",
    "sys.path.append('/fsx/matzeni/duck')"
   ]
  },
  {
   "cell_type": "code",
   "execution_count": null,
   "id": "e7733e50",
   "metadata": {},
   "outputs": [],
   "source": [
    "import torch\n",
    "import h5py\n",
    "import json\n",
    "from pathlib import Path\n",
    "import pickle\n",
    "from tqdm import tqdm\n",
    "import logging\n",
    "from transformers import AutoTokenizer\n",
    "import numpy as np\n",
    "import faiss\n",
    "\n",
    "from mblink.utils.utils import EntityCatalogue\n",
    "from duck.datamodule import RelationCatalogue\n",
    "from duck.common.utils import load_json\n",
    "from duck.preprocessing.duck_index import DuckIndex\n",
    "from duck.common.utils import load_json\n",
    "\n",
    "logger = logging.getLogger()"
   ]
  },
  {
   "cell_type": "code",
   "execution_count": null,
   "id": "85568b3f",
   "metadata": {},
   "outputs": [],
   "source": [
    "with open('/fsx/matzeni/data/duck/duck_neighbors.json', 'r') as f:\n",
    "    duck_neighbors = json.load(f)"
   ]
  },
  {
   "cell_type": "code",
   "execution_count": null,
   "id": "738e6753",
   "metadata": {},
   "outputs": [],
   "source": [
    "def print_neighbors(entity, k=None):\n",
    "    neighbors = duck_neighbors[entity]\n",
    "    if k is not None:\n",
    "        neighbors = neighbors[:k]\n",
    "    neighbors_str = \"; \".join(neighbors)\n",
    "    print(f\"{entity}: {neighbors_str}\")"
   ]
  },
  {
   "cell_type": "code",
   "execution_count": null,
   "id": "697be6d7",
   "metadata": {},
   "outputs": [],
   "source": [
    "print_neighbors(\"Italy\")"
   ]
  },
  {
   "cell_type": "code",
   "execution_count": null,
   "id": "dde28d49",
   "metadata": {},
   "outputs": [],
   "source": [
    "print_neighbors(\"Donald Trump\")"
   ]
  },
  {
   "cell_type": "code",
   "execution_count": null,
   "id": "fdc402e7",
   "metadata": {},
   "outputs": [],
   "source": [
    "print_neighbors(\"Cristiano Ronaldo\")"
   ]
  },
  {
   "cell_type": "code",
   "execution_count": null,
   "id": "cb3debfb",
   "metadata": {},
   "outputs": [],
   "source": [
    "print_neighbors(\"Justin Bieber\")"
   ]
  },
  {
   "cell_type": "code",
   "execution_count": null,
   "id": "35ff62e0",
   "metadata": {},
   "outputs": [],
   "source": [
    "print_neighbors(\"London\")"
   ]
  },
  {
   "cell_type": "code",
   "execution_count": null,
   "id": "e01e6ea5",
   "metadata": {},
   "outputs": [],
   "source": [
    "print_neighbors(\"Rome\")"
   ]
  },
  {
   "cell_type": "code",
   "execution_count": null,
   "id": "971a7b4b",
   "metadata": {},
   "outputs": [],
   "source": [
    "print_neighbors(\"Lion\")"
   ]
  },
  {
   "cell_type": "code",
   "execution_count": null,
   "id": "37d77796",
   "metadata": {},
   "outputs": [],
   "source": [
    "print_neighbors(\"Jaguar\")"
   ]
  },
  {
   "cell_type": "code",
   "execution_count": null,
   "id": "464f3761",
   "metadata": {},
   "outputs": [],
   "source": [
    "print_neighbors(\"Jaguar Cars\")"
   ]
  },
  {
   "cell_type": "code",
   "execution_count": null,
   "id": "ce4de34c",
   "metadata": {},
   "outputs": [],
   "source": [
    "print_neighbors(\"Maserati\")"
   ]
  },
  {
   "cell_type": "code",
   "execution_count": null,
   "id": "f7915d93",
   "metadata": {},
   "outputs": [],
   "source": [
    "print_neighbors(\"Alan Turing\")"
   ]
  },
  {
   "cell_type": "code",
   "execution_count": null,
   "id": "d0c9d74f",
   "metadata": {},
   "outputs": [],
   "source": [
    "print_neighbors(\"Gianluigi Buffon\")"
   ]
  },
  {
   "cell_type": "code",
   "execution_count": null,
   "id": "a5146893",
   "metadata": {},
   "outputs": [],
   "source": [
    "print_neighbors(\"Ada Lovelace\")"
   ]
  },
  {
   "cell_type": "code",
   "execution_count": null,
   "id": "47773157",
   "metadata": {},
   "outputs": [],
   "source": [
    "print_neighbors(\"Alan Turing\")"
   ]
  },
  {
   "cell_type": "code",
   "execution_count": null,
   "id": "e0c114c2",
   "metadata": {},
   "outputs": [],
   "source": [
    "print_neighbors(\"Fields Medal\")"
   ]
  },
  {
   "cell_type": "code",
   "execution_count": null,
   "id": "5db998fa",
   "metadata": {},
   "outputs": [],
   "source": [
    "print_neighbors(\"Gracilinanus\")"
   ]
  },
  {
   "cell_type": "code",
   "execution_count": null,
   "id": "8757e6f1",
   "metadata": {},
   "outputs": [],
   "source": [
    "print_neighbors(\"Efren Reyes\")"
   ]
  },
  {
   "cell_type": "code",
   "execution_count": null,
   "id": "d281083e",
   "metadata": {},
   "outputs": [],
   "source": [
    "print_neighbors(\"Veliko Tarnovo\")"
   ]
  },
  {
   "cell_type": "code",
   "execution_count": null,
   "id": "f10bd77b",
   "metadata": {},
   "outputs": [],
   "source": []
  }
 ],
 "metadata": {
  "kernelspec": {
   "display_name": "Python [conda env:duck]",
   "language": "python",
   "name": "conda-env-duck-py"
  },
  "language_info": {
   "codemirror_mode": {
    "name": "ipython",
    "version": 3
   },
   "file_extension": ".py",
   "mimetype": "text/x-python",
   "name": "python",
   "nbconvert_exporter": "python",
   "pygments_lexer": "ipython3",
   "version": "3.9.7"
  }
 },
 "nbformat": 4,
 "nbformat_minor": 5
}
