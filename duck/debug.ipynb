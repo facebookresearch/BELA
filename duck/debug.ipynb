{
 "cells": [
  {
   "cell_type": "code",
   "execution_count": 1,
   "id": "a6458ce1",
   "metadata": {},
   "outputs": [],
   "source": [
    "import sys\n",
    "sys.path.append('/fsx/matzeni/duck')"
   ]
  },
  {
   "cell_type": "code",
   "execution_count": 2,
   "id": "42d5801f",
   "metadata": {},
   "outputs": [],
   "source": [
    "import torch\n",
    "import h5py\n",
    "import json\n",
    "from pathlib import Path\n",
    "import pickle\n",
    "from tqdm import tqdm\n",
    "import logging\n",
    "from transformers import AutoTokenizer\n",
    "from typing import Any, Dict, List, Optional, Tuple\n",
    "import copy\n",
    "from einops import rearrange, repeat\n",
    "import numpy as np\n",
    "from duck.box_tensors import BoxTensor\n",
    "from duck.task.duck_entity_disambiguation import Duck\n",
    "from hydra import compose, initialize\n",
    "import hydra\n",
    "from duck.common.utils import make_reproducible\n",
    "import collections\n",
    "import logging\n",
    "import math\n",
    "from duck.common.utils import load_json, load_jsonl\n",
    "from torch import nn\n",
    "from duck.modules import BoxEmbedding\n",
    "from duck.box_tensors.volume import Volume\n",
    "import random\n",
    "from duck.box_tensors.initializers.gaussian_margin import gaussian_margin_boxes\n",
    "import matplotlib.pyplot as plt\n",
    "logger = logging.getLogger()\n"
   ]
  },
  {
   "cell_type": "code",
   "execution_count": 20,
   "id": "fae5bed4",
   "metadata": {},
   "outputs": [],
   "source": [
    "# plt.style.use('seaborn')\n",
    "plt.rcParams['axes.labelsize'] = 'large'\n",
    "plt.rcParams['axes.titlesize'] = 'x-large'\n",
    "plt.rcParams['xtick.labelsize'] = 'medium'\n",
    "plt.rcParams['ytick.labelsize'] = 'medium'\n",
    "plt.rcParams['axes.spines.left'] = False\n",
    "plt.rcParams['axes.spines.right'] = False\n",
    "plt.rcParams['axes.spines.top'] = False\n",
    "plt.rcParams['axes.spines.bottom'] = False\n",
    "plt.rcParams['axes.grid'] = True\n",
    "plt.rcParams['grid.color'] = \"#dbdbdb\""
   ]
  },
  {
   "cell_type": "code",
   "execution_count": 96,
   "id": "98e851f5",
   "metadata": {},
   "outputs": [
    {
     "name": "stdout",
     "output_type": "stream",
     "text": [
      "tensor([[-8.7016, -8.9347, -7.8222,  ..., -7.3647, -8.6922, -8.9145],\n",
      "        [-8.8693, -5.2078, -7.8011,  ..., -8.7416, -7.0748, -8.2368],\n",
      "        [-7.2445, -8.3606, -8.9416,  ..., -7.6293, -8.4687, -7.0213],\n",
      "        [-9.7380, -7.9813, -8.3659,  ..., -8.3356, -7.1805, -8.4312],\n",
      "        [-6.0064, -8.7614, -8.2176,  ..., -8.0660, -8.8892, -7.5682]],\n",
      "       dtype=torch.float64) tensor([[ 7.3250,  7.3865,  7.3488,  ...,  8.8375,  7.6909,  7.4825],\n",
      "        [ 9.3142,  8.2616,  6.5398,  ...,  7.8690,  7.8455,  7.6521],\n",
      "        [10.7306,  8.0728,  7.9535,  ...,  9.7636,  7.5587,  7.8778],\n",
      "        [ 8.5217,  9.2732,  8.7377,  ...,  8.6750,  7.4433,  8.2359],\n",
      "        [ 8.5108,  7.9755,  6.9560,  ...,  7.8611,  7.2477,  9.2259]],\n",
      "       dtype=torch.float64)\n",
      "BoxTensor(\n",
      "\tleft=tensor([[1.6630e-04, 1.3172e-04, 4.0059e-04,  ..., 6.3281e-04, 1.6787e-04,\n",
      "         1.3441e-04],\n",
      "        [1.4062e-04, 5.4437e-03, 4.0913e-04,  ..., 1.5977e-04, 8.4541e-04,\n",
      "         2.6466e-04],\n",
      "        [7.1355e-04, 2.3385e-04, 1.3081e-04,  ..., 4.8578e-04, 2.0990e-04,\n",
      "         8.9186e-04],\n",
      "        [5.8996e-05, 3.4168e-04, 2.3262e-04,  ..., 2.3976e-04, 7.6070e-04,\n",
      "         2.1792e-04],\n",
      "        [2.4568e-03, 1.5664e-04, 2.6978e-04,  ..., 3.1393e-04, 1.3785e-04,\n",
      "         5.1636e-04]], dtype=torch.float64),\n",
      "\tright=tensor([[0.9993, 0.9994, 0.9994,  ..., 0.9999, 0.9995, 0.9994],\n",
      "        [0.9999, 0.9997, 0.9986,  ..., 0.9996, 0.9996, 0.9995],\n",
      "        [1.0000, 0.9997, 0.9996,  ..., 0.9999, 0.9995, 0.9996],\n",
      "        [0.9998, 0.9999, 0.9998,  ..., 0.9998, 0.9994, 0.9997],\n",
      "        [0.9998, 0.9997, 0.9990,  ..., 0.9996, 0.9993, 0.9999]],\n",
      "       dtype=torch.float64)\n",
      ")\n",
      "tensor(0.8926)\n",
      "Prob: tensor([0.3174, 0.3178, 0.3288, 0.3342, 0.3236], dtype=torch.float64)\n"
     ]
    }
   ],
   "source": [
    "size = 1024\n",
    "left, right = gaussian_margin_boxes(\n",
    "    dimensions=1024,\n",
    "    num_boxes=5,\n",
    "    minimum = -8,\n",
    "    maximum = +8,\n",
    "    stddev=1,\n",
    "    cut=False\n",
    ")\n",
    "vol = Volume(intersection_temperature=0.0001, volume_temperature=0.1)\n",
    "box = BoxTensor.sigmoid_constructor(left, right)\n",
    "print(left, right)\n",
    "print(box)\n",
    "universe = BoxTensor((\n",
    "    torch.zeros(size), torch.ones(size)\n",
    "))\n",
    "print(vol(universe).exp())\n",
    "print(\"Prob:\", (vol(box) - vol(universe)).exp())\n"
   ]
  },
  {
   "cell_type": "code",
   "execution_count": 108,
   "id": "0c566001",
   "metadata": {},
   "outputs": [
    {
     "data": {
      "image/png": "[encoded data removed]",
      "text/plain": [
       "<Figure size 720x432 with 1 Axes>"
      ]
     },
     "metadata": {
      "needs_background": "light"
     },
     "output_type": "display_data"
    }
   ],
   "source": [
    "plt.figure(figsize=(10, 6))\n",
    "plt.hist(right.view(-1).cpu().numpy(), density=True, color=\"#4fbfff\", bins=100)\n",
    "plt.hist(left.view(-1).cpu().numpy(), density=True, color=\"#8cff92\", bins=100)\n",
    "plt.xlabel(\"Parameter values\")\n",
    "x_sigmoid = torch.arange(-10, 10, 0.01)\n",
    "y_sigmoid = torch.sigmoid(x_sigmoid)\n",
    "# plt.plot(x_sigmoid, y_sigmoid)\n",
    "plt.show()"
   ]
  },
  {
   "cell_type": "code",
   "execution_count": 98,
   "id": "169f0861",
   "metadata": {},
   "outputs": [
    {
     "data": {
      "text/plain": [
       "tensor(8.0560, dtype=torch.float64)"
      ]
     },
     "execution_count": 98,
     "metadata": {},
     "output_type": "execute_result"
    }
   ],
   "source": [
    "torch.cat([left.view(-1), right.view(-1)]).std()"
   ]
  },
  {
   "cell_type": "code",
   "execution_count": 68,
   "id": "fec9d5db",
   "metadata": {},
   "outputs": [
    {
     "data": {
      "text/plain": [
       "0.02988071523335984"
      ]
     },
     "execution_count": 68,
     "metadata": {},
     "output_type": "execute_result"
    }
   ],
   "source": [
    "math.sqrt(1.0 / 1120)"
   ]
  },
  {
   "cell_type": "code",
   "execution_count": 70,
   "id": "6a0b511b",
   "metadata": {},
   "outputs": [
    {
     "data": {
      "text/plain": [
       "0.030542361089076306"
      ]
     },
     "execution_count": 70,
     "metadata": {},
     "output_type": "execute_result"
    }
   ],
   "source": [
    "math.sqrt(2.0 / float(1120 + 1024))"
   ]
  },
  {
   "cell_type": "code",
   "execution_count": 107,
   "id": "63cdb9aa",
   "metadata": {},
   "outputs": [
    {
     "data": {
      "text/plain": [
       "tensor(0.)"
      ]
     },
     "execution_count": 107,
     "metadata": {},
     "output_type": "execute_result"
    }
   ],
   "source": [
    "torch.sigmoid(torch.tensor(-100))"
   ]
  },
  {
   "cell_type": "code",
   "execution_count": 114,
   "id": "96c493d2",
   "metadata": {},
   "outputs": [
    {
     "data": {
      "text/plain": [
       "tensor(0.9998)"
      ]
     },
     "execution_count": 114,
     "metadata": {},
     "output_type": "execute_result"
    }
   ],
   "source": [
    "margin = 1e-7\n",
    "box = BoxTensor((\n",
    "    torch.zeros(1024) + margin,\n",
    "    torch.ones(1024) - margin\n",
    "))\n",
    "(vol(box) - vol(universe)).exp()"
   ]
  },
  {
   "cell_type": "code",
   "execution_count": null,
   "id": "3496202c",
   "metadata": {},
   "outputs": [],
   "source": []
  }
 ],
 "metadata": {
  "kernelspec": {
   "display_name": "Python [conda env:duck]",
   "language": "python",
   "name": "conda-env-duck-py"
  },
  "language_info": {
   "codemirror_mode": {
    "name": "ipython",
    "version": 3
   },
   "file_extension": ".py",
   "mimetype": "text/x-python",
   "name": "python",
   "nbconvert_exporter": "python",
   "pygments_lexer": "ipython3",
   "version": "3.9.7"
  }
 },
 "nbformat": 4,
 "nbformat_minor": 5
}
